{
 "cells": [
  {
   "cell_type": "code",
   "execution_count": 13,
   "metadata": {},
   "outputs": [],
   "source": [
    "import numpy as np\n",
    "import pandas as pd\n",
    "import plotly \n",
    "import datetime as dt\n",
    "import calendar\n",
    "import yfinance as yf"
   ]
  },
  {
   "cell_type": "code",
   "execution_count": 14,
   "metadata": {},
   "outputs": [],
   "source": [
    "usa_deaths_data = pd.read_csv(\"P1_df_usa_deaths_data.csv\")\n",
    "usa_disaster_data_year_month = pd.read_csv('P1_df_usa_disaster_data_year_month_data.csv')\n",
    "usa_jumps_data = pd.read_csv('P1_df_usa_jumps_data.csv')\n",
    "usa_jumps_year_month = pd.read_csv('P1_df_usa_jumps_year_month_data.csv')\n",
    "usa_gdp_cap_data = pd.read_csv('P1_usa_gdp_cap_data.csv')\n",
    "sector_jumps_data = pd.read_csv('sector_jumps.csv')\n",
    "death_affected = pd.read_csv('P1_df_usa_deaths_affected.csv')"
   ]
  },
  {
   "cell_type": "markdown",
   "metadata": {},
   "source": [
    "### YEAR AND TOTAL DEATHS"
   ]
  },
  {
   "cell_type": "code",
   "execution_count": 3,
   "metadata": {},
   "outputs": [
    {
     "data": {
      "text/html": [
       "<div>\n",
       "<style scoped>\n",
       "    .dataframe tbody tr th:only-of-type {\n",
       "        vertical-align: middle;\n",
       "    }\n",
       "\n",
       "    .dataframe tbody tr th {\n",
       "        vertical-align: top;\n",
       "    }\n",
       "\n",
       "    .dataframe thead th {\n",
       "        text-align: right;\n",
       "    }\n",
       "</style>\n",
       "<table border=\"1\" class=\"dataframe\">\n",
       "  <thead>\n",
       "    <tr style=\"text-align: right;\">\n",
       "      <th></th>\n",
       "      <th>year</th>\n",
       "      <th>total_deaths</th>\n",
       "    </tr>\n",
       "  </thead>\n",
       "  <tbody>\n",
       "    <tr>\n",
       "      <th>0</th>\n",
       "      <td>2000</td>\n",
       "      <td>162.0</td>\n",
       "    </tr>\n",
       "    <tr>\n",
       "      <th>1</th>\n",
       "      <td>2001</td>\n",
       "      <td>153.0</td>\n",
       "    </tr>\n",
       "    <tr>\n",
       "      <th>2</th>\n",
       "      <td>2002</td>\n",
       "      <td>444.0</td>\n",
       "    </tr>\n",
       "    <tr>\n",
       "      <th>3</th>\n",
       "      <td>2003</td>\n",
       "      <td>231.0</td>\n",
       "    </tr>\n",
       "    <tr>\n",
       "      <th>4</th>\n",
       "      <td>2004</td>\n",
       "      <td>219.0</td>\n",
       "    </tr>\n",
       "  </tbody>\n",
       "</table>\n",
       "</div>"
      ],
      "text/plain": [
       "   year  total_deaths\n",
       "0  2000         162.0\n",
       "1  2001         153.0\n",
       "2  2002         444.0\n",
       "3  2003         231.0\n",
       "4  2004         219.0"
      ]
     },
     "execution_count": 3,
     "metadata": {},
     "output_type": "execute_result"
    }
   ],
   "source": [
    "usa_deaths_data.head()"
   ]
  },
  {
   "cell_type": "markdown",
   "metadata": {},
   "source": [
    "### YEAR - MONTH / DEATHS & AFFECTED "
   ]
  },
  {
   "cell_type": "code",
   "execution_count": 15,
   "metadata": {},
   "outputs": [
    {
     "data": {
      "text/html": [
       "<div>\n",
       "<style scoped>\n",
       "    .dataframe tbody tr th:only-of-type {\n",
       "        vertical-align: middle;\n",
       "    }\n",
       "\n",
       "    .dataframe tbody tr th {\n",
       "        vertical-align: top;\n",
       "    }\n",
       "\n",
       "    .dataframe thead th {\n",
       "        text-align: right;\n",
       "    }\n",
       "</style>\n",
       "<table border=\"1\" class=\"dataframe\">\n",
       "  <thead>\n",
       "    <tr style=\"text-align: right;\">\n",
       "      <th></th>\n",
       "      <th>year</th>\n",
       "      <th>start_month</th>\n",
       "      <th>total_deaths</th>\n",
       "      <th>no_affected</th>\n",
       "    </tr>\n",
       "  </thead>\n",
       "  <tbody>\n",
       "    <tr>\n",
       "      <th>0</th>\n",
       "      <td>2000</td>\n",
       "      <td>1</td>\n",
       "      <td>5</td>\n",
       "      <td>0</td>\n",
       "    </tr>\n",
       "    <tr>\n",
       "      <th>1</th>\n",
       "      <td>2000</td>\n",
       "      <td>2</td>\n",
       "      <td>25</td>\n",
       "      <td>1731</td>\n",
       "    </tr>\n",
       "    <tr>\n",
       "      <th>2</th>\n",
       "      <td>2000</td>\n",
       "      <td>3</td>\n",
       "      <td>5</td>\n",
       "      <td>3000</td>\n",
       "    </tr>\n",
       "    <tr>\n",
       "      <th>3</th>\n",
       "      <td>2000</td>\n",
       "      <td>5</td>\n",
       "      <td>5</td>\n",
       "      <td>25840</td>\n",
       "    </tr>\n",
       "    <tr>\n",
       "      <th>4</th>\n",
       "      <td>2000</td>\n",
       "      <td>6</td>\n",
       "      <td>0</td>\n",
       "      <td>8800</td>\n",
       "    </tr>\n",
       "  </tbody>\n",
       "</table>\n",
       "</div>"
      ],
      "text/plain": [
       "   year  start_month  total_deaths  no_affected\n",
       "0  2000            1             5            0\n",
       "1  2000            2            25         1731\n",
       "2  2000            3             5         3000\n",
       "3  2000            5             5        25840\n",
       "4  2000            6             0         8800"
      ]
     },
     "execution_count": 15,
     "metadata": {},
     "output_type": "execute_result"
    }
   ],
   "source": [
    "usa_disaster_data_year_month.head()\n",
    "#usa_disaster_data_year_month.set_index('year',inplace=True)"
   ]
  },
  {
   "cell_type": "code",
   "execution_count": 5,
   "metadata": {},
   "outputs": [
    {
     "data": {
      "text/plain": [
       "7362"
      ]
     },
     "execution_count": 5,
     "metadata": {},
     "output_type": "execute_result"
    }
   ],
   "source": [
    "#usa_disaster_data_year_month['total_deaths'].sum()\n",
    "#usa_disaster_data_year_month.columns= ['year', 'month', 'total_deaths', 'no_affected']"
   ]
  },
  {
   "cell_type": "code",
   "execution_count": 9,
   "metadata": {},
   "outputs": [
    {
     "data": {
      "text/html": [
       "<div>\n",
       "<style scoped>\n",
       "    .dataframe tbody tr th:only-of-type {\n",
       "        vertical-align: middle;\n",
       "    }\n",
       "\n",
       "    .dataframe tbody tr th {\n",
       "        vertical-align: top;\n",
       "    }\n",
       "\n",
       "    .dataframe thead th {\n",
       "        text-align: right;\n",
       "    }\n",
       "</style>\n",
       "<table border=\"1\" class=\"dataframe\">\n",
       "  <thead>\n",
       "    <tr style=\"text-align: right;\">\n",
       "      <th></th>\n",
       "      <th>month</th>\n",
       "      <th>total_deaths</th>\n",
       "      <th>no_affected</th>\n",
       "    </tr>\n",
       "    <tr>\n",
       "      <th>year</th>\n",
       "      <th></th>\n",
       "      <th></th>\n",
       "      <th></th>\n",
       "    </tr>\n",
       "  </thead>\n",
       "  <tbody>\n",
       "    <tr>\n",
       "      <th>2000</th>\n",
       "      <td>1</td>\n",
       "      <td>5</td>\n",
       "      <td>0</td>\n",
       "    </tr>\n",
       "    <tr>\n",
       "      <th>2000</th>\n",
       "      <td>2</td>\n",
       "      <td>25</td>\n",
       "      <td>1731</td>\n",
       "    </tr>\n",
       "    <tr>\n",
       "      <th>2000</th>\n",
       "      <td>3</td>\n",
       "      <td>5</td>\n",
       "      <td>3000</td>\n",
       "    </tr>\n",
       "    <tr>\n",
       "      <th>2000</th>\n",
       "      <td>5</td>\n",
       "      <td>5</td>\n",
       "      <td>25840</td>\n",
       "    </tr>\n",
       "    <tr>\n",
       "      <th>2000</th>\n",
       "      <td>6</td>\n",
       "      <td>0</td>\n",
       "      <td>8800</td>\n",
       "    </tr>\n",
       "  </tbody>\n",
       "</table>\n",
       "</div>"
      ],
      "text/plain": [
       "      month  total_deaths  no_affected\n",
       "year                                  \n",
       "2000      1             5            0\n",
       "2000      2            25         1731\n",
       "2000      3             5         3000\n",
       "2000      5             5        25840\n",
       "2000      6             0         8800"
      ]
     },
     "execution_count": 9,
     "metadata": {},
     "output_type": "execute_result"
    }
   ],
   "source": [
    "usa_disaster_data_year_month.head()"
   ]
  },
  {
   "cell_type": "code",
   "execution_count": 16,
   "metadata": {},
   "outputs": [],
   "source": [
    "### USA JUMPS COUNT BY YEAR\n",
    "usa_disaster_data_year_month.drop(columns=['year', 'month'], inplace=True)\n",
    "\n",
    "usa_jumps_data\n",
    "usa_jumps_data.set_index('year', inplace=True)\n",
    "\n",
    "usa_disaster_data_year_month.set_index('Date', inplace=True)\n",
    "\n",
    "usa_disaster_data_year_month.head()\n",
    "\n",
    "usa_disaster_data_year_month = usa_disaster_data_year_month.rename(columns={'start_month':'month'})"
   ]
  },
  {
   "cell_type": "code",
   "execution_count": 17,
   "metadata": {},
   "outputs": [
    {
     "name": "stdout",
     "output_type": "stream",
     "text": [
      "2000 and 1\n",
      "2000 and 2\n",
      "2000 and 3\n",
      "2000 and 5\n",
      "2000 and 6\n",
      "2000 and 7\n",
      "2000 and 8\n",
      "2000 and 9\n",
      "2000 and 10\n",
      "2000 and 11\n",
      "2000 and 12\n",
      "2001 and 2\n",
      "2001 and 3\n",
      "2001 and 4\n",
      "2001 and 6\n",
      "2001 and 7\n",
      "2001 and 8\n",
      "2001 and 9\n",
      "2001 and 10\n",
      "2001 and 11\n",
      "2002 and 1\n",
      "2002 and 2\n",
      "2002 and 3\n",
      "2002 and 4\n",
      "2002 and 5\n",
      "2002 and 6\n",
      "2002 and 7\n",
      "2002 and 9\n",
      "2002 and 10\n",
      "2002 and 11\n",
      "2002 and 12\n",
      "2003 and 2\n",
      "2003 and 3\n",
      "2003 and 4\n",
      "2003 and 5\n",
      "2003 and 6\n",
      "2003 and 7\n",
      "2003 and 8\n",
      "2003 and 9\n",
      "2003 and 10\n",
      "2003 and 11\n",
      "2003 and 12\n",
      "2004 and 1\n",
      "2004 and 3\n",
      "2004 and 5\n",
      "2004 and 6\n",
      "2004 and 7\n",
      "2004 and 8\n",
      "2004 and 9\n",
      "2004 and 10\n",
      "2005 and 1\n",
      "2005 and 2\n",
      "2005 and 4\n",
      "2005 and 5\n",
      "2005 and 7\n",
      "2005 and 8\n",
      "2005 and 9\n",
      "2005 and 10\n",
      "2005 and 12\n",
      "2006 and 3\n",
      "2006 and 4\n",
      "2006 and 5\n",
      "2006 and 6\n",
      "2006 and 7\n",
      "2006 and 8\n",
      "2006 and 9\n",
      "2006 and 10\n",
      "2006 and 11\n",
      "2006 and 12\n",
      "2007 and 1\n",
      "2007 and 2\n",
      "2007 and 3\n",
      "2007 and 4\n",
      "2007 and 5\n",
      "2007 and 6\n",
      "2007 and 8\n",
      "2007 and 10\n",
      "2007 and 11\n",
      "2007 and 12\n",
      "2008 and 1\n",
      "2008 and 2\n",
      "2008 and 3\n",
      "2008 and 4\n",
      "2008 and 5\n",
      "2008 and 6\n",
      "2008 and 7\n",
      "2008 and 8\n",
      "2008 and 9\n",
      "2008 and 11\n",
      "2008 and 12\n",
      "2009 and 1\n",
      "2009 and 2\n",
      "2009 and 3\n",
      "2009 and 4\n",
      "2009 and 5\n",
      "2009 and 6\n",
      "2009 and 7\n",
      "2009 and 8\n",
      "2009 and 9\n",
      "2009 and 11\n",
      "2009 and 12\n",
      "2010 and 1\n",
      "2010 and 2\n",
      "2010 and 3\n",
      "2010 and 4\n",
      "2010 and 5\n",
      "2010 and 6\n",
      "2010 and 9\n",
      "2010 and 12\n",
      "2011 and 1\n",
      "2011 and 4\n",
      "2011 and 5\n",
      "2011 and 7\n",
      "2011 and 8\n",
      "2011 and 9\n",
      "2011 and 10\n",
      "2011 and 12\n",
      "2012 and 1\n",
      "2012 and 2\n",
      "2012 and 3\n",
      "2012 and 4\n",
      "2012 and 5\n",
      "2012 and 6\n",
      "2012 and 7\n",
      "2012 and 8\n",
      "2012 and 9\n",
      "2012 and 10\n",
      "2012 and 12\n",
      "2013 and 1\n",
      "2013 and 2\n",
      "2013 and 3\n",
      "2013 and 4\n",
      "2013 and 5\n",
      "2013 and 6\n",
      "2013 and 7\n",
      "2013 and 8\n",
      "2013 and 9\n",
      "2013 and 10\n",
      "2013 and 11\n",
      "2013 and 12\n",
      "2014 and 1\n",
      "2014 and 2\n",
      "2014 and 3\n",
      "2014 and 4\n",
      "2014 and 5\n",
      "2014 and 6\n",
      "2014 and 7\n",
      "2014 and 8\n",
      "2014 and 10\n",
      "2014 and 11\n",
      "2014 and 12\n",
      "2015 and 1\n",
      "2015 and 2\n",
      "2015 and 3\n",
      "2015 and 4\n",
      "2015 and 5\n",
      "2015 and 6\n",
      "2015 and 7\n",
      "2015 and 8\n",
      "2015 and 9\n",
      "2015 and 10\n",
      "2015 and 11\n",
      "2015 and 12\n",
      "2016 and 1\n",
      "2016 and 2\n",
      "2016 and 3\n",
      "2016 and 4\n",
      "2016 and 5\n",
      "2016 and 6\n",
      "2016 and 7\n",
      "2016 and 8\n",
      "2016 and 9\n",
      "2016 and 10\n",
      "2016 and 11\n",
      "2016 and 12\n",
      "2017 and 1\n",
      "2017 and 2\n",
      "2017 and 3\n",
      "2017 and 4\n",
      "2017 and 5\n",
      "2017 and 6\n",
      "2017 and 7\n",
      "2017 and 8\n",
      "2017 and 9\n",
      "2017 and 10\n",
      "2017 and 11\n",
      "2017 and 12\n",
      "2018 and 1\n",
      "2018 and 3\n",
      "2018 and 4\n",
      "2018 and 5\n",
      "2018 and 7\n",
      "2018 and 9\n",
      "2018 and 10\n",
      "2018 and 11\n",
      "2018 and 12\n",
      "2019 and 1\n",
      "2019 and 2\n",
      "2019 and 3\n",
      "2019 and 4\n",
      "2019 and 5\n",
      "2019 and 6\n",
      "2019 and 7\n",
      "2019 and 9\n",
      "2019 and 10\n",
      "2019 and 11\n",
      "2019 and 12\n",
      "2020 and 1\n",
      "2020 and 3\n",
      "2020 and 4\n"
     ]
    }
   ],
   "source": [
    "for x, y in usa_disaster_data_year_month.iterrows():\n",
    "    year=str(y[0])\n",
    "    month=str(y[1])\n",
    "    print(f'{year} and {month}')\n",
    "    usa_disaster_data_year_month.loc[x,'Date']=pd.to_datetime(year+'-'+month)"
   ]
  },
  {
   "cell_type": "code",
   "execution_count": 18,
   "metadata": {},
   "outputs": [],
   "source": []
  },
  {
   "cell_type": "markdown",
   "metadata": {},
   "source": [
    "## SECTOR JUMPS & CONCAT DISASTERS/AFFECTED"
   ]
  },
  {
   "cell_type": "code",
   "execution_count": 34,
   "metadata": {},
   "outputs": [
    {
     "data": {
      "text/html": [
       "<div>\n",
       "<style scoped>\n",
       "    .dataframe tbody tr th:only-of-type {\n",
       "        vertical-align: middle;\n",
       "    }\n",
       "\n",
       "    .dataframe tbody tr th {\n",
       "        vertical-align: top;\n",
       "    }\n",
       "\n",
       "    .dataframe thead th {\n",
       "        text-align: right;\n",
       "    }\n",
       "</style>\n",
       "<table border=\"1\" class=\"dataframe\">\n",
       "  <thead>\n",
       "    <tr style=\"text-align: right;\">\n",
       "      <th></th>\n",
       "      <th>CRSP Market Cap</th>\n",
       "      <th>Communications</th>\n",
       "      <th>Materials</th>\n",
       "      <th>Consumer Discretionary</th>\n",
       "      <th>Consumer Staples</th>\n",
       "      <th>Energy</th>\n",
       "      <th>Financials</th>\n",
       "      <th>Health Care</th>\n",
       "      <th>Industrial</th>\n",
       "      <th>Technology</th>\n",
       "      <th>Real Estate</th>\n",
       "      <th>Utilities</th>\n",
       "      <th>BioTech</th>\n",
       "      <th>Defense</th>\n",
       "      <th>Semiconductor</th>\n",
       "      <th>Home Construction</th>\n",
       "    </tr>\n",
       "    <tr>\n",
       "      <th>Date</th>\n",
       "      <th></th>\n",
       "      <th></th>\n",
       "      <th></th>\n",
       "      <th></th>\n",
       "      <th></th>\n",
       "      <th></th>\n",
       "      <th></th>\n",
       "      <th></th>\n",
       "      <th></th>\n",
       "      <th></th>\n",
       "      <th></th>\n",
       "      <th></th>\n",
       "      <th></th>\n",
       "      <th></th>\n",
       "      <th></th>\n",
       "      <th></th>\n",
       "    </tr>\n",
       "  </thead>\n",
       "  <tbody>\n",
       "    <tr>\n",
       "      <th>2000-01-04</th>\n",
       "      <td>-0.0384</td>\n",
       "      <td>NaN</td>\n",
       "      <td>NaN</td>\n",
       "      <td>NaN</td>\n",
       "      <td>NaN</td>\n",
       "      <td>NaN</td>\n",
       "      <td>NaN</td>\n",
       "      <td>NaN</td>\n",
       "      <td>-0.009627</td>\n",
       "      <td>-0.018823</td>\n",
       "      <td>-0.027627</td>\n",
       "      <td>-0.050733</td>\n",
       "      <td>-0.028159</td>\n",
       "      <td>-0.030165</td>\n",
       "      <td>-0.022692</td>\n",
       "      <td>-0.030083</td>\n",
       "    </tr>\n",
       "    <tr>\n",
       "      <th>2000-01-07</th>\n",
       "      <td>0.0322</td>\n",
       "      <td>NaN</td>\n",
       "      <td>NaN</td>\n",
       "      <td>NaN</td>\n",
       "      <td>NaN</td>\n",
       "      <td>NaN</td>\n",
       "      <td>NaN</td>\n",
       "      <td>NaN</td>\n",
       "      <td>-0.000569</td>\n",
       "      <td>0.010686</td>\n",
       "      <td>0.038101</td>\n",
       "      <td>0.017456</td>\n",
       "      <td>0.063395</td>\n",
       "      <td>0.008601</td>\n",
       "      <td>0.012208</td>\n",
       "      <td>0.047109</td>\n",
       "    </tr>\n",
       "    <tr>\n",
       "      <th>2000-01-24</th>\n",
       "      <td>-0.0272</td>\n",
       "      <td>NaN</td>\n",
       "      <td>NaN</td>\n",
       "      <td>NaN</td>\n",
       "      <td>NaN</td>\n",
       "      <td>NaN</td>\n",
       "      <td>NaN</td>\n",
       "      <td>NaN</td>\n",
       "      <td>-0.026399</td>\n",
       "      <td>-0.035445</td>\n",
       "      <td>-0.028682</td>\n",
       "      <td>-0.032634</td>\n",
       "      <td>-0.028801</td>\n",
       "      <td>-0.013453</td>\n",
       "      <td>-0.029844</td>\n",
       "      <td>-0.037318</td>\n",
       "    </tr>\n",
       "    <tr>\n",
       "      <th>2000-01-28</th>\n",
       "      <td>-0.0267</td>\n",
       "      <td>NaN</td>\n",
       "      <td>NaN</td>\n",
       "      <td>NaN</td>\n",
       "      <td>NaN</td>\n",
       "      <td>NaN</td>\n",
       "      <td>NaN</td>\n",
       "      <td>NaN</td>\n",
       "      <td>-0.017016</td>\n",
       "      <td>-0.011574</td>\n",
       "      <td>-0.026479</td>\n",
       "      <td>-0.035714</td>\n",
       "      <td>-0.008152</td>\n",
       "      <td>-0.005294</td>\n",
       "      <td>-0.020243</td>\n",
       "      <td>-0.039466</td>\n",
       "    </tr>\n",
       "    <tr>\n",
       "      <th>2000-02-18</th>\n",
       "      <td>-0.0300</td>\n",
       "      <td>NaN</td>\n",
       "      <td>NaN</td>\n",
       "      <td>NaN</td>\n",
       "      <td>NaN</td>\n",
       "      <td>NaN</td>\n",
       "      <td>NaN</td>\n",
       "      <td>NaN</td>\n",
       "      <td>-0.030619</td>\n",
       "      <td>-0.029176</td>\n",
       "      <td>-0.021919</td>\n",
       "      <td>-0.033784</td>\n",
       "      <td>-0.011611</td>\n",
       "      <td>-0.036747</td>\n",
       "      <td>-0.027478</td>\n",
       "      <td>-0.014779</td>\n",
       "    </tr>\n",
       "  </tbody>\n",
       "</table>\n",
       "</div>"
      ],
      "text/plain": [
       "            CRSP Market Cap  Communications  Materials  \\\n",
       "Date                                                     \n",
       "2000-01-04          -0.0384             NaN        NaN   \n",
       "2000-01-07           0.0322             NaN        NaN   \n",
       "2000-01-24          -0.0272             NaN        NaN   \n",
       "2000-01-28          -0.0267             NaN        NaN   \n",
       "2000-02-18          -0.0300             NaN        NaN   \n",
       "\n",
       "            Consumer Discretionary  Consumer Staples  Energy  Financials  \\\n",
       "Date                                                                       \n",
       "2000-01-04                     NaN               NaN     NaN         NaN   \n",
       "2000-01-07                     NaN               NaN     NaN         NaN   \n",
       "2000-01-24                     NaN               NaN     NaN         NaN   \n",
       "2000-01-28                     NaN               NaN     NaN         NaN   \n",
       "2000-02-18                     NaN               NaN     NaN         NaN   \n",
       "\n",
       "            Health Care  Industrial  Technology  Real Estate  Utilities  \\\n",
       "Date                                                                      \n",
       "2000-01-04          NaN   -0.009627   -0.018823    -0.027627  -0.050733   \n",
       "2000-01-07          NaN   -0.000569    0.010686     0.038101   0.017456   \n",
       "2000-01-24          NaN   -0.026399   -0.035445    -0.028682  -0.032634   \n",
       "2000-01-28          NaN   -0.017016   -0.011574    -0.026479  -0.035714   \n",
       "2000-02-18          NaN   -0.030619   -0.029176    -0.021919  -0.033784   \n",
       "\n",
       "             BioTech   Defense  Semiconductor  Home Construction  \n",
       "Date                                                              \n",
       "2000-01-04 -0.028159 -0.030165      -0.022692          -0.030083  \n",
       "2000-01-07  0.063395  0.008601       0.012208           0.047109  \n",
       "2000-01-24 -0.028801 -0.013453      -0.029844          -0.037318  \n",
       "2000-01-28 -0.008152 -0.005294      -0.020243          -0.039466  \n",
       "2000-02-18 -0.011611 -0.036747      -0.027478          -0.014779  "
      ]
     },
     "execution_count": 34,
     "metadata": {},
     "output_type": "execute_result"
    }
   ],
   "source": [
    "sector_jumps_data.head()"
   ]
  },
  {
   "cell_type": "code",
   "execution_count": 40,
   "metadata": {},
   "outputs": [],
   "source": [
    "#sector_jumps_data.set_index('Date', inplace=True)\n",
    "sector_jumps_data.index=pd.to_datetime(sector_jumps_data.index)\n",
    "#sector_jumps.drop(columns=['Date'], inplace=True)"
   ]
  },
  {
   "cell_type": "code",
   "execution_count": 41,
   "metadata": {},
   "outputs": [
    {
     "data": {
      "text/html": [
       "<div>\n",
       "<style scoped>\n",
       "    .dataframe tbody tr th:only-of-type {\n",
       "        vertical-align: middle;\n",
       "    }\n",
       "\n",
       "    .dataframe tbody tr th {\n",
       "        vertical-align: top;\n",
       "    }\n",
       "\n",
       "    .dataframe thead th {\n",
       "        text-align: right;\n",
       "    }\n",
       "</style>\n",
       "<table border=\"1\" class=\"dataframe\">\n",
       "  <thead>\n",
       "    <tr style=\"text-align: right;\">\n",
       "      <th></th>\n",
       "      <th>CRSP Market Cap</th>\n",
       "      <th>Communications</th>\n",
       "      <th>Materials</th>\n",
       "      <th>Consumer Discretionary</th>\n",
       "      <th>Consumer Staples</th>\n",
       "      <th>Energy</th>\n",
       "      <th>Financials</th>\n",
       "      <th>Health Care</th>\n",
       "      <th>Industrial</th>\n",
       "      <th>Technology</th>\n",
       "      <th>Real Estate</th>\n",
       "      <th>Utilities</th>\n",
       "      <th>BioTech</th>\n",
       "      <th>Defense</th>\n",
       "      <th>Semiconductor</th>\n",
       "      <th>Home Construction</th>\n",
       "    </tr>\n",
       "    <tr>\n",
       "      <th>Date</th>\n",
       "      <th></th>\n",
       "      <th></th>\n",
       "      <th></th>\n",
       "      <th></th>\n",
       "      <th></th>\n",
       "      <th></th>\n",
       "      <th></th>\n",
       "      <th></th>\n",
       "      <th></th>\n",
       "      <th></th>\n",
       "      <th></th>\n",
       "      <th></th>\n",
       "      <th></th>\n",
       "      <th></th>\n",
       "      <th></th>\n",
       "      <th></th>\n",
       "    </tr>\n",
       "  </thead>\n",
       "  <tbody>\n",
       "    <tr>\n",
       "      <th>2000-01-04</th>\n",
       "      <td>-0.0384</td>\n",
       "      <td>NaN</td>\n",
       "      <td>NaN</td>\n",
       "      <td>NaN</td>\n",
       "      <td>NaN</td>\n",
       "      <td>NaN</td>\n",
       "      <td>NaN</td>\n",
       "      <td>NaN</td>\n",
       "      <td>-0.009627</td>\n",
       "      <td>-0.018823</td>\n",
       "      <td>-0.027627</td>\n",
       "      <td>-0.050733</td>\n",
       "      <td>-0.028159</td>\n",
       "      <td>-0.030165</td>\n",
       "      <td>-0.022692</td>\n",
       "      <td>-0.030083</td>\n",
       "    </tr>\n",
       "    <tr>\n",
       "      <th>2000-01-07</th>\n",
       "      <td>0.0322</td>\n",
       "      <td>NaN</td>\n",
       "      <td>NaN</td>\n",
       "      <td>NaN</td>\n",
       "      <td>NaN</td>\n",
       "      <td>NaN</td>\n",
       "      <td>NaN</td>\n",
       "      <td>NaN</td>\n",
       "      <td>-0.000569</td>\n",
       "      <td>0.010686</td>\n",
       "      <td>0.038101</td>\n",
       "      <td>0.017456</td>\n",
       "      <td>0.063395</td>\n",
       "      <td>0.008601</td>\n",
       "      <td>0.012208</td>\n",
       "      <td>0.047109</td>\n",
       "    </tr>\n",
       "    <tr>\n",
       "      <th>2000-01-24</th>\n",
       "      <td>-0.0272</td>\n",
       "      <td>NaN</td>\n",
       "      <td>NaN</td>\n",
       "      <td>NaN</td>\n",
       "      <td>NaN</td>\n",
       "      <td>NaN</td>\n",
       "      <td>NaN</td>\n",
       "      <td>NaN</td>\n",
       "      <td>-0.026399</td>\n",
       "      <td>-0.035445</td>\n",
       "      <td>-0.028682</td>\n",
       "      <td>-0.032634</td>\n",
       "      <td>-0.028801</td>\n",
       "      <td>-0.013453</td>\n",
       "      <td>-0.029844</td>\n",
       "      <td>-0.037318</td>\n",
       "    </tr>\n",
       "    <tr>\n",
       "      <th>2000-01-28</th>\n",
       "      <td>-0.0267</td>\n",
       "      <td>NaN</td>\n",
       "      <td>NaN</td>\n",
       "      <td>NaN</td>\n",
       "      <td>NaN</td>\n",
       "      <td>NaN</td>\n",
       "      <td>NaN</td>\n",
       "      <td>NaN</td>\n",
       "      <td>-0.017016</td>\n",
       "      <td>-0.011574</td>\n",
       "      <td>-0.026479</td>\n",
       "      <td>-0.035714</td>\n",
       "      <td>-0.008152</td>\n",
       "      <td>-0.005294</td>\n",
       "      <td>-0.020243</td>\n",
       "      <td>-0.039466</td>\n",
       "    </tr>\n",
       "    <tr>\n",
       "      <th>2000-02-18</th>\n",
       "      <td>-0.0300</td>\n",
       "      <td>NaN</td>\n",
       "      <td>NaN</td>\n",
       "      <td>NaN</td>\n",
       "      <td>NaN</td>\n",
       "      <td>NaN</td>\n",
       "      <td>NaN</td>\n",
       "      <td>NaN</td>\n",
       "      <td>-0.030619</td>\n",
       "      <td>-0.029176</td>\n",
       "      <td>-0.021919</td>\n",
       "      <td>-0.033784</td>\n",
       "      <td>-0.011611</td>\n",
       "      <td>-0.036747</td>\n",
       "      <td>-0.027478</td>\n",
       "      <td>-0.014779</td>\n",
       "    </tr>\n",
       "  </tbody>\n",
       "</table>\n",
       "</div>"
      ],
      "text/plain": [
       "            CRSP Market Cap  Communications  Materials  \\\n",
       "Date                                                     \n",
       "2000-01-04          -0.0384             NaN        NaN   \n",
       "2000-01-07           0.0322             NaN        NaN   \n",
       "2000-01-24          -0.0272             NaN        NaN   \n",
       "2000-01-28          -0.0267             NaN        NaN   \n",
       "2000-02-18          -0.0300             NaN        NaN   \n",
       "\n",
       "            Consumer Discretionary  Consumer Staples  Energy  Financials  \\\n",
       "Date                                                                       \n",
       "2000-01-04                     NaN               NaN     NaN         NaN   \n",
       "2000-01-07                     NaN               NaN     NaN         NaN   \n",
       "2000-01-24                     NaN               NaN     NaN         NaN   \n",
       "2000-01-28                     NaN               NaN     NaN         NaN   \n",
       "2000-02-18                     NaN               NaN     NaN         NaN   \n",
       "\n",
       "            Health Care  Industrial  Technology  Real Estate  Utilities  \\\n",
       "Date                                                                      \n",
       "2000-01-04          NaN   -0.009627   -0.018823    -0.027627  -0.050733   \n",
       "2000-01-07          NaN   -0.000569    0.010686     0.038101   0.017456   \n",
       "2000-01-24          NaN   -0.026399   -0.035445    -0.028682  -0.032634   \n",
       "2000-01-28          NaN   -0.017016   -0.011574    -0.026479  -0.035714   \n",
       "2000-02-18          NaN   -0.030619   -0.029176    -0.021919  -0.033784   \n",
       "\n",
       "             BioTech   Defense  Semiconductor  Home Construction  \n",
       "Date                                                              \n",
       "2000-01-04 -0.028159 -0.030165      -0.022692          -0.030083  \n",
       "2000-01-07  0.063395  0.008601       0.012208           0.047109  \n",
       "2000-01-24 -0.028801 -0.013453      -0.029844          -0.037318  \n",
       "2000-01-28 -0.008152 -0.005294      -0.020243          -0.039466  \n",
       "2000-02-18 -0.011611 -0.036747      -0.027478          -0.014779  "
      ]
     },
     "execution_count": 41,
     "metadata": {},
     "output_type": "execute_result"
    }
   ],
   "source": [
    "sector_jumps_data.head()"
   ]
  },
  {
   "cell_type": "code",
   "execution_count": 42,
   "metadata": {},
   "outputs": [],
   "source": [
    "sector_jumps2=sector_jumps_data.copy()"
   ]
  },
  {
   "cell_type": "code",
   "execution_count": 43,
   "metadata": {},
   "outputs": [],
   "source": [
    "all_jumps_year=sector_jumps2.groupby(sector_jumps2.index.year).apply(lambda x: (abs(x)>.025).sum())"
   ]
  },
  {
   "cell_type": "code",
   "execution_count": 44,
   "metadata": {},
   "outputs": [],
   "source": [
    "all_jumps_month=sector_jumps2.groupby([sector_jumps2.index.year, sector_jumps2.index.month]).apply(lambda x: (abs(x)>.025).sum())"
   ]
  },
  {
   "cell_type": "code",
   "execution_count": 45,
   "metadata": {},
   "outputs": [],
   "source": [
    "year_jumps_and_disasters=pd.concat([all_jumps_year, usa_disaster_data_year_month.groupby(usa_disaster_data_year_month.index.year).sum()], axis=1, join='inner')"
   ]
  },
  {
   "cell_type": "code",
   "execution_count": 48,
   "metadata": {},
   "outputs": [],
   "source": [
    "year_jumps_and_disasters.to_csv('yearly_jumps_disasters.csv')"
   ]
  },
  {
   "cell_type": "markdown",
   "metadata": {},
   "source": [
    "## MONTHLY JUMPS"
   ]
  },
  {
   "cell_type": "code",
   "execution_count": 50,
   "metadata": {},
   "outputs": [],
   "source": [
    "month_jumps = pd.read_csv('month_jumps.csv')"
   ]
  },
  {
   "cell_type": "code",
   "execution_count": 52,
   "metadata": {},
   "outputs": [
    {
     "data": {
      "text/html": [
       "<div>\n",
       "<style scoped>\n",
       "    .dataframe tbody tr th:only-of-type {\n",
       "        vertical-align: middle;\n",
       "    }\n",
       "\n",
       "    .dataframe tbody tr th {\n",
       "        vertical-align: top;\n",
       "    }\n",
       "\n",
       "    .dataframe thead th {\n",
       "        text-align: right;\n",
       "    }\n",
       "</style>\n",
       "<table border=\"1\" class=\"dataframe\">\n",
       "  <thead>\n",
       "    <tr style=\"text-align: right;\">\n",
       "      <th></th>\n",
       "      <th>Date</th>\n",
       "      <th>Date.1</th>\n",
       "      <th>CRSP Market Cap</th>\n",
       "      <th>Communications</th>\n",
       "      <th>Materials</th>\n",
       "      <th>Consumer Discretionary</th>\n",
       "      <th>Consumer Staples</th>\n",
       "      <th>Energy</th>\n",
       "      <th>Financials</th>\n",
       "      <th>Health Care</th>\n",
       "      <th>Industrial</th>\n",
       "      <th>Technology</th>\n",
       "      <th>Real Estate</th>\n",
       "      <th>Utilities</th>\n",
       "      <th>BioTech</th>\n",
       "      <th>Defense</th>\n",
       "      <th>Semiconductor</th>\n",
       "      <th>Home Construction</th>\n",
       "      <th>total_deaths</th>\n",
       "      <th>no_affected</th>\n",
       "    </tr>\n",
       "  </thead>\n",
       "  <tbody>\n",
       "    <tr>\n",
       "      <th>0</th>\n",
       "      <td>2000</td>\n",
       "      <td>1</td>\n",
       "      <td>4</td>\n",
       "      <td>0</td>\n",
       "      <td>0</td>\n",
       "      <td>0</td>\n",
       "      <td>0</td>\n",
       "      <td>0</td>\n",
       "      <td>0</td>\n",
       "      <td>0</td>\n",
       "      <td>1</td>\n",
       "      <td>1</td>\n",
       "      <td>4</td>\n",
       "      <td>3</td>\n",
       "      <td>3</td>\n",
       "      <td>1</td>\n",
       "      <td>1</td>\n",
       "      <td>4</td>\n",
       "      <td>5</td>\n",
       "      <td>0</td>\n",
       "    </tr>\n",
       "    <tr>\n",
       "      <th>1</th>\n",
       "      <td>2000</td>\n",
       "      <td>2</td>\n",
       "      <td>1</td>\n",
       "      <td>0</td>\n",
       "      <td>0</td>\n",
       "      <td>0</td>\n",
       "      <td>0</td>\n",
       "      <td>0</td>\n",
       "      <td>0</td>\n",
       "      <td>0</td>\n",
       "      <td>1</td>\n",
       "      <td>1</td>\n",
       "      <td>0</td>\n",
       "      <td>1</td>\n",
       "      <td>0</td>\n",
       "      <td>1</td>\n",
       "      <td>1</td>\n",
       "      <td>0</td>\n",
       "      <td>25</td>\n",
       "      <td>1731</td>\n",
       "    </tr>\n",
       "    <tr>\n",
       "      <th>2</th>\n",
       "      <td>2000</td>\n",
       "      <td>3</td>\n",
       "      <td>2</td>\n",
       "      <td>0</td>\n",
       "      <td>0</td>\n",
       "      <td>0</td>\n",
       "      <td>0</td>\n",
       "      <td>0</td>\n",
       "      <td>0</td>\n",
       "      <td>0</td>\n",
       "      <td>2</td>\n",
       "      <td>2</td>\n",
       "      <td>2</td>\n",
       "      <td>2</td>\n",
       "      <td>2</td>\n",
       "      <td>1</td>\n",
       "      <td>1</td>\n",
       "      <td>2</td>\n",
       "      <td>5</td>\n",
       "      <td>3000</td>\n",
       "    </tr>\n",
       "    <tr>\n",
       "      <th>3</th>\n",
       "      <td>2000</td>\n",
       "      <td>5</td>\n",
       "      <td>1</td>\n",
       "      <td>0</td>\n",
       "      <td>0</td>\n",
       "      <td>0</td>\n",
       "      <td>1</td>\n",
       "      <td>0</td>\n",
       "      <td>1</td>\n",
       "      <td>0</td>\n",
       "      <td>0</td>\n",
       "      <td>0</td>\n",
       "      <td>0</td>\n",
       "      <td>1</td>\n",
       "      <td>0</td>\n",
       "      <td>0</td>\n",
       "      <td>1</td>\n",
       "      <td>0</td>\n",
       "      <td>5</td>\n",
       "      <td>25840</td>\n",
       "    </tr>\n",
       "    <tr>\n",
       "      <th>4</th>\n",
       "      <td>2000</td>\n",
       "      <td>10</td>\n",
       "      <td>3</td>\n",
       "      <td>0</td>\n",
       "      <td>0</td>\n",
       "      <td>0</td>\n",
       "      <td>3</td>\n",
       "      <td>0</td>\n",
       "      <td>3</td>\n",
       "      <td>0</td>\n",
       "      <td>0</td>\n",
       "      <td>1</td>\n",
       "      <td>1</td>\n",
       "      <td>3</td>\n",
       "      <td>0</td>\n",
       "      <td>0</td>\n",
       "      <td>1</td>\n",
       "      <td>2</td>\n",
       "      <td>2</td>\n",
       "      <td>14418</td>\n",
       "    </tr>\n",
       "  </tbody>\n",
       "</table>\n",
       "</div>"
      ],
      "text/plain": [
       "   Date  Date.1  CRSP Market Cap  Communications  Materials  \\\n",
       "0  2000       1                4               0          0   \n",
       "1  2000       2                1               0          0   \n",
       "2  2000       3                2               0          0   \n",
       "3  2000       5                1               0          0   \n",
       "4  2000      10                3               0          0   \n",
       "\n",
       "   Consumer Discretionary  Consumer Staples  Energy  Financials  Health Care  \\\n",
       "0                       0                 0       0           0            0   \n",
       "1                       0                 0       0           0            0   \n",
       "2                       0                 0       0           0            0   \n",
       "3                       0                 1       0           1            0   \n",
       "4                       0                 3       0           3            0   \n",
       "\n",
       "   Industrial  Technology  Real Estate  Utilities  BioTech  Defense  \\\n",
       "0           1           1            4          3        3        1   \n",
       "1           1           1            0          1        0        1   \n",
       "2           2           2            2          2        2        1   \n",
       "3           0           0            0          1        0        0   \n",
       "4           0           1            1          3        0        0   \n",
       "\n",
       "   Semiconductor  Home Construction  total_deaths  no_affected  \n",
       "0              1                  4             5            0  \n",
       "1              1                  0            25         1731  \n",
       "2              1                  2             5         3000  \n",
       "3              1                  0             5        25840  \n",
       "4              1                  2             2        14418  "
      ]
     },
     "execution_count": 52,
     "metadata": {},
     "output_type": "execute_result"
    }
   ],
   "source": [
    "month_jumps.head()"
   ]
  },
  {
   "cell_type": "code",
   "execution_count": 53,
   "metadata": {},
   "outputs": [],
   "source": [
    "month_jumps_and_disasters=pd.concat([all_jumps_month, usa_disaster_data_year_month.groupby([usa_disaster_data_year_month.index.year, usa_disaster_data_year_month.index.month]).sum()], axis=1,join='inner').sort_index()"
   ]
  },
  {
   "cell_type": "code",
   "execution_count": 54,
   "metadata": {},
   "outputs": [
    {
     "data": {
      "text/html": [
       "<div>\n",
       "<style scoped>\n",
       "    .dataframe tbody tr th:only-of-type {\n",
       "        vertical-align: middle;\n",
       "    }\n",
       "\n",
       "    .dataframe tbody tr th {\n",
       "        vertical-align: top;\n",
       "    }\n",
       "\n",
       "    .dataframe thead th {\n",
       "        text-align: right;\n",
       "    }\n",
       "</style>\n",
       "<table border=\"1\" class=\"dataframe\">\n",
       "  <thead>\n",
       "    <tr style=\"text-align: right;\">\n",
       "      <th></th>\n",
       "      <th></th>\n",
       "      <th>CRSP Market Cap</th>\n",
       "      <th>Communications</th>\n",
       "      <th>Materials</th>\n",
       "      <th>Consumer Discretionary</th>\n",
       "      <th>Consumer Staples</th>\n",
       "      <th>Energy</th>\n",
       "      <th>Financials</th>\n",
       "      <th>Health Care</th>\n",
       "      <th>Industrial</th>\n",
       "      <th>Technology</th>\n",
       "      <th>Real Estate</th>\n",
       "      <th>Utilities</th>\n",
       "      <th>BioTech</th>\n",
       "      <th>Defense</th>\n",
       "      <th>Semiconductor</th>\n",
       "      <th>Home Construction</th>\n",
       "      <th>total_deaths</th>\n",
       "      <th>no_affected</th>\n",
       "    </tr>\n",
       "    <tr>\n",
       "      <th>Date</th>\n",
       "      <th>Date</th>\n",
       "      <th></th>\n",
       "      <th></th>\n",
       "      <th></th>\n",
       "      <th></th>\n",
       "      <th></th>\n",
       "      <th></th>\n",
       "      <th></th>\n",
       "      <th></th>\n",
       "      <th></th>\n",
       "      <th></th>\n",
       "      <th></th>\n",
       "      <th></th>\n",
       "      <th></th>\n",
       "      <th></th>\n",
       "      <th></th>\n",
       "      <th></th>\n",
       "      <th></th>\n",
       "      <th></th>\n",
       "    </tr>\n",
       "  </thead>\n",
       "  <tbody>\n",
       "    <tr>\n",
       "      <th rowspan=\"5\" valign=\"top\">2000</th>\n",
       "      <th>1</th>\n",
       "      <td>4</td>\n",
       "      <td>0</td>\n",
       "      <td>0</td>\n",
       "      <td>0</td>\n",
       "      <td>0</td>\n",
       "      <td>0</td>\n",
       "      <td>0</td>\n",
       "      <td>0</td>\n",
       "      <td>1</td>\n",
       "      <td>1</td>\n",
       "      <td>4</td>\n",
       "      <td>3</td>\n",
       "      <td>3</td>\n",
       "      <td>1</td>\n",
       "      <td>1</td>\n",
       "      <td>4</td>\n",
       "      <td>5</td>\n",
       "      <td>0</td>\n",
       "    </tr>\n",
       "    <tr>\n",
       "      <th>2</th>\n",
       "      <td>1</td>\n",
       "      <td>0</td>\n",
       "      <td>0</td>\n",
       "      <td>0</td>\n",
       "      <td>0</td>\n",
       "      <td>0</td>\n",
       "      <td>0</td>\n",
       "      <td>0</td>\n",
       "      <td>1</td>\n",
       "      <td>1</td>\n",
       "      <td>0</td>\n",
       "      <td>1</td>\n",
       "      <td>0</td>\n",
       "      <td>1</td>\n",
       "      <td>1</td>\n",
       "      <td>0</td>\n",
       "      <td>25</td>\n",
       "      <td>1731</td>\n",
       "    </tr>\n",
       "    <tr>\n",
       "      <th>3</th>\n",
       "      <td>2</td>\n",
       "      <td>0</td>\n",
       "      <td>0</td>\n",
       "      <td>0</td>\n",
       "      <td>0</td>\n",
       "      <td>0</td>\n",
       "      <td>0</td>\n",
       "      <td>0</td>\n",
       "      <td>2</td>\n",
       "      <td>2</td>\n",
       "      <td>2</td>\n",
       "      <td>2</td>\n",
       "      <td>2</td>\n",
       "      <td>1</td>\n",
       "      <td>1</td>\n",
       "      <td>2</td>\n",
       "      <td>5</td>\n",
       "      <td>3000</td>\n",
       "    </tr>\n",
       "    <tr>\n",
       "      <th>5</th>\n",
       "      <td>1</td>\n",
       "      <td>0</td>\n",
       "      <td>0</td>\n",
       "      <td>0</td>\n",
       "      <td>1</td>\n",
       "      <td>0</td>\n",
       "      <td>1</td>\n",
       "      <td>0</td>\n",
       "      <td>0</td>\n",
       "      <td>0</td>\n",
       "      <td>0</td>\n",
       "      <td>1</td>\n",
       "      <td>0</td>\n",
       "      <td>0</td>\n",
       "      <td>1</td>\n",
       "      <td>0</td>\n",
       "      <td>5</td>\n",
       "      <td>25840</td>\n",
       "    </tr>\n",
       "    <tr>\n",
       "      <th>10</th>\n",
       "      <td>3</td>\n",
       "      <td>0</td>\n",
       "      <td>0</td>\n",
       "      <td>0</td>\n",
       "      <td>3</td>\n",
       "      <td>0</td>\n",
       "      <td>3</td>\n",
       "      <td>0</td>\n",
       "      <td>0</td>\n",
       "      <td>1</td>\n",
       "      <td>1</td>\n",
       "      <td>3</td>\n",
       "      <td>0</td>\n",
       "      <td>0</td>\n",
       "      <td>1</td>\n",
       "      <td>2</td>\n",
       "      <td>2</td>\n",
       "      <td>14418</td>\n",
       "    </tr>\n",
       "  </tbody>\n",
       "</table>\n",
       "</div>"
      ],
      "text/plain": [
       "           CRSP Market Cap  Communications  Materials  Consumer Discretionary  \\\n",
       "Date Date                                                                       \n",
       "2000 1                   4               0          0                       0   \n",
       "     2                   1               0          0                       0   \n",
       "     3                   2               0          0                       0   \n",
       "     5                   1               0          0                       0   \n",
       "     10                  3               0          0                       0   \n",
       "\n",
       "           Consumer Staples  Energy  Financials  Health Care  Industrial  \\\n",
       "Date Date                                                                  \n",
       "2000 1                    0       0           0            0           1   \n",
       "     2                    0       0           0            0           1   \n",
       "     3                    0       0           0            0           2   \n",
       "     5                    1       0           1            0           0   \n",
       "     10                   3       0           3            0           0   \n",
       "\n",
       "           Technology  Real Estate  Utilities  BioTech  Defense  \\\n",
       "Date Date                                                         \n",
       "2000 1              1            4          3        3        1   \n",
       "     2              1            0          1        0        1   \n",
       "     3              2            2          2        2        1   \n",
       "     5              0            0          1        0        0   \n",
       "     10             1            1          3        0        0   \n",
       "\n",
       "           Semiconductor  Home Construction  total_deaths  no_affected  \n",
       "Date Date                                                               \n",
       "2000 1                 1                  4             5            0  \n",
       "     2                 1                  0            25         1731  \n",
       "     3                 1                  2             5         3000  \n",
       "     5                 1                  0             5        25840  \n",
       "     10                1                  2             2        14418  "
      ]
     },
     "execution_count": 54,
     "metadata": {},
     "output_type": "execute_result"
    }
   ],
   "source": [
    "month_jumps_and_disasters.head()"
   ]
  },
  {
   "cell_type": "code",
   "execution_count": 55,
   "metadata": {},
   "outputs": [],
   "source": [
    "import plotly.express as px\n",
    "#df = px.data.gapminder()"
   ]
  },
  {
   "cell_type": "code",
   "execution_count": 59,
   "metadata": {},
   "outputs": [],
   "source": [
    "fig = px.scatter(year_jumps_and_disasters, x=year_jumps_and_disasters.index, y='CRSP Market Cap',size='no_affected', color='no_affected',hover_name='total_deaths', log_x=False, size_max=200)"
   ]
  },
  {
   "cell_type": "code",
   "execution_count": 60,
   "metadata": {},
   "outputs": [
    {
     "data": {
      "application/vnd.plotly.v1+json": {
       "config": {
        "plotlyServerURL": "https://plot.ly"
       },
       "data": [
        {
         "hovertemplate": "<b>%{hovertext}</b><br><br>Date=%{x}<br>CRSP Market Cap=%{y}<br>no_affected=%{marker.color}<extra></extra>",
         "hovertext": [
          162,
          153,
          444,
          231,
          333,
          303,
          145,
          138,
          809,
          318,
          212,
          319,
          269,
          295,
          149,
          75
         ],
         "legendgroup": "",
         "marker": {
          "color": [
           81264,
           128833,
           171053,
           258195,
           666470,
           13390150,
           9750,
           12300,
           395700,
           91409,
           205325,
           33600,
           85110376,
           1760509,
           18722,
           12000
          ],
          "coloraxis": "coloraxis",
          "size": [
           81264,
           128833,
           171053,
           258195,
           666470,
           13390150,
           9750,
           12300,
           395700,
           91409,
           205325,
           33600,
           85110376,
           1760509,
           18722,
           12000
          ],
          "sizemode": "area",
          "sizeref": 2127.7594,
          "symbol": "circle"
         },
         "mode": "markers",
         "name": "",
         "orientation": "v",
         "showlegend": false,
         "type": "scatter",
         "x": [
          2000,
          2001,
          2002,
          2003,
          2007,
          2008,
          2009,
          2010,
          2011,
          2012,
          2013,
          2015,
          2016,
          2018,
          2019,
          2020
         ],
         "xaxis": "x",
         "y": [
          17,
          14,
          26,
          7,
          10,
          54,
          32,
          13,
          22,
          1,
          1,
          6,
          2,
          9,
          4,
          26
         ],
         "yaxis": "y"
        }
       ],
       "layout": {
        "autosize": true,
        "coloraxis": {
         "colorbar": {
          "title": {
           "text": "no_affected"
          }
         },
         "colorscale": [
          [
           0,
           "#0d0887"
          ],
          [
           0.1111111111111111,
           "#46039f"
          ],
          [
           0.2222222222222222,
           "#7201a8"
          ],
          [
           0.3333333333333333,
           "#9c179e"
          ],
          [
           0.4444444444444444,
           "#bd3786"
          ],
          [
           0.5555555555555556,
           "#d8576b"
          ],
          [
           0.6666666666666666,
           "#ed7953"
          ],
          [
           0.7777777777777778,
           "#fb9f3a"
          ],
          [
           0.8888888888888888,
           "#fdca26"
          ],
          [
           1,
           "#f0f921"
          ]
         ]
        },
        "legend": {
         "itemsizing": "constant",
         "tracegroupgap": 0
        },
        "margin": {
         "t": 60
        },
        "template": {
         "data": {
          "bar": [
           {
            "error_x": {
             "color": "#2a3f5f"
            },
            "error_y": {
             "color": "#2a3f5f"
            },
            "marker": {
             "line": {
              "color": "#E5ECF6",
              "width": 0.5
             }
            },
            "type": "bar"
           }
          ],
          "barpolar": [
           {
            "marker": {
             "line": {
              "color": "#E5ECF6",
              "width": 0.5
             }
            },
            "type": "barpolar"
           }
          ],
          "carpet": [
           {
            "aaxis": {
             "endlinecolor": "#2a3f5f",
             "gridcolor": "white",
             "linecolor": "white",
             "minorgridcolor": "white",
             "startlinecolor": "#2a3f5f"
            },
            "baxis": {
             "endlinecolor": "#2a3f5f",
             "gridcolor": "white",
             "linecolor": "white",
             "minorgridcolor": "white",
             "startlinecolor": "#2a3f5f"
            },
            "type": "carpet"
           }
          ],
          "choropleth": [
           {
            "colorbar": {
             "outlinewidth": 0,
             "ticks": ""
            },
            "type": "choropleth"
           }
          ],
          "contour": [
           {
            "colorbar": {
             "outlinewidth": 0,
             "ticks": ""
            },
            "colorscale": [
             [
              0,
              "#0d0887"
             ],
             [
              0.1111111111111111,
              "#46039f"
             ],
             [
              0.2222222222222222,
              "#7201a8"
             ],
             [
              0.3333333333333333,
              "#9c179e"
             ],
             [
              0.4444444444444444,
              "#bd3786"
             ],
             [
              0.5555555555555556,
              "#d8576b"
             ],
             [
              0.6666666666666666,
              "#ed7953"
             ],
             [
              0.7777777777777778,
              "#fb9f3a"
             ],
             [
              0.8888888888888888,
              "#fdca26"
             ],
             [
              1,
              "#f0f921"
             ]
            ],
            "type": "contour"
           }
          ],
          "contourcarpet": [
           {
            "colorbar": {
             "outlinewidth": 0,
             "ticks": ""
            },
            "type": "contourcarpet"
           }
          ],
          "heatmap": [
           {
            "colorbar": {
             "outlinewidth": 0,
             "ticks": ""
            },
            "colorscale": [
             [
              0,
              "#0d0887"
             ],
             [
              0.1111111111111111,
              "#46039f"
             ],
             [
              0.2222222222222222,
              "#7201a8"
             ],
             [
              0.3333333333333333,
              "#9c179e"
             ],
             [
              0.4444444444444444,
              "#bd3786"
             ],
             [
              0.5555555555555556,
              "#d8576b"
             ],
             [
              0.6666666666666666,
              "#ed7953"
             ],
             [
              0.7777777777777778,
              "#fb9f3a"
             ],
             [
              0.8888888888888888,
              "#fdca26"
             ],
             [
              1,
              "#f0f921"
             ]
            ],
            "type": "heatmap"
           }
          ],
          "heatmapgl": [
           {
            "colorbar": {
             "outlinewidth": 0,
             "ticks": ""
            },
            "colorscale": [
             [
              0,
              "#0d0887"
             ],
             [
              0.1111111111111111,
              "#46039f"
             ],
             [
              0.2222222222222222,
              "#7201a8"
             ],
             [
              0.3333333333333333,
              "#9c179e"
             ],
             [
              0.4444444444444444,
              "#bd3786"
             ],
             [
              0.5555555555555556,
              "#d8576b"
             ],
             [
              0.6666666666666666,
              "#ed7953"
             ],
             [
              0.7777777777777778,
              "#fb9f3a"
             ],
             [
              0.8888888888888888,
              "#fdca26"
             ],
             [
              1,
              "#f0f921"
             ]
            ],
            "type": "heatmapgl"
           }
          ],
          "histogram": [
           {
            "marker": {
             "colorbar": {
              "outlinewidth": 0,
              "ticks": ""
             }
            },
            "type": "histogram"
           }
          ],
          "histogram2d": [
           {
            "colorbar": {
             "outlinewidth": 0,
             "ticks": ""
            },
            "colorscale": [
             [
              0,
              "#0d0887"
             ],
             [
              0.1111111111111111,
              "#46039f"
             ],
             [
              0.2222222222222222,
              "#7201a8"
             ],
             [
              0.3333333333333333,
              "#9c179e"
             ],
             [
              0.4444444444444444,
              "#bd3786"
             ],
             [
              0.5555555555555556,
              "#d8576b"
             ],
             [
              0.6666666666666666,
              "#ed7953"
             ],
             [
              0.7777777777777778,
              "#fb9f3a"
             ],
             [
              0.8888888888888888,
              "#fdca26"
             ],
             [
              1,
              "#f0f921"
             ]
            ],
            "type": "histogram2d"
           }
          ],
          "histogram2dcontour": [
           {
            "colorbar": {
             "outlinewidth": 0,
             "ticks": ""
            },
            "colorscale": [
             [
              0,
              "#0d0887"
             ],
             [
              0.1111111111111111,
              "#46039f"
             ],
             [
              0.2222222222222222,
              "#7201a8"
             ],
             [
              0.3333333333333333,
              "#9c179e"
             ],
             [
              0.4444444444444444,
              "#bd3786"
             ],
             [
              0.5555555555555556,
              "#d8576b"
             ],
             [
              0.6666666666666666,
              "#ed7953"
             ],
             [
              0.7777777777777778,
              "#fb9f3a"
             ],
             [
              0.8888888888888888,
              "#fdca26"
             ],
             [
              1,
              "#f0f921"
             ]
            ],
            "type": "histogram2dcontour"
           }
          ],
          "mesh3d": [
           {
            "colorbar": {
             "outlinewidth": 0,
             "ticks": ""
            },
            "type": "mesh3d"
           }
          ],
          "parcoords": [
           {
            "line": {
             "colorbar": {
              "outlinewidth": 0,
              "ticks": ""
             }
            },
            "type": "parcoords"
           }
          ],
          "pie": [
           {
            "automargin": true,
            "type": "pie"
           }
          ],
          "scatter": [
           {
            "marker": {
             "colorbar": {
              "outlinewidth": 0,
              "ticks": ""
             }
            },
            "type": "scatter"
           }
          ],
          "scatter3d": [
           {
            "line": {
             "colorbar": {
              "outlinewidth": 0,
              "ticks": ""
             }
            },
            "marker": {
             "colorbar": {
              "outlinewidth": 0,
              "ticks": ""
             }
            },
            "type": "scatter3d"
           }
          ],
          "scattercarpet": [
           {
            "marker": {
             "colorbar": {
              "outlinewidth": 0,
              "ticks": ""
             }
            },
            "type": "scattercarpet"
           }
          ],
          "scattergeo": [
           {
            "marker": {
             "colorbar": {
              "outlinewidth": 0,
              "ticks": ""
             }
            },
            "type": "scattergeo"
           }
          ],
          "scattergl": [
           {
            "marker": {
             "colorbar": {
              "outlinewidth": 0,
              "ticks": ""
             }
            },
            "type": "scattergl"
           }
          ],
          "scattermapbox": [
           {
            "marker": {
             "colorbar": {
              "outlinewidth": 0,
              "ticks": ""
             }
            },
            "type": "scattermapbox"
           }
          ],
          "scatterpolar": [
           {
            "marker": {
             "colorbar": {
              "outlinewidth": 0,
              "ticks": ""
             }
            },
            "type": "scatterpolar"
           }
          ],
          "scatterpolargl": [
           {
            "marker": {
             "colorbar": {
              "outlinewidth": 0,
              "ticks": ""
             }
            },
            "type": "scatterpolargl"
           }
          ],
          "scatterternary": [
           {
            "marker": {
             "colorbar": {
              "outlinewidth": 0,
              "ticks": ""
             }
            },
            "type": "scatterternary"
           }
          ],
          "surface": [
           {
            "colorbar": {
             "outlinewidth": 0,
             "ticks": ""
            },
            "colorscale": [
             [
              0,
              "#0d0887"
             ],
             [
              0.1111111111111111,
              "#46039f"
             ],
             [
              0.2222222222222222,
              "#7201a8"
             ],
             [
              0.3333333333333333,
              "#9c179e"
             ],
             [
              0.4444444444444444,
              "#bd3786"
             ],
             [
              0.5555555555555556,
              "#d8576b"
             ],
             [
              0.6666666666666666,
              "#ed7953"
             ],
             [
              0.7777777777777778,
              "#fb9f3a"
             ],
             [
              0.8888888888888888,
              "#fdca26"
             ],
             [
              1,
              "#f0f921"
             ]
            ],
            "type": "surface"
           }
          ],
          "table": [
           {
            "cells": {
             "fill": {
              "color": "#EBF0F8"
             },
             "line": {
              "color": "white"
             }
            },
            "header": {
             "fill": {
              "color": "#C8D4E3"
             },
             "line": {
              "color": "white"
             }
            },
            "type": "table"
           }
          ]
         },
         "layout": {
          "annotationdefaults": {
           "arrowcolor": "#2a3f5f",
           "arrowhead": 0,
           "arrowwidth": 1
          },
          "coloraxis": {
           "colorbar": {
            "outlinewidth": 0,
            "ticks": ""
           }
          },
          "colorscale": {
           "diverging": [
            [
             0,
             "#8e0152"
            ],
            [
             0.1,
             "#c51b7d"
            ],
            [
             0.2,
             "#de77ae"
            ],
            [
             0.3,
             "#f1b6da"
            ],
            [
             0.4,
             "#fde0ef"
            ],
            [
             0.5,
             "#f7f7f7"
            ],
            [
             0.6,
             "#e6f5d0"
            ],
            [
             0.7,
             "#b8e186"
            ],
            [
             0.8,
             "#7fbc41"
            ],
            [
             0.9,
             "#4d9221"
            ],
            [
             1,
             "#276419"
            ]
           ],
           "sequential": [
            [
             0,
             "#0d0887"
            ],
            [
             0.1111111111111111,
             "#46039f"
            ],
            [
             0.2222222222222222,
             "#7201a8"
            ],
            [
             0.3333333333333333,
             "#9c179e"
            ],
            [
             0.4444444444444444,
             "#bd3786"
            ],
            [
             0.5555555555555556,
             "#d8576b"
            ],
            [
             0.6666666666666666,
             "#ed7953"
            ],
            [
             0.7777777777777778,
             "#fb9f3a"
            ],
            [
             0.8888888888888888,
             "#fdca26"
            ],
            [
             1,
             "#f0f921"
            ]
           ],
           "sequentialminus": [
            [
             0,
             "#0d0887"
            ],
            [
             0.1111111111111111,
             "#46039f"
            ],
            [
             0.2222222222222222,
             "#7201a8"
            ],
            [
             0.3333333333333333,
             "#9c179e"
            ],
            [
             0.4444444444444444,
             "#bd3786"
            ],
            [
             0.5555555555555556,
             "#d8576b"
            ],
            [
             0.6666666666666666,
             "#ed7953"
            ],
            [
             0.7777777777777778,
             "#fb9f3a"
            ],
            [
             0.8888888888888888,
             "#fdca26"
            ],
            [
             1,
             "#f0f921"
            ]
           ]
          },
          "colorway": [
           "#636efa",
           "#EF553B",
           "#00cc96",
           "#ab63fa",
           "#FFA15A",
           "#19d3f3",
           "#FF6692",
           "#B6E880",
           "#FF97FF",
           "#FECB52"
          ],
          "font": {
           "color": "#2a3f5f"
          },
          "geo": {
           "bgcolor": "white",
           "lakecolor": "white",
           "landcolor": "#E5ECF6",
           "showlakes": true,
           "showland": true,
           "subunitcolor": "white"
          },
          "hoverlabel": {
           "align": "left"
          },
          "hovermode": "closest",
          "mapbox": {
           "style": "light"
          },
          "paper_bgcolor": "white",
          "plot_bgcolor": "#E5ECF6",
          "polar": {
           "angularaxis": {
            "gridcolor": "white",
            "linecolor": "white",
            "ticks": ""
           },
           "bgcolor": "#E5ECF6",
           "radialaxis": {
            "gridcolor": "white",
            "linecolor": "white",
            "ticks": ""
           }
          },
          "scene": {
           "xaxis": {
            "backgroundcolor": "#E5ECF6",
            "gridcolor": "white",
            "gridwidth": 2,
            "linecolor": "white",
            "showbackground": true,
            "ticks": "",
            "zerolinecolor": "white"
           },
           "yaxis": {
            "backgroundcolor": "#E5ECF6",
            "gridcolor": "white",
            "gridwidth": 2,
            "linecolor": "white",
            "showbackground": true,
            "ticks": "",
            "zerolinecolor": "white"
           },
           "zaxis": {
            "backgroundcolor": "#E5ECF6",
            "gridcolor": "white",
            "gridwidth": 2,
            "linecolor": "white",
            "showbackground": true,
            "ticks": "",
            "zerolinecolor": "white"
           }
          },
          "shapedefaults": {
           "line": {
            "color": "#2a3f5f"
           }
          },
          "ternary": {
           "aaxis": {
            "gridcolor": "white",
            "linecolor": "white",
            "ticks": ""
           },
           "baxis": {
            "gridcolor": "white",
            "linecolor": "white",
            "ticks": ""
           },
           "bgcolor": "#E5ECF6",
           "caxis": {
            "gridcolor": "white",
            "linecolor": "white",
            "ticks": ""
           }
          },
          "title": {
           "x": 0.05
          },
          "xaxis": {
           "automargin": true,
           "gridcolor": "white",
           "linecolor": "white",
           "ticks": "",
           "title": {
            "standoff": 15
           },
           "zerolinecolor": "white",
           "zerolinewidth": 2
          },
          "yaxis": {
           "automargin": true,
           "gridcolor": "white",
           "linecolor": "white",
           "ticks": "",
           "title": {
            "standoff": 15
           },
           "zerolinecolor": "white",
           "zerolinewidth": 2
          }
         }
        },
        "xaxis": {
         "anchor": "y",
         "autorange": true,
         "domain": [
          0,
          1
         ],
         "range": [
          1998.7864798523042,
          2021.1772464935066
         ],
         "title": {
          "text": "Date"
         },
         "type": "linear"
        },
        "yaxis": {
         "anchor": "x",
         "autorange": true,
         "domain": [
          0,
          1
         ],
         "range": [
          -153.19596965535663,
          123.9175293315161
         ],
         "title": {
          "text": "CRSP Market Cap"
         },
         "type": "linear"
        }
       }
      },
      "image/png": "[encoded data removed]",
      "text/html": [
       "<div>\n",
       "        \n",
       "        \n",
       "            <div id=\"b6834caf-579e-4fe5-96f2-0d682b3fe4d8\" class=\"plotly-graph-div\" style=\"height:525px; width:100%;\"></div>\n",
       "            <script type=\"text/javascript\">\n",
       "                require([\"plotly\"], function(Plotly) {\n",
       "                    window.PLOTLYENV=window.PLOTLYENV || {};\n",
       "                    \n",
       "                if (document.getElementById(\"b6834caf-579e-4fe5-96f2-0d682b3fe4d8\")) {\n",
       "                    Plotly.newPlot(\n",
       "                        'b6834caf-579e-4fe5-96f2-0d682b3fe4d8',\n",
       "                        [{\"hovertemplate\": \"<b>%{hovertext}</b><br><br>Date=%{x}<br>CRSP Market Cap=%{y}<br>no_affected=%{marker.color}<extra></extra>\", \"hovertext\": [162.0, 153.0, 444.0, 231.0, 333.0, 303.0, 145.0, 138.0, 809.0, 318.0, 212.0, 319.0, 269.0, 295.0, 149.0, 75.0], \"legendgroup\": \"\", \"marker\": {\"color\": [81264, 128833, 171053, 258195, 666470, 13390150, 9750, 12300, 395700, 91409, 205325, 33600, 85110376, 1760509, 18722, 12000], \"coloraxis\": \"coloraxis\", \"size\": [81264, 128833, 171053, 258195, 666470, 13390150, 9750, 12300, 395700, 91409, 205325, 33600, 85110376, 1760509, 18722, 12000], \"sizemode\": \"area\", \"sizeref\": 2127.7594, \"symbol\": \"circle\"}, \"mode\": \"markers\", \"name\": \"\", \"orientation\": \"v\", \"showlegend\": false, \"type\": \"scatter\", \"x\": [2000, 2001, 2002, 2003, 2007, 2008, 2009, 2010, 2011, 2012, 2013, 2015, 2016, 2018, 2019, 2020], \"xaxis\": \"x\", \"y\": [17, 14, 26, 7, 10, 54, 32, 13, 22, 1, 1, 6, 2, 9, 4, 26], \"yaxis\": \"y\"}],\n",
       "                        {\"coloraxis\": {\"colorbar\": {\"title\": {\"text\": \"no_affected\"}}, \"colorscale\": [[0.0, \"#0d0887\"], [0.1111111111111111, \"#46039f\"], [0.2222222222222222, \"#7201a8\"], [0.3333333333333333, \"#9c179e\"], [0.4444444444444444, \"#bd3786\"], [0.5555555555555556, \"#d8576b\"], [0.6666666666666666, \"#ed7953\"], [0.7777777777777778, \"#fb9f3a\"], [0.8888888888888888, \"#fdca26\"], [1.0, \"#f0f921\"]]}, \"legend\": {\"itemsizing\": \"constant\", \"tracegroupgap\": 0}, \"margin\": {\"t\": 60}, \"template\": {\"data\": {\"bar\": [{\"error_x\": {\"color\": \"#2a3f5f\"}, \"error_y\": {\"color\": \"#2a3f5f\"}, \"marker\": {\"line\": {\"color\": \"#E5ECF6\", \"width\": 0.5}}, \"type\": \"bar\"}], \"barpolar\": [{\"marker\": {\"line\": {\"color\": \"#E5ECF6\", \"width\": 0.5}}, \"type\": \"barpolar\"}], \"carpet\": [{\"aaxis\": {\"endlinecolor\": \"#2a3f5f\", \"gridcolor\": \"white\", \"linecolor\": \"white\", \"minorgridcolor\": \"white\", \"startlinecolor\": \"#2a3f5f\"}, \"baxis\": {\"endlinecolor\": \"#2a3f5f\", \"gridcolor\": \"white\", \"linecolor\": \"white\", \"minorgridcolor\": \"white\", \"startlinecolor\": \"#2a3f5f\"}, \"type\": \"carpet\"}], \"choropleth\": [{\"colorbar\": {\"outlinewidth\": 0, \"ticks\": \"\"}, \"type\": \"choropleth\"}], \"contour\": [{\"colorbar\": {\"outlinewidth\": 0, \"ticks\": \"\"}, \"colorscale\": [[0.0, \"#0d0887\"], [0.1111111111111111, \"#46039f\"], [0.2222222222222222, \"#7201a8\"], [0.3333333333333333, \"#9c179e\"], [0.4444444444444444, \"#bd3786\"], [0.5555555555555556, \"#d8576b\"], [0.6666666666666666, \"#ed7953\"], [0.7777777777777778, \"#fb9f3a\"], [0.8888888888888888, \"#fdca26\"], [1.0, \"#f0f921\"]], \"type\": \"contour\"}], \"contourcarpet\": [{\"colorbar\": {\"outlinewidth\": 0, \"ticks\": \"\"}, \"type\": \"contourcarpet\"}], \"heatmap\": [{\"colorbar\": {\"outlinewidth\": 0, \"ticks\": \"\"}, \"colorscale\": [[0.0, \"#0d0887\"], [0.1111111111111111, \"#46039f\"], [0.2222222222222222, \"#7201a8\"], [0.3333333333333333, \"#9c179e\"], [0.4444444444444444, \"#bd3786\"], [0.5555555555555556, \"#d8576b\"], [0.6666666666666666, \"#ed7953\"], [0.7777777777777778, \"#fb9f3a\"], [0.8888888888888888, \"#fdca26\"], [1.0, \"#f0f921\"]], \"type\": \"heatmap\"}], \"heatmapgl\": [{\"colorbar\": {\"outlinewidth\": 0, \"ticks\": \"\"}, \"colorscale\": [[0.0, \"#0d0887\"], [0.1111111111111111, \"#46039f\"], [0.2222222222222222, \"#7201a8\"], [0.3333333333333333, \"#9c179e\"], [0.4444444444444444, \"#bd3786\"], [0.5555555555555556, \"#d8576b\"], [0.6666666666666666, \"#ed7953\"], [0.7777777777777778, \"#fb9f3a\"], [0.8888888888888888, \"#fdca26\"], [1.0, \"#f0f921\"]], \"type\": \"heatmapgl\"}], \"histogram\": [{\"marker\": {\"colorbar\": {\"outlinewidth\": 0, \"ticks\": \"\"}}, \"type\": \"histogram\"}], \"histogram2d\": [{\"colorbar\": {\"outlinewidth\": 0, \"ticks\": \"\"}, \"colorscale\": [[0.0, \"#0d0887\"], [0.1111111111111111, \"#46039f\"], [0.2222222222222222, \"#7201a8\"], [0.3333333333333333, \"#9c179e\"], [0.4444444444444444, \"#bd3786\"], [0.5555555555555556, \"#d8576b\"], [0.6666666666666666, \"#ed7953\"], [0.7777777777777778, \"#fb9f3a\"], [0.8888888888888888, \"#fdca26\"], [1.0, \"#f0f921\"]], \"type\": \"histogram2d\"}], \"histogram2dcontour\": [{\"colorbar\": {\"outlinewidth\": 0, \"ticks\": \"\"}, \"colorscale\": [[0.0, \"#0d0887\"], [0.1111111111111111, \"#46039f\"], [0.2222222222222222, \"#7201a8\"], [0.3333333333333333, \"#9c179e\"], [0.4444444444444444, \"#bd3786\"], [0.5555555555555556, \"#d8576b\"], [0.6666666666666666, \"#ed7953\"], [0.7777777777777778, \"#fb9f3a\"], [0.8888888888888888, \"#fdca26\"], [1.0, \"#f0f921\"]], \"type\": \"histogram2dcontour\"}], \"mesh3d\": [{\"colorbar\": {\"outlinewidth\": 0, \"ticks\": \"\"}, \"type\": \"mesh3d\"}], \"parcoords\": [{\"line\": {\"colorbar\": {\"outlinewidth\": 0, \"ticks\": \"\"}}, \"type\": \"parcoords\"}], \"pie\": [{\"automargin\": true, \"type\": \"pie\"}], \"scatter\": [{\"marker\": {\"colorbar\": {\"outlinewidth\": 0, \"ticks\": \"\"}}, \"type\": \"scatter\"}], \"scatter3d\": [{\"line\": {\"colorbar\": {\"outlinewidth\": 0, \"ticks\": \"\"}}, \"marker\": {\"colorbar\": {\"outlinewidth\": 0, \"ticks\": \"\"}}, \"type\": \"scatter3d\"}], \"scattercarpet\": [{\"marker\": {\"colorbar\": {\"outlinewidth\": 0, \"ticks\": \"\"}}, \"type\": \"scattercarpet\"}], \"scattergeo\": [{\"marker\": {\"colorbar\": {\"outlinewidth\": 0, \"ticks\": \"\"}}, \"type\": \"scattergeo\"}], \"scattergl\": [{\"marker\": {\"colorbar\": {\"outlinewidth\": 0, \"ticks\": \"\"}}, \"type\": \"scattergl\"}], \"scattermapbox\": [{\"marker\": {\"colorbar\": {\"outlinewidth\": 0, \"ticks\": \"\"}}, \"type\": \"scattermapbox\"}], \"scatterpolar\": [{\"marker\": {\"colorbar\": {\"outlinewidth\": 0, \"ticks\": \"\"}}, \"type\": \"scatterpolar\"}], \"scatterpolargl\": [{\"marker\": {\"colorbar\": {\"outlinewidth\": 0, \"ticks\": \"\"}}, \"type\": \"scatterpolargl\"}], \"scatterternary\": [{\"marker\": {\"colorbar\": {\"outlinewidth\": 0, \"ticks\": \"\"}}, \"type\": \"scatterternary\"}], \"surface\": [{\"colorbar\": {\"outlinewidth\": 0, \"ticks\": \"\"}, \"colorscale\": [[0.0, \"#0d0887\"], [0.1111111111111111, \"#46039f\"], [0.2222222222222222, \"#7201a8\"], [0.3333333333333333, \"#9c179e\"], [0.4444444444444444, \"#bd3786\"], [0.5555555555555556, \"#d8576b\"], [0.6666666666666666, \"#ed7953\"], [0.7777777777777778, \"#fb9f3a\"], [0.8888888888888888, \"#fdca26\"], [1.0, \"#f0f921\"]], \"type\": \"surface\"}], \"table\": [{\"cells\": {\"fill\": {\"color\": \"#EBF0F8\"}, \"line\": {\"color\": \"white\"}}, \"header\": {\"fill\": {\"color\": \"#C8D4E3\"}, \"line\": {\"color\": \"white\"}}, \"type\": \"table\"}]}, \"layout\": {\"annotationdefaults\": {\"arrowcolor\": \"#2a3f5f\", \"arrowhead\": 0, \"arrowwidth\": 1}, \"coloraxis\": {\"colorbar\": {\"outlinewidth\": 0, \"ticks\": \"\"}}, \"colorscale\": {\"diverging\": [[0, \"#8e0152\"], [0.1, \"#c51b7d\"], [0.2, \"#de77ae\"], [0.3, \"#f1b6da\"], [0.4, \"#fde0ef\"], [0.5, \"#f7f7f7\"], [0.6, \"#e6f5d0\"], [0.7, \"#b8e186\"], [0.8, \"#7fbc41\"], [0.9, \"#4d9221\"], [1, \"#276419\"]], \"sequential\": [[0.0, \"#0d0887\"], [0.1111111111111111, \"#46039f\"], [0.2222222222222222, \"#7201a8\"], [0.3333333333333333, \"#9c179e\"], [0.4444444444444444, \"#bd3786\"], [0.5555555555555556, \"#d8576b\"], [0.6666666666666666, \"#ed7953\"], [0.7777777777777778, \"#fb9f3a\"], [0.8888888888888888, \"#fdca26\"], [1.0, \"#f0f921\"]], \"sequentialminus\": [[0.0, \"#0d0887\"], [0.1111111111111111, \"#46039f\"], [0.2222222222222222, \"#7201a8\"], [0.3333333333333333, \"#9c179e\"], [0.4444444444444444, \"#bd3786\"], [0.5555555555555556, \"#d8576b\"], [0.6666666666666666, \"#ed7953\"], [0.7777777777777778, \"#fb9f3a\"], [0.8888888888888888, \"#fdca26\"], [1.0, \"#f0f921\"]]}, \"colorway\": [\"#636efa\", \"#EF553B\", \"#00cc96\", \"#ab63fa\", \"#FFA15A\", \"#19d3f3\", \"#FF6692\", \"#B6E880\", \"#FF97FF\", \"#FECB52\"], \"font\": {\"color\": \"#2a3f5f\"}, \"geo\": {\"bgcolor\": \"white\", \"lakecolor\": \"white\", \"landcolor\": \"#E5ECF6\", \"showlakes\": true, \"showland\": true, \"subunitcolor\": \"white\"}, \"hoverlabel\": {\"align\": \"left\"}, \"hovermode\": \"closest\", \"mapbox\": {\"style\": \"light\"}, \"paper_bgcolor\": \"white\", \"plot_bgcolor\": \"#E5ECF6\", \"polar\": {\"angularaxis\": {\"gridcolor\": \"white\", \"linecolor\": \"white\", \"ticks\": \"\"}, \"bgcolor\": \"#E5ECF6\", \"radialaxis\": {\"gridcolor\": \"white\", \"linecolor\": \"white\", \"ticks\": \"\"}}, \"scene\": {\"xaxis\": {\"backgroundcolor\": \"#E5ECF6\", \"gridcolor\": \"white\", \"gridwidth\": 2, \"linecolor\": \"white\", \"showbackground\": true, \"ticks\": \"\", \"zerolinecolor\": \"white\"}, \"yaxis\": {\"backgroundcolor\": \"#E5ECF6\", \"gridcolor\": \"white\", \"gridwidth\": 2, \"linecolor\": \"white\", \"showbackground\": true, \"ticks\": \"\", \"zerolinecolor\": \"white\"}, \"zaxis\": {\"backgroundcolor\": \"#E5ECF6\", \"gridcolor\": \"white\", \"gridwidth\": 2, \"linecolor\": \"white\", \"showbackground\": true, \"ticks\": \"\", \"zerolinecolor\": \"white\"}}, \"shapedefaults\": {\"line\": {\"color\": \"#2a3f5f\"}}, \"ternary\": {\"aaxis\": {\"gridcolor\": \"white\", \"linecolor\": \"white\", \"ticks\": \"\"}, \"baxis\": {\"gridcolor\": \"white\", \"linecolor\": \"white\", \"ticks\": \"\"}, \"bgcolor\": \"#E5ECF6\", \"caxis\": {\"gridcolor\": \"white\", \"linecolor\": \"white\", \"ticks\": \"\"}}, \"title\": {\"x\": 0.05}, \"xaxis\": {\"automargin\": true, \"gridcolor\": \"white\", \"linecolor\": \"white\", \"ticks\": \"\", \"title\": {\"standoff\": 15}, \"zerolinecolor\": \"white\", \"zerolinewidth\": 2}, \"yaxis\": {\"automargin\": true, \"gridcolor\": \"white\", \"linecolor\": \"white\", \"ticks\": \"\", \"title\": {\"standoff\": 15}, \"zerolinecolor\": \"white\", \"zerolinewidth\": 2}}}, \"xaxis\": {\"anchor\": \"y\", \"domain\": [0.0, 1.0], \"title\": {\"text\": \"Date\"}}, \"yaxis\": {\"anchor\": \"x\", \"domain\": [0.0, 1.0], \"title\": {\"text\": \"CRSP Market Cap\"}}},\n",
       "                        {\"responsive\": true}\n",
       "                    ).then(function(){\n",
       "                            \n",
       "var gd = document.getElementById('b6834caf-579e-4fe5-96f2-0d682b3fe4d8');\n",
       "var x = new MutationObserver(function (mutations, observer) {{\n",
       "        var display = window.getComputedStyle(gd).display;\n",
       "        if (!display || display === 'none') {{\n",
       "            console.log([gd, 'removed!']);\n",
       "            Plotly.purge(gd);\n",
       "            observer.disconnect();\n",
       "        }}\n",
       "}});\n",
       "\n",
       "// Listen for the removal of the full notebook cells\n",
       "var notebookContainer = gd.closest('#notebook-container');\n",
       "if (notebookContainer) {{\n",
       "    x.observe(notebookContainer, {childList: true});\n",
       "}}\n",
       "\n",
       "// Listen for the clearing of the current output cell\n",
       "var outputEl = gd.closest('.output');\n",
       "if (outputEl) {{\n",
       "    x.observe(outputEl, {childList: true});\n",
       "}}\n",
       "\n",
       "                        })\n",
       "                };\n",
       "                });\n",
       "            </script>\n",
       "        </div>"
      ]
     },
     "metadata": {},
     "output_type": "display_data"
    }
   ],
   "source": [
    "fig.show()"
   ]
  },
  {
   "cell_type": "code",
   "execution_count": null,
   "metadata": {},
   "outputs": [],
   "source": []
  },
  {
   "cell_type": "code",
   "execution_count": null,
   "metadata": {},
   "outputs": [],
   "source": []
  },
  {
   "cell_type": "code",
   "execution_count": null,
   "metadata": {},
   "outputs": [],
   "source": []
  },
  {
   "cell_type": "code",
   "execution_count": null,
   "metadata": {},
   "outputs": [],
   "source": []
  },
  {
   "cell_type": "markdown",
   "metadata": {},
   "source": [
    "## JUMPS YEAR, MONTH - RETURN"
   ]
  },
  {
   "cell_type": "code",
   "execution_count": 7,
   "metadata": {},
   "outputs": [
    {
     "data": {
      "text/html": [
       "<div>\n",
       "<style scoped>\n",
       "    .dataframe tbody tr th:only-of-type {\n",
       "        vertical-align: middle;\n",
       "    }\n",
       "\n",
       "    .dataframe tbody tr th {\n",
       "        vertical-align: top;\n",
       "    }\n",
       "\n",
       "    .dataframe thead th {\n",
       "        text-align: right;\n",
       "    }\n",
       "</style>\n",
       "<table border=\"1\" class=\"dataframe\">\n",
       "  <thead>\n",
       "    <tr style=\"text-align: right;\">\n",
       "      <th></th>\n",
       "      <th>year</th>\n",
       "      <th>month</th>\n",
       "      <th>return</th>\n",
       "    </tr>\n",
       "  </thead>\n",
       "  <tbody>\n",
       "    <tr>\n",
       "      <th>0</th>\n",
       "      <td>2000</td>\n",
       "      <td>1</td>\n",
       "      <td>4</td>\n",
       "    </tr>\n",
       "    <tr>\n",
       "      <th>1</th>\n",
       "      <td>2000</td>\n",
       "      <td>2</td>\n",
       "      <td>1</td>\n",
       "    </tr>\n",
       "    <tr>\n",
       "      <th>2</th>\n",
       "      <td>2000</td>\n",
       "      <td>3</td>\n",
       "      <td>2</td>\n",
       "    </tr>\n",
       "    <tr>\n",
       "      <th>3</th>\n",
       "      <td>2000</td>\n",
       "      <td>4</td>\n",
       "      <td>4</td>\n",
       "    </tr>\n",
       "    <tr>\n",
       "      <th>4</th>\n",
       "      <td>2000</td>\n",
       "      <td>5</td>\n",
       "      <td>1</td>\n",
       "    </tr>\n",
       "  </tbody>\n",
       "</table>\n",
       "</div>"
      ],
      "text/plain": [
       "   year  month  return\n",
       "0  2000      1       4\n",
       "1  2000      2       1\n",
       "2  2000      3       2\n",
       "3  2000      4       4\n",
       "4  2000      5       1"
      ]
     },
     "execution_count": 7,
     "metadata": {},
     "output_type": "execute_result"
    }
   ],
   "source": [
    "usa_jumps_year_month.head()"
   ]
  },
  {
   "cell_type": "markdown",
   "metadata": {},
   "source": [
    "### GDP BY YEAR - CAP AND GDP "
   ]
  },
  {
   "cell_type": "code",
   "execution_count": 8,
   "metadata": {},
   "outputs": [
    {
     "data": {
      "text/html": [
       "<div>\n",
       "<style scoped>\n",
       "    .dataframe tbody tr th:only-of-type {\n",
       "        vertical-align: middle;\n",
       "    }\n",
       "\n",
       "    .dataframe tbody tr th {\n",
       "        vertical-align: top;\n",
       "    }\n",
       "\n",
       "    .dataframe thead th {\n",
       "        text-align: right;\n",
       "    }\n",
       "</style>\n",
       "<table border=\"1\" class=\"dataframe\">\n",
       "  <thead>\n",
       "    <tr style=\"text-align: right;\">\n",
       "      <th></th>\n",
       "      <th>year</th>\n",
       "      <th>cap</th>\n",
       "      <th>gdp</th>\n",
       "    </tr>\n",
       "  </thead>\n",
       "  <tbody>\n",
       "    <tr>\n",
       "      <th>0</th>\n",
       "      <td>2000</td>\n",
       "      <td>36334.90878</td>\n",
       "      <td>1.025230e+13</td>\n",
       "    </tr>\n",
       "    <tr>\n",
       "      <th>1</th>\n",
       "      <td>2001</td>\n",
       "      <td>37133.24281</td>\n",
       "      <td>1.058180e+13</td>\n",
       "    </tr>\n",
       "    <tr>\n",
       "      <th>2</th>\n",
       "      <td>2002</td>\n",
       "      <td>38023.16111</td>\n",
       "      <td>1.093640e+13</td>\n",
       "    </tr>\n",
       "    <tr>\n",
       "      <th>3</th>\n",
       "      <td>2003</td>\n",
       "      <td>39496.48588</td>\n",
       "      <td>1.145820e+13</td>\n",
       "    </tr>\n",
       "    <tr>\n",
       "      <th>4</th>\n",
       "      <td>2004</td>\n",
       "      <td>41712.80107</td>\n",
       "      <td>1.221370e+13</td>\n",
       "    </tr>\n",
       "    <tr>\n",
       "      <th>5</th>\n",
       "      <td>2005</td>\n",
       "      <td>44114.74778</td>\n",
       "      <td>1.303660e+13</td>\n",
       "    </tr>\n",
       "    <tr>\n",
       "      <th>6</th>\n",
       "      <td>2006</td>\n",
       "      <td>46298.73144</td>\n",
       "      <td>1.381460e+13</td>\n",
       "    </tr>\n",
       "    <tr>\n",
       "      <th>7</th>\n",
       "      <td>2007</td>\n",
       "      <td>47975.96768</td>\n",
       "      <td>1.445190e+13</td>\n",
       "    </tr>\n",
       "    <tr>\n",
       "      <th>8</th>\n",
       "      <td>2008</td>\n",
       "      <td>48382.55845</td>\n",
       "      <td>1.471280e+13</td>\n",
       "    </tr>\n",
       "    <tr>\n",
       "      <th>9</th>\n",
       "      <td>2009</td>\n",
       "      <td>47099.98047</td>\n",
       "      <td>1.444890e+13</td>\n",
       "    </tr>\n",
       "    <tr>\n",
       "      <th>10</th>\n",
       "      <td>2010</td>\n",
       "      <td>48467.51578</td>\n",
       "      <td>1.499210e+13</td>\n",
       "    </tr>\n",
       "    <tr>\n",
       "      <th>11</th>\n",
       "      <td>2011</td>\n",
       "      <td>49886.81811</td>\n",
       "      <td>1.554260e+13</td>\n",
       "    </tr>\n",
       "    <tr>\n",
       "      <th>12</th>\n",
       "      <td>2012</td>\n",
       "      <td>51610.60528</td>\n",
       "      <td>1.619700e+13</td>\n",
       "    </tr>\n",
       "    <tr>\n",
       "      <th>13</th>\n",
       "      <td>2013</td>\n",
       "      <td>53117.66783</td>\n",
       "      <td>1.678480e+13</td>\n",
       "    </tr>\n",
       "    <tr>\n",
       "      <th>14</th>\n",
       "      <td>2014</td>\n",
       "      <td>55047.72556</td>\n",
       "      <td>1.752170e+13</td>\n",
       "    </tr>\n",
       "    <tr>\n",
       "      <th>15</th>\n",
       "      <td>2015</td>\n",
       "      <td>56822.51882</td>\n",
       "      <td>1.821930e+13</td>\n",
       "    </tr>\n",
       "    <tr>\n",
       "      <th>16</th>\n",
       "      <td>2016</td>\n",
       "      <td>57927.51685</td>\n",
       "      <td>1.870720e+13</td>\n",
       "    </tr>\n",
       "    <tr>\n",
       "      <th>17</th>\n",
       "      <td>2017</td>\n",
       "      <td>59957.72585</td>\n",
       "      <td>1.948540e+13</td>\n",
       "    </tr>\n",
       "    <tr>\n",
       "      <th>18</th>\n",
       "      <td>2018</td>\n",
       "      <td>62886.83648</td>\n",
       "      <td>2.054430e+13</td>\n",
       "    </tr>\n",
       "    <tr>\n",
       "      <th>19</th>\n",
       "      <td>2019</td>\n",
       "      <td>65112.00000</td>\n",
       "      <td>2.130000e+13</td>\n",
       "    </tr>\n",
       "  </tbody>\n",
       "</table>\n",
       "</div>"
      ],
      "text/plain": [
       "    year          cap           gdp\n",
       "0   2000  36334.90878  1.025230e+13\n",
       "1   2001  37133.24281  1.058180e+13\n",
       "2   2002  38023.16111  1.093640e+13\n",
       "3   2003  39496.48588  1.145820e+13\n",
       "4   2004  41712.80107  1.221370e+13\n",
       "5   2005  44114.74778  1.303660e+13\n",
       "6   2006  46298.73144  1.381460e+13\n",
       "7   2007  47975.96768  1.445190e+13\n",
       "8   2008  48382.55845  1.471280e+13\n",
       "9   2009  47099.98047  1.444890e+13\n",
       "10  2010  48467.51578  1.499210e+13\n",
       "11  2011  49886.81811  1.554260e+13\n",
       "12  2012  51610.60528  1.619700e+13\n",
       "13  2013  53117.66783  1.678480e+13\n",
       "14  2014  55047.72556  1.752170e+13\n",
       "15  2015  56822.51882  1.821930e+13\n",
       "16  2016  57927.51685  1.870720e+13\n",
       "17  2017  59957.72585  1.948540e+13\n",
       "18  2018  62886.83648  2.054430e+13\n",
       "19  2019  65112.00000  2.130000e+13"
      ]
     },
     "execution_count": 8,
     "metadata": {},
     "output_type": "execute_result"
    }
   ],
   "source": [
    "usa_gdp_cap_data.head(20)"
   ]
  },
  {
   "cell_type": "code",
   "execution_count": 9,
   "metadata": {},
   "outputs": [
    {
     "data": {
      "text/html": [
       "<div>\n",
       "<style scoped>\n",
       "    .dataframe tbody tr th:only-of-type {\n",
       "        vertical-align: middle;\n",
       "    }\n",
       "\n",
       "    .dataframe tbody tr th {\n",
       "        vertical-align: top;\n",
       "    }\n",
       "\n",
       "    .dataframe thead th {\n",
       "        text-align: right;\n",
       "    }\n",
       "</style>\n",
       "<table border=\"1\" class=\"dataframe\">\n",
       "  <thead>\n",
       "    <tr style=\"text-align: right;\">\n",
       "      <th></th>\n",
       "      <th>Date</th>\n",
       "      <th>CRSP Market Cap</th>\n",
       "      <th>Communications</th>\n",
       "      <th>Materials</th>\n",
       "      <th>Consumer Discretionary</th>\n",
       "      <th>Consumer Staples</th>\n",
       "      <th>Energy</th>\n",
       "      <th>Financials</th>\n",
       "      <th>Health Care</th>\n",
       "      <th>Industrial</th>\n",
       "      <th>Technology</th>\n",
       "      <th>Real Estate</th>\n",
       "      <th>Utilities</th>\n",
       "      <th>BioTech</th>\n",
       "      <th>Defense</th>\n",
       "      <th>Semiconductor</th>\n",
       "      <th>Home Construction</th>\n",
       "    </tr>\n",
       "  </thead>\n",
       "  <tbody>\n",
       "    <tr>\n",
       "      <th>0</th>\n",
       "      <td>2000-01-04</td>\n",
       "      <td>-0.0384</td>\n",
       "      <td>NaN</td>\n",
       "      <td>NaN</td>\n",
       "      <td>NaN</td>\n",
       "      <td>NaN</td>\n",
       "      <td>NaN</td>\n",
       "      <td>NaN</td>\n",
       "      <td>NaN</td>\n",
       "      <td>-0.009627</td>\n",
       "      <td>-0.018823</td>\n",
       "      <td>-0.027627</td>\n",
       "      <td>-0.050733</td>\n",
       "      <td>-0.028159</td>\n",
       "      <td>-0.030165</td>\n",
       "      <td>-0.022692</td>\n",
       "      <td>-0.030083</td>\n",
       "    </tr>\n",
       "    <tr>\n",
       "      <th>1</th>\n",
       "      <td>2000-01-07</td>\n",
       "      <td>0.0322</td>\n",
       "      <td>NaN</td>\n",
       "      <td>NaN</td>\n",
       "      <td>NaN</td>\n",
       "      <td>NaN</td>\n",
       "      <td>NaN</td>\n",
       "      <td>NaN</td>\n",
       "      <td>NaN</td>\n",
       "      <td>-0.000569</td>\n",
       "      <td>0.010686</td>\n",
       "      <td>0.038101</td>\n",
       "      <td>0.017456</td>\n",
       "      <td>0.063395</td>\n",
       "      <td>0.008601</td>\n",
       "      <td>0.012208</td>\n",
       "      <td>0.047109</td>\n",
       "    </tr>\n",
       "    <tr>\n",
       "      <th>2</th>\n",
       "      <td>2000-01-24</td>\n",
       "      <td>-0.0272</td>\n",
       "      <td>NaN</td>\n",
       "      <td>NaN</td>\n",
       "      <td>NaN</td>\n",
       "      <td>NaN</td>\n",
       "      <td>NaN</td>\n",
       "      <td>NaN</td>\n",
       "      <td>NaN</td>\n",
       "      <td>-0.026399</td>\n",
       "      <td>-0.035445</td>\n",
       "      <td>-0.028682</td>\n",
       "      <td>-0.032634</td>\n",
       "      <td>-0.028801</td>\n",
       "      <td>-0.013453</td>\n",
       "      <td>-0.029844</td>\n",
       "      <td>-0.037318</td>\n",
       "    </tr>\n",
       "    <tr>\n",
       "      <th>3</th>\n",
       "      <td>2000-01-28</td>\n",
       "      <td>-0.0267</td>\n",
       "      <td>NaN</td>\n",
       "      <td>NaN</td>\n",
       "      <td>NaN</td>\n",
       "      <td>NaN</td>\n",
       "      <td>NaN</td>\n",
       "      <td>NaN</td>\n",
       "      <td>NaN</td>\n",
       "      <td>-0.017016</td>\n",
       "      <td>-0.011574</td>\n",
       "      <td>-0.026479</td>\n",
       "      <td>-0.035714</td>\n",
       "      <td>-0.008152</td>\n",
       "      <td>-0.005294</td>\n",
       "      <td>-0.020243</td>\n",
       "      <td>-0.039466</td>\n",
       "    </tr>\n",
       "    <tr>\n",
       "      <th>4</th>\n",
       "      <td>2000-02-18</td>\n",
       "      <td>-0.0300</td>\n",
       "      <td>NaN</td>\n",
       "      <td>NaN</td>\n",
       "      <td>NaN</td>\n",
       "      <td>NaN</td>\n",
       "      <td>NaN</td>\n",
       "      <td>NaN</td>\n",
       "      <td>NaN</td>\n",
       "      <td>-0.030619</td>\n",
       "      <td>-0.029176</td>\n",
       "      <td>-0.021919</td>\n",
       "      <td>-0.033784</td>\n",
       "      <td>-0.011611</td>\n",
       "      <td>-0.036747</td>\n",
       "      <td>-0.027478</td>\n",
       "      <td>-0.014779</td>\n",
       "    </tr>\n",
       "  </tbody>\n",
       "</table>\n",
       "</div>"
      ],
      "text/plain": [
       "         Date  CRSP Market Cap  Communications  Materials  \\\n",
       "0  2000-01-04          -0.0384             NaN        NaN   \n",
       "1  2000-01-07           0.0322             NaN        NaN   \n",
       "2  2000-01-24          -0.0272             NaN        NaN   \n",
       "3  2000-01-28          -0.0267             NaN        NaN   \n",
       "4  2000-02-18          -0.0300             NaN        NaN   \n",
       "\n",
       "   Consumer Discretionary  Consumer Staples  Energy  Financials  Health Care  \\\n",
       "0                     NaN               NaN     NaN         NaN          NaN   \n",
       "1                     NaN               NaN     NaN         NaN          NaN   \n",
       "2                     NaN               NaN     NaN         NaN          NaN   \n",
       "3                     NaN               NaN     NaN         NaN          NaN   \n",
       "4                     NaN               NaN     NaN         NaN          NaN   \n",
       "\n",
       "   Industrial  Technology  Real Estate  Utilities   BioTech   Defense  \\\n",
       "0   -0.009627   -0.018823    -0.027627  -0.050733 -0.028159 -0.030165   \n",
       "1   -0.000569    0.010686     0.038101   0.017456  0.063395  0.008601   \n",
       "2   -0.026399   -0.035445    -0.028682  -0.032634 -0.028801 -0.013453   \n",
       "3   -0.017016   -0.011574    -0.026479  -0.035714 -0.008152 -0.005294   \n",
       "4   -0.030619   -0.029176    -0.021919  -0.033784 -0.011611 -0.036747   \n",
       "\n",
       "   Semiconductor  Home Construction  \n",
       "0      -0.022692          -0.030083  \n",
       "1       0.012208           0.047109  \n",
       "2      -0.029844          -0.037318  \n",
       "3      -0.020243          -0.039466  \n",
       "4      -0.027478          -0.014779  "
      ]
     },
     "execution_count": 9,
     "metadata": {},
     "output_type": "execute_result"
    }
   ],
   "source": [
    "sector_jumps_data.head()"
   ]
  },
  {
   "cell_type": "code",
   "execution_count": 10,
   "metadata": {},
   "outputs": [],
   "source": [
    "#usa_jumps_year_month.set_index(['year','month'], inplace=True)\n",
    "#usa_disaster_data_year_month.set_index(['year','month'], inplace=True)"
   ]
  },
  {
   "cell_type": "code",
   "execution_count": 11,
   "metadata": {},
   "outputs": [
    {
     "data": {
      "text/html": [
       "<div>\n",
       "<style scoped>\n",
       "    .dataframe tbody tr th:only-of-type {\n",
       "        vertical-align: middle;\n",
       "    }\n",
       "\n",
       "    .dataframe tbody tr th {\n",
       "        vertical-align: top;\n",
       "    }\n",
       "\n",
       "    .dataframe thead th {\n",
       "        text-align: right;\n",
       "    }\n",
       "</style>\n",
       "<table border=\"1\" class=\"dataframe\">\n",
       "  <thead>\n",
       "    <tr style=\"text-align: right;\">\n",
       "      <th></th>\n",
       "      <th>year</th>\n",
       "      <th>start_month</th>\n",
       "      <th>total_deaths</th>\n",
       "      <th>no_affected</th>\n",
       "    </tr>\n",
       "  </thead>\n",
       "  <tbody>\n",
       "    <tr>\n",
       "      <th>0</th>\n",
       "      <td>2000</td>\n",
       "      <td>1</td>\n",
       "      <td>5</td>\n",
       "      <td>0</td>\n",
       "    </tr>\n",
       "    <tr>\n",
       "      <th>1</th>\n",
       "      <td>2000</td>\n",
       "      <td>2</td>\n",
       "      <td>25</td>\n",
       "      <td>1731</td>\n",
       "    </tr>\n",
       "    <tr>\n",
       "      <th>2</th>\n",
       "      <td>2000</td>\n",
       "      <td>3</td>\n",
       "      <td>5</td>\n",
       "      <td>3000</td>\n",
       "    </tr>\n",
       "    <tr>\n",
       "      <th>3</th>\n",
       "      <td>2000</td>\n",
       "      <td>5</td>\n",
       "      <td>5</td>\n",
       "      <td>25840</td>\n",
       "    </tr>\n",
       "    <tr>\n",
       "      <th>4</th>\n",
       "      <td>2000</td>\n",
       "      <td>6</td>\n",
       "      <td>0</td>\n",
       "      <td>8800</td>\n",
       "    </tr>\n",
       "  </tbody>\n",
       "</table>\n",
       "</div>"
      ],
      "text/plain": [
       "   year  start_month  total_deaths  no_affected\n",
       "0  2000            1             5            0\n",
       "1  2000            2            25         1731\n",
       "2  2000            3             5         3000\n",
       "3  2000            5             5        25840\n",
       "4  2000            6             0         8800"
      ]
     },
     "execution_count": 11,
     "metadata": {},
     "output_type": "execute_result"
    }
   ],
   "source": [
    "usa_disaster_data_year_month.head()"
   ]
  },
  {
   "cell_type": "code",
   "execution_count": 12,
   "metadata": {},
   "outputs": [],
   "source": [
    "month_year_joined = pd.concat([usa_jumps_year_month, usa_disaster_data_year_month], axis='columns', join='inner')"
   ]
  },
  {
   "cell_type": "code",
   "execution_count": 13,
   "metadata": {},
   "outputs": [],
   "source": [
    "month_year_joined.sort_index(inplace=True)"
   ]
  },
  {
   "cell_type": "code",
   "execution_count": 14,
   "metadata": {},
   "outputs": [],
   "source": [
    "month_year_joined.to_csv(\"Month_year_jumps_deaths_affected.csv\")"
   ]
  },
  {
   "cell_type": "code",
   "execution_count": 15,
   "metadata": {},
   "outputs": [],
   "source": [
    "#sector_jumps_data.groupby(sector_jumps_data.index.year).count()\n",
    "sector_jumps_data.index = pd.to_datetime(sector_jumps_data.index)"
   ]
  },
  {
   "cell_type": "code",
   "execution_count": 16,
   "metadata": {},
   "outputs": [
    {
     "data": {
      "text/html": [
       "<div>\n",
       "<style scoped>\n",
       "    .dataframe tbody tr th:only-of-type {\n",
       "        vertical-align: middle;\n",
       "    }\n",
       "\n",
       "    .dataframe tbody tr th {\n",
       "        vertical-align: top;\n",
       "    }\n",
       "\n",
       "    .dataframe thead th {\n",
       "        text-align: right;\n",
       "    }\n",
       "</style>\n",
       "<table border=\"1\" class=\"dataframe\">\n",
       "  <thead>\n",
       "    <tr style=\"text-align: right;\">\n",
       "      <th></th>\n",
       "      <th>Date</th>\n",
       "      <th>CRSP Market Cap</th>\n",
       "      <th>Communications</th>\n",
       "      <th>Materials</th>\n",
       "      <th>Consumer Discretionary</th>\n",
       "      <th>Consumer Staples</th>\n",
       "      <th>Energy</th>\n",
       "      <th>Financials</th>\n",
       "      <th>Health Care</th>\n",
       "      <th>Industrial</th>\n",
       "      <th>Technology</th>\n",
       "      <th>Real Estate</th>\n",
       "      <th>Utilities</th>\n",
       "      <th>BioTech</th>\n",
       "      <th>Defense</th>\n",
       "      <th>Semiconductor</th>\n",
       "      <th>Home Construction</th>\n",
       "    </tr>\n",
       "  </thead>\n",
       "  <tbody>\n",
       "    <tr>\n",
       "      <th>1970</th>\n",
       "      <td>245</td>\n",
       "      <td>245</td>\n",
       "      <td>225</td>\n",
       "      <td>180</td>\n",
       "      <td>180</td>\n",
       "      <td>234</td>\n",
       "      <td>233</td>\n",
       "      <td>234</td>\n",
       "      <td>216</td>\n",
       "      <td>245</td>\n",
       "      <td>245</td>\n",
       "      <td>245</td>\n",
       "      <td>245</td>\n",
       "      <td>245</td>\n",
       "      <td>245</td>\n",
       "      <td>245</td>\n",
       "      <td>245</td>\n",
       "    </tr>\n",
       "  </tbody>\n",
       "</table>\n",
       "</div>"
      ],
      "text/plain": [
       "      Date  CRSP Market Cap  Communications  Materials  \\\n",
       "1970   245              245             225        180   \n",
       "\n",
       "      Consumer Discretionary  Consumer Staples  Energy  Financials  \\\n",
       "1970                     180               234     233         234   \n",
       "\n",
       "      Health Care  Industrial  Technology  Real Estate  Utilities  BioTech  \\\n",
       "1970          216         245         245          245        245      245   \n",
       "\n",
       "      Defense  Semiconductor  Home Construction  \n",
       "1970      245            245                245  "
      ]
     },
     "execution_count": 16,
     "metadata": {},
     "output_type": "execute_result"
    }
   ],
   "source": [
    "sector_jumps_data.groupby(sector_jumps_data.index.year).count()"
   ]
  },
  {
   "cell_type": "code",
   "execution_count": 17,
   "metadata": {},
   "outputs": [
    {
     "data": {
      "text/plain": [
       "1970-01-01 00:00:00.000000001    0.032200\n",
       "1970-01-01 00:00:00.000000006    0.047300\n",
       "1970-01-01 00:00:00.000000008    0.032600\n",
       "1970-01-01 00:00:00.000000009    0.028600\n",
       "1970-01-01 00:00:00.000000010    0.034200\n",
       "1970-01-01 00:00:00.000000011    0.032400\n",
       "1970-01-01 00:00:00.000000013    0.034500\n",
       "1970-01-01 00:00:00.000000014    0.034900\n",
       "1970-01-01 00:00:00.000000015    0.039600\n",
       "1970-01-01 00:00:00.000000018    0.050600\n",
       "1970-01-01 00:00:00.000000023    0.025500\n",
       "1970-01-01 00:00:00.000000025    0.043900\n",
       "1970-01-01 00:00:00.000000026    0.027400\n",
       "1970-01-01 00:00:00.000000027    0.039400\n",
       "1970-01-01 00:00:00.000000028    0.028800\n",
       "1970-01-01 00:00:00.000000031    0.039000\n",
       "1970-01-01 00:00:00.000000033    0.037800\n",
       "1970-01-01 00:00:00.000000034    0.028700\n",
       "1970-01-01 00:00:00.000000035    0.036600\n",
       "1970-01-01 00:00:00.000000041    0.057500\n",
       "1970-01-01 00:00:00.000000042    0.054300\n",
       "1970-01-01 00:00:00.000000045    0.030000\n",
       "1970-01-01 00:00:00.000000046    0.032900\n",
       "1970-01-01 00:00:00.000000047    0.040400\n",
       "1970-01-01 00:00:00.000000050    0.025200\n",
       "1970-01-01 00:00:00.000000052    0.040100\n",
       "1970-01-01 00:00:00.000000054    0.035100\n",
       "1970-01-01 00:00:00.000000055    0.039200\n",
       "1970-01-01 00:00:00.000000056    0.047300\n",
       "1970-01-01 00:00:00.000000057    0.028200\n",
       "                                   ...   \n",
       "1970-01-01 00:00:00.000000173    0.029900\n",
       "1970-01-01 00:00:00.000000177    0.047400\n",
       "1970-01-01 00:00:00.000000179    0.046200\n",
       "1970-01-01 00:00:00.000000181    0.034400\n",
       "1970-01-01 00:00:00.000000182    0.028400\n",
       "1970-01-01 00:00:00.000000184    0.029000\n",
       "1970-01-01 00:00:00.000000189    0.034100\n",
       "1970-01-01 00:00:00.000000190    0.034400\n",
       "1970-01-01 00:00:00.000000193    0.029200\n",
       "1970-01-01 00:00:00.000000194    0.043300\n",
       "1970-01-01 00:00:00.000000195    0.029900\n",
       "1970-01-01 00:00:00.000000196    0.025200\n",
       "1970-01-01 00:00:00.000000197    0.025600\n",
       "1970-01-01 00:00:00.000000200    0.039200\n",
       "1970-01-01 00:00:00.000000202    0.025400\n",
       "1970-01-01 00:00:00.000000209    0.027200\n",
       "1970-01-01 00:00:00.000000214    0.049600\n",
       "1970-01-01 00:00:00.000000215    0.034300\n",
       "1970-01-01 00:00:00.000000222    0.046039\n",
       "1970-01-01 00:00:00.000000224    0.042203\n",
       "1970-01-01 00:00:00.000000227    0.049396\n",
       "1970-01-01 00:00:00.000000230    0.092871\n",
       "1970-01-01 00:00:00.000000232    0.059955\n",
       "1970-01-01 00:00:00.000000236    0.093828\n",
       "1970-01-01 00:00:00.000000237    0.062414\n",
       "1970-01-01 00:00:00.000000239    0.033516\n",
       "1970-01-01 00:00:00.000000240    0.070331\n",
       "1970-01-01 00:00:00.000000241    0.034056\n",
       "1970-01-01 00:00:00.000000242    0.030573\n",
       "1970-01-01 00:00:00.000000243    0.026794\n",
       "Name: CRSP Market Cap, Length: 112, dtype: float64"
      ]
     },
     "execution_count": 17,
     "metadata": {},
     "output_type": "execute_result"
    }
   ],
   "source": [
    "sector_jumps_data.loc[(sector_jumps_data['CRSP Market Cap'] > .025),'CRSP Market Cap'] "
   ]
  },
  {
   "cell_type": "code",
   "execution_count": 18,
   "metadata": {},
   "outputs": [],
   "source": [
    "sector_jumps_data = pd.read_csv('sector_jumps.csv')"
   ]
  },
  {
   "cell_type": "code",
   "execution_count": 19,
   "metadata": {},
   "outputs": [
    {
     "data": {
      "text/plain": [
       "22    -0.019077\n",
       "30     0.002797\n",
       "31     0.002899\n",
       "32    -0.017722\n",
       "38    -0.022612\n",
       "39     0.002920\n",
       "55     0.010753\n",
       "56     0.020408\n",
       "60    -0.011288\n",
       "66    -0.008710\n",
       "67    -0.012038\n",
       "68     0.019544\n",
       "69    -0.021235\n",
       "70    -0.015241\n",
       "71    -0.022424\n",
       "72     0.007065\n",
       "74    -0.021302\n",
       "75    -0.001457\n",
       "77    -0.012563\n",
       "82    -0.017692\n",
       "83     0.006097\n",
       "84     0.017608\n",
       "86    -0.012678\n",
       "87    -0.018594\n",
       "90     0.015105\n",
       "93     0.014464\n",
       "100   -0.006953\n",
       "102   -0.024086\n",
       "104   -0.020793\n",
       "108   -0.000686\n",
       "         ...   \n",
       "134    0.021051\n",
       "135   -0.004208\n",
       "136    0.007439\n",
       "138   -0.014345\n",
       "139   -0.016138\n",
       "140    0.015242\n",
       "147   -0.012821\n",
       "148    0.008006\n",
       "149    0.018621\n",
       "151    0.011765\n",
       "152   -0.022578\n",
       "153    0.011938\n",
       "154    0.024282\n",
       "155    0.007245\n",
       "156   -0.021330\n",
       "158    0.010794\n",
       "160   -0.012382\n",
       "170    0.017175\n",
       "183   -0.020053\n",
       "186   -0.017570\n",
       "189    0.024232\n",
       "190    0.020133\n",
       "191   -0.020768\n",
       "208   -0.022951\n",
       "213   -0.013757\n",
       "217   -0.022300\n",
       "225   -0.017423\n",
       "227    0.021000\n",
       "235   -0.005508\n",
       "238   -0.019477\n",
       "Name: Communications, Length: 68, dtype: float64"
      ]
     },
     "execution_count": 19,
     "metadata": {},
     "output_type": "execute_result"
    }
   ],
   "source": [
    "sector_jumps_data.loc[(((sector_jumps_data['Communications'])*100).abs() <2.5), 'Communications']"
   ]
  },
  {
   "cell_type": "code",
   "execution_count": 20,
   "metadata": {},
   "outputs": [],
   "source": [
    "#sector_jumps_data['Absolute_Col']= abs(sector_jumps_data['Communications'] < 2.5)"
   ]
  },
  {
   "cell_type": "code",
   "execution_count": 21,
   "metadata": {},
   "outputs": [],
   "source": [
    "sector_jumps_data.loc[(((sector_jumps_data['Industrial'])*100).abs() <2.5),'Industrial'] = 0\n",
    "sector_jumps_data.loc[(((sector_jumps_data['Technology'])*100).abs() <2.5),'Technology'] = 0\n",
    "sector_jumps_data.loc[(((sector_jumps_data['Communications'])*100).abs() <2.5),'Communications'] = 0\n",
    "sector_jumps_data.loc[(((sector_jumps_data['Real Estate'])*100).abs() <2.5),'Real Estate'] = 0\n",
    "sector_jumps_data.loc[(((sector_jumps_data['Financials'])*100).abs() <2.5),'Financials'] = 0\n",
    "sector_jumps_data.loc[(((sector_jumps_data['Health Care'])*100).abs() <2.5),'Health Care'] = 0\n",
    "sector_jumps_data.loc[(((sector_jumps_data['Materials'])*100).abs() <2.5),'Materials'] = 0\n",
    "sector_jumps_data.loc[(((sector_jumps_data['Consumer Discretionary'])*100).abs() <2.5),'Consumer Discretionary'] = 0\n",
    "sector_jumps_data.loc[(((sector_jumps_data['Consumer Staples'])*100).abs() <2.5),'Consumer Staples'] = 0\n",
    "sector_jumps_data.loc[(((sector_jumps_data['Energy'])*100).abs() <2.5),'Energy'] = 0\n",
    "sector_jumps_data.loc[(((sector_jumps_data['Utilities'])*100).abs() <2.5),'Utilities'] = 0\n",
    "sector_jumps_data.loc[(((sector_jumps_data['BioTech'])*100).abs() <2.5),'BioTech'] = 0\n",
    "sector_jumps_data.loc[(((sector_jumps_data['Defense'])*100).abs() <2.5),'Defense'] = 0\n",
    "sector_jumps_data.loc[(((sector_jumps_data['Semiconductor'])*100).abs() <2.5),'Semiconductor'] = 0\n",
    "sector_jumps_data.loc[(((sector_jumps_data['Home Construction'])*100).abs() <2.5),'Home Construction'] = 0"
   ]
  },
  {
   "cell_type": "code",
   "execution_count": 22,
   "metadata": {},
   "outputs": [],
   "source": [
    "#sector_jumps_data.index = pd.to_datetime(sector_jumps_data.index)\n",
    "#sector_jumps_data.reset_index(inplace=True)"
   ]
  },
  {
   "cell_type": "code",
   "execution_count": 23,
   "metadata": {},
   "outputs": [
    {
     "data": {
      "text/html": [
       "<div>\n",
       "<style scoped>\n",
       "    .dataframe tbody tr th:only-of-type {\n",
       "        vertical-align: middle;\n",
       "    }\n",
       "\n",
       "    .dataframe tbody tr th {\n",
       "        vertical-align: top;\n",
       "    }\n",
       "\n",
       "    .dataframe thead th {\n",
       "        text-align: right;\n",
       "    }\n",
       "</style>\n",
       "<table border=\"1\" class=\"dataframe\">\n",
       "  <thead>\n",
       "    <tr style=\"text-align: right;\">\n",
       "      <th></th>\n",
       "      <th>Date</th>\n",
       "      <th>CRSP Market Cap</th>\n",
       "      <th>Communications</th>\n",
       "      <th>Materials</th>\n",
       "      <th>Consumer Discretionary</th>\n",
       "      <th>Consumer Staples</th>\n",
       "      <th>Energy</th>\n",
       "      <th>Financials</th>\n",
       "      <th>Health Care</th>\n",
       "      <th>Industrial</th>\n",
       "      <th>Technology</th>\n",
       "      <th>Real Estate</th>\n",
       "      <th>Utilities</th>\n",
       "      <th>BioTech</th>\n",
       "      <th>Defense</th>\n",
       "      <th>Semiconductor</th>\n",
       "      <th>Home Construction</th>\n",
       "    </tr>\n",
       "  </thead>\n",
       "  <tbody>\n",
       "    <tr>\n",
       "      <th>0</th>\n",
       "      <td>2000-01-04</td>\n",
       "      <td>-0.0384</td>\n",
       "      <td>NaN</td>\n",
       "      <td>NaN</td>\n",
       "      <td>NaN</td>\n",
       "      <td>NaN</td>\n",
       "      <td>NaN</td>\n",
       "      <td>NaN</td>\n",
       "      <td>NaN</td>\n",
       "      <td>0.000000</td>\n",
       "      <td>0.000000</td>\n",
       "      <td>-0.027627</td>\n",
       "      <td>-0.050733</td>\n",
       "      <td>-0.028159</td>\n",
       "      <td>-0.030165</td>\n",
       "      <td>0.000000</td>\n",
       "      <td>-0.030083</td>\n",
       "    </tr>\n",
       "    <tr>\n",
       "      <th>1</th>\n",
       "      <td>2000-01-07</td>\n",
       "      <td>0.0322</td>\n",
       "      <td>NaN</td>\n",
       "      <td>NaN</td>\n",
       "      <td>NaN</td>\n",
       "      <td>NaN</td>\n",
       "      <td>NaN</td>\n",
       "      <td>NaN</td>\n",
       "      <td>NaN</td>\n",
       "      <td>0.000000</td>\n",
       "      <td>0.000000</td>\n",
       "      <td>0.038101</td>\n",
       "      <td>0.000000</td>\n",
       "      <td>0.063395</td>\n",
       "      <td>0.000000</td>\n",
       "      <td>0.000000</td>\n",
       "      <td>0.047109</td>\n",
       "    </tr>\n",
       "    <tr>\n",
       "      <th>2</th>\n",
       "      <td>2000-01-24</td>\n",
       "      <td>-0.0272</td>\n",
       "      <td>NaN</td>\n",
       "      <td>NaN</td>\n",
       "      <td>NaN</td>\n",
       "      <td>NaN</td>\n",
       "      <td>NaN</td>\n",
       "      <td>NaN</td>\n",
       "      <td>NaN</td>\n",
       "      <td>-0.026399</td>\n",
       "      <td>-0.035445</td>\n",
       "      <td>-0.028682</td>\n",
       "      <td>-0.032634</td>\n",
       "      <td>-0.028801</td>\n",
       "      <td>0.000000</td>\n",
       "      <td>-0.029844</td>\n",
       "      <td>-0.037318</td>\n",
       "    </tr>\n",
       "    <tr>\n",
       "      <th>3</th>\n",
       "      <td>2000-01-28</td>\n",
       "      <td>-0.0267</td>\n",
       "      <td>NaN</td>\n",
       "      <td>NaN</td>\n",
       "      <td>NaN</td>\n",
       "      <td>NaN</td>\n",
       "      <td>NaN</td>\n",
       "      <td>NaN</td>\n",
       "      <td>NaN</td>\n",
       "      <td>0.000000</td>\n",
       "      <td>0.000000</td>\n",
       "      <td>-0.026479</td>\n",
       "      <td>-0.035714</td>\n",
       "      <td>0.000000</td>\n",
       "      <td>0.000000</td>\n",
       "      <td>0.000000</td>\n",
       "      <td>-0.039466</td>\n",
       "    </tr>\n",
       "    <tr>\n",
       "      <th>4</th>\n",
       "      <td>2000-02-18</td>\n",
       "      <td>-0.0300</td>\n",
       "      <td>NaN</td>\n",
       "      <td>NaN</td>\n",
       "      <td>NaN</td>\n",
       "      <td>NaN</td>\n",
       "      <td>NaN</td>\n",
       "      <td>NaN</td>\n",
       "      <td>NaN</td>\n",
       "      <td>-0.030619</td>\n",
       "      <td>-0.029176</td>\n",
       "      <td>0.000000</td>\n",
       "      <td>-0.033784</td>\n",
       "      <td>0.000000</td>\n",
       "      <td>-0.036747</td>\n",
       "      <td>-0.027478</td>\n",
       "      <td>0.000000</td>\n",
       "    </tr>\n",
       "  </tbody>\n",
       "</table>\n",
       "</div>"
      ],
      "text/plain": [
       "         Date  CRSP Market Cap  Communications  Materials  \\\n",
       "0  2000-01-04          -0.0384             NaN        NaN   \n",
       "1  2000-01-07           0.0322             NaN        NaN   \n",
       "2  2000-01-24          -0.0272             NaN        NaN   \n",
       "3  2000-01-28          -0.0267             NaN        NaN   \n",
       "4  2000-02-18          -0.0300             NaN        NaN   \n",
       "\n",
       "   Consumer Discretionary  Consumer Staples  Energy  Financials  Health Care  \\\n",
       "0                     NaN               NaN     NaN         NaN          NaN   \n",
       "1                     NaN               NaN     NaN         NaN          NaN   \n",
       "2                     NaN               NaN     NaN         NaN          NaN   \n",
       "3                     NaN               NaN     NaN         NaN          NaN   \n",
       "4                     NaN               NaN     NaN         NaN          NaN   \n",
       "\n",
       "   Industrial  Technology  Real Estate  Utilities   BioTech   Defense  \\\n",
       "0    0.000000    0.000000    -0.027627  -0.050733 -0.028159 -0.030165   \n",
       "1    0.000000    0.000000     0.038101   0.000000  0.063395  0.000000   \n",
       "2   -0.026399   -0.035445    -0.028682  -0.032634 -0.028801  0.000000   \n",
       "3    0.000000    0.000000    -0.026479  -0.035714  0.000000  0.000000   \n",
       "4   -0.030619   -0.029176     0.000000  -0.033784  0.000000 -0.036747   \n",
       "\n",
       "   Semiconductor  Home Construction  \n",
       "0       0.000000          -0.030083  \n",
       "1       0.000000           0.047109  \n",
       "2      -0.029844          -0.037318  \n",
       "3       0.000000          -0.039466  \n",
       "4      -0.027478           0.000000  "
      ]
     },
     "execution_count": 23,
     "metadata": {},
     "output_type": "execute_result"
    }
   ],
   "source": [
    "sector_jumps_data.head()"
   ]
  },
  {
   "cell_type": "code",
   "execution_count": 24,
   "metadata": {},
   "outputs": [],
   "source": [
    "#sector_jumps_datasector_jumps2.set_index('Date', inplace=True)\n",
    "#sector_jumps2.index=pd.to_datetime(sector_jumps2.index"
   ]
  },
  {
   "cell_type": "markdown",
   "metadata": {},
   "source": [
    "### SECTOR JUMPS DATA"
   ]
  },
  {
   "cell_type": "code",
   "execution_count": 25,
   "metadata": {},
   "outputs": [],
   "source": [
    "sector_jumps_data = pd.read_csv('sector_jumps.csv')"
   ]
  },
  {
   "cell_type": "code",
   "execution_count": 26,
   "metadata": {},
   "outputs": [
    {
     "data": {
      "text/html": [
       "<div>\n",
       "<style scoped>\n",
       "    .dataframe tbody tr th:only-of-type {\n",
       "        vertical-align: middle;\n",
       "    }\n",
       "\n",
       "    .dataframe tbody tr th {\n",
       "        vertical-align: top;\n",
       "    }\n",
       "\n",
       "    .dataframe thead th {\n",
       "        text-align: right;\n",
       "    }\n",
       "</style>\n",
       "<table border=\"1\" class=\"dataframe\">\n",
       "  <thead>\n",
       "    <tr style=\"text-align: right;\">\n",
       "      <th></th>\n",
       "      <th>Date</th>\n",
       "      <th>CRSP Market Cap</th>\n",
       "      <th>Communications</th>\n",
       "      <th>Materials</th>\n",
       "      <th>Consumer Discretionary</th>\n",
       "      <th>Consumer Staples</th>\n",
       "      <th>Energy</th>\n",
       "      <th>Financials</th>\n",
       "      <th>Health Care</th>\n",
       "      <th>Industrial</th>\n",
       "      <th>Technology</th>\n",
       "      <th>Real Estate</th>\n",
       "      <th>Utilities</th>\n",
       "      <th>BioTech</th>\n",
       "      <th>Defense</th>\n",
       "      <th>Semiconductor</th>\n",
       "      <th>Home Construction</th>\n",
       "    </tr>\n",
       "  </thead>\n",
       "  <tbody>\n",
       "    <tr>\n",
       "      <th>0</th>\n",
       "      <td>2000-01-04</td>\n",
       "      <td>-0.0384</td>\n",
       "      <td>NaN</td>\n",
       "      <td>NaN</td>\n",
       "      <td>NaN</td>\n",
       "      <td>NaN</td>\n",
       "      <td>NaN</td>\n",
       "      <td>NaN</td>\n",
       "      <td>NaN</td>\n",
       "      <td>-0.009627</td>\n",
       "      <td>-0.018823</td>\n",
       "      <td>-0.027627</td>\n",
       "      <td>-0.050733</td>\n",
       "      <td>-0.028159</td>\n",
       "      <td>-0.030165</td>\n",
       "      <td>-0.022692</td>\n",
       "      <td>-0.030083</td>\n",
       "    </tr>\n",
       "    <tr>\n",
       "      <th>1</th>\n",
       "      <td>2000-01-07</td>\n",
       "      <td>0.0322</td>\n",
       "      <td>NaN</td>\n",
       "      <td>NaN</td>\n",
       "      <td>NaN</td>\n",
       "      <td>NaN</td>\n",
       "      <td>NaN</td>\n",
       "      <td>NaN</td>\n",
       "      <td>NaN</td>\n",
       "      <td>-0.000569</td>\n",
       "      <td>0.010686</td>\n",
       "      <td>0.038101</td>\n",
       "      <td>0.017456</td>\n",
       "      <td>0.063395</td>\n",
       "      <td>0.008601</td>\n",
       "      <td>0.012208</td>\n",
       "      <td>0.047109</td>\n",
       "    </tr>\n",
       "  </tbody>\n",
       "</table>\n",
       "</div>"
      ],
      "text/plain": [
       "         Date  CRSP Market Cap  Communications  Materials  \\\n",
       "0  2000-01-04          -0.0384             NaN        NaN   \n",
       "1  2000-01-07           0.0322             NaN        NaN   \n",
       "\n",
       "   Consumer Discretionary  Consumer Staples  Energy  Financials  Health Care  \\\n",
       "0                     NaN               NaN     NaN         NaN          NaN   \n",
       "1                     NaN               NaN     NaN         NaN          NaN   \n",
       "\n",
       "   Industrial  Technology  Real Estate  Utilities   BioTech   Defense  \\\n",
       "0   -0.009627   -0.018823    -0.027627  -0.050733 -0.028159 -0.030165   \n",
       "1   -0.000569    0.010686     0.038101   0.017456  0.063395  0.008601   \n",
       "\n",
       "   Semiconductor  Home Construction  \n",
       "0      -0.022692          -0.030083  \n",
       "1       0.012208           0.047109  "
      ]
     },
     "execution_count": 26,
     "metadata": {},
     "output_type": "execute_result"
    }
   ],
   "source": [
    "sector_jumps_data.head(2)"
   ]
  },
  {
   "cell_type": "markdown",
   "metadata": {},
   "source": [
    "#### SET COLUMNS "
   ]
  },
  {
   "cell_type": "code",
   "execution_count": 27,
   "metadata": {},
   "outputs": [],
   "source": [
    "sector_jumps_data.columns = ['year', 'CRSP Market Cap', 'Communications', 'Materials',\n",
    "       'Consumer Discretionary', 'Consumer Staples', 'Energy', 'Financials',\n",
    "       'Health Care', 'Industrial', 'Technology', 'Real Estate', 'Utilities',\n",
    "       'BioTech', 'Defense', 'Semiconductor', 'Home Construction']"
   ]
  },
  {
   "cell_type": "code",
   "execution_count": 28,
   "metadata": {},
   "outputs": [],
   "source": [
    "sector_jumps_data.set_index('year', inplace=True)"
   ]
  },
  {
   "cell_type": "code",
   "execution_count": 29,
   "metadata": {},
   "outputs": [],
   "source": [
    "sector_jumps_data.reset_index(inplace=True)"
   ]
  },
  {
   "cell_type": "markdown",
   "metadata": {},
   "source": [
    "#### FOR LOOP THAT COUNTS NUMBER OF JUMPS OVER 2.5% "
   ]
  },
  {
   "cell_type": "code",
   "execution_count": 30,
   "metadata": {},
   "outputs": [],
   "source": [
    "for x, y in sector_jumps_data.iterrows():\n",
    "    \n",
    "    for index, elem in enumerate(y[1:]):\n",
    "        #print(sector_jumps2.iloc[x, index+1])\n",
    "        if abs(elem)>.025:\n",
    "            sector_jumps_data.iloc[x, index+1]=1\n",
    "        else:\n",
    "            sector_jumps_data.iloc[x, index+1]=0"
   ]
  },
  {
   "cell_type": "code",
   "execution_count": 31,
   "metadata": {},
   "outputs": [
    {
     "data": {
      "text/html": [
       "<div>\n",
       "<style scoped>\n",
       "    .dataframe tbody tr th:only-of-type {\n",
       "        vertical-align: middle;\n",
       "    }\n",
       "\n",
       "    .dataframe tbody tr th {\n",
       "        vertical-align: top;\n",
       "    }\n",
       "\n",
       "    .dataframe thead th {\n",
       "        text-align: right;\n",
       "    }\n",
       "</style>\n",
       "<table border=\"1\" class=\"dataframe\">\n",
       "  <thead>\n",
       "    <tr style=\"text-align: right;\">\n",
       "      <th></th>\n",
       "      <th>year</th>\n",
       "      <th>CRSP Market Cap</th>\n",
       "      <th>Communications</th>\n",
       "      <th>Materials</th>\n",
       "      <th>Consumer Discretionary</th>\n",
       "      <th>Consumer Staples</th>\n",
       "      <th>Energy</th>\n",
       "      <th>Financials</th>\n",
       "      <th>Health Care</th>\n",
       "      <th>Industrial</th>\n",
       "      <th>Technology</th>\n",
       "      <th>Real Estate</th>\n",
       "      <th>Utilities</th>\n",
       "      <th>BioTech</th>\n",
       "      <th>Defense</th>\n",
       "      <th>Semiconductor</th>\n",
       "      <th>Home Construction</th>\n",
       "    </tr>\n",
       "  </thead>\n",
       "  <tbody>\n",
       "    <tr>\n",
       "      <th>0</th>\n",
       "      <td>2000-01-04</td>\n",
       "      <td>1.0</td>\n",
       "      <td>0.0</td>\n",
       "      <td>0.0</td>\n",
       "      <td>0.0</td>\n",
       "      <td>0.0</td>\n",
       "      <td>0.0</td>\n",
       "      <td>0.0</td>\n",
       "      <td>0.0</td>\n",
       "      <td>0.0</td>\n",
       "      <td>0.0</td>\n",
       "      <td>1.0</td>\n",
       "      <td>1.0</td>\n",
       "      <td>1.0</td>\n",
       "      <td>1.0</td>\n",
       "      <td>0.0</td>\n",
       "      <td>1.0</td>\n",
       "    </tr>\n",
       "    <tr>\n",
       "      <th>1</th>\n",
       "      <td>2000-01-07</td>\n",
       "      <td>1.0</td>\n",
       "      <td>0.0</td>\n",
       "      <td>0.0</td>\n",
       "      <td>0.0</td>\n",
       "      <td>0.0</td>\n",
       "      <td>0.0</td>\n",
       "      <td>0.0</td>\n",
       "      <td>0.0</td>\n",
       "      <td>0.0</td>\n",
       "      <td>0.0</td>\n",
       "      <td>1.0</td>\n",
       "      <td>0.0</td>\n",
       "      <td>1.0</td>\n",
       "      <td>0.0</td>\n",
       "      <td>0.0</td>\n",
       "      <td>1.0</td>\n",
       "    </tr>\n",
       "    <tr>\n",
       "      <th>2</th>\n",
       "      <td>2000-01-24</td>\n",
       "      <td>1.0</td>\n",
       "      <td>0.0</td>\n",
       "      <td>0.0</td>\n",
       "      <td>0.0</td>\n",
       "      <td>0.0</td>\n",
       "      <td>0.0</td>\n",
       "      <td>0.0</td>\n",
       "      <td>0.0</td>\n",
       "      <td>1.0</td>\n",
       "      <td>1.0</td>\n",
       "      <td>1.0</td>\n",
       "      <td>1.0</td>\n",
       "      <td>1.0</td>\n",
       "      <td>0.0</td>\n",
       "      <td>1.0</td>\n",
       "      <td>1.0</td>\n",
       "    </tr>\n",
       "    <tr>\n",
       "      <th>3</th>\n",
       "      <td>2000-01-28</td>\n",
       "      <td>1.0</td>\n",
       "      <td>0.0</td>\n",
       "      <td>0.0</td>\n",
       "      <td>0.0</td>\n",
       "      <td>0.0</td>\n",
       "      <td>0.0</td>\n",
       "      <td>0.0</td>\n",
       "      <td>0.0</td>\n",
       "      <td>0.0</td>\n",
       "      <td>0.0</td>\n",
       "      <td>1.0</td>\n",
       "      <td>1.0</td>\n",
       "      <td>0.0</td>\n",
       "      <td>0.0</td>\n",
       "      <td>0.0</td>\n",
       "      <td>1.0</td>\n",
       "    </tr>\n",
       "    <tr>\n",
       "      <th>4</th>\n",
       "      <td>2000-02-18</td>\n",
       "      <td>1.0</td>\n",
       "      <td>0.0</td>\n",
       "      <td>0.0</td>\n",
       "      <td>0.0</td>\n",
       "      <td>0.0</td>\n",
       "      <td>0.0</td>\n",
       "      <td>0.0</td>\n",
       "      <td>0.0</td>\n",
       "      <td>1.0</td>\n",
       "      <td>1.0</td>\n",
       "      <td>0.0</td>\n",
       "      <td>1.0</td>\n",
       "      <td>0.0</td>\n",
       "      <td>1.0</td>\n",
       "      <td>1.0</td>\n",
       "      <td>0.0</td>\n",
       "    </tr>\n",
       "  </tbody>\n",
       "</table>\n",
       "</div>"
      ],
      "text/plain": [
       "         year  CRSP Market Cap  Communications  Materials  \\\n",
       "0  2000-01-04              1.0             0.0        0.0   \n",
       "1  2000-01-07              1.0             0.0        0.0   \n",
       "2  2000-01-24              1.0             0.0        0.0   \n",
       "3  2000-01-28              1.0             0.0        0.0   \n",
       "4  2000-02-18              1.0             0.0        0.0   \n",
       "\n",
       "   Consumer Discretionary  Consumer Staples  Energy  Financials  Health Care  \\\n",
       "0                     0.0               0.0     0.0         0.0          0.0   \n",
       "1                     0.0               0.0     0.0         0.0          0.0   \n",
       "2                     0.0               0.0     0.0         0.0          0.0   \n",
       "3                     0.0               0.0     0.0         0.0          0.0   \n",
       "4                     0.0               0.0     0.0         0.0          0.0   \n",
       "\n",
       "   Industrial  Technology  Real Estate  Utilities  BioTech  Defense  \\\n",
       "0         0.0         0.0          1.0        1.0      1.0      1.0   \n",
       "1         0.0         0.0          1.0        0.0      1.0      0.0   \n",
       "2         1.0         1.0          1.0        1.0      1.0      0.0   \n",
       "3         0.0         0.0          1.0        1.0      0.0      0.0   \n",
       "4         1.0         1.0          0.0        1.0      0.0      1.0   \n",
       "\n",
       "   Semiconductor  Home Construction  \n",
       "0            0.0                1.0  \n",
       "1            0.0                1.0  \n",
       "2            1.0                1.0  \n",
       "3            0.0                1.0  \n",
       "4            1.0                0.0  "
      ]
     },
     "execution_count": 31,
     "metadata": {},
     "output_type": "execute_result"
    }
   ],
   "source": [
    "sector_jumps_data.head()"
   ]
  },
  {
   "cell_type": "markdown",
   "metadata": {},
   "source": [
    "#### SET INDEX TO YEAR "
   ]
  },
  {
   "cell_type": "code",
   "execution_count": 32,
   "metadata": {},
   "outputs": [],
   "source": [
    "sector_jumps_data.set_index('year', inplace=True)"
   ]
  },
  {
   "cell_type": "code",
   "execution_count": 33,
   "metadata": {},
   "outputs": [
    {
     "data": {
      "text/html": [
       "<div>\n",
       "<style scoped>\n",
       "    .dataframe tbody tr th:only-of-type {\n",
       "        vertical-align: middle;\n",
       "    }\n",
       "\n",
       "    .dataframe tbody tr th {\n",
       "        vertical-align: top;\n",
       "    }\n",
       "\n",
       "    .dataframe thead th {\n",
       "        text-align: right;\n",
       "    }\n",
       "</style>\n",
       "<table border=\"1\" class=\"dataframe\">\n",
       "  <thead>\n",
       "    <tr style=\"text-align: right;\">\n",
       "      <th></th>\n",
       "      <th>CRSP Market Cap</th>\n",
       "      <th>Communications</th>\n",
       "      <th>Materials</th>\n",
       "      <th>Consumer Discretionary</th>\n",
       "      <th>Consumer Staples</th>\n",
       "      <th>Energy</th>\n",
       "      <th>Financials</th>\n",
       "      <th>Health Care</th>\n",
       "      <th>Industrial</th>\n",
       "      <th>Technology</th>\n",
       "      <th>Real Estate</th>\n",
       "      <th>Utilities</th>\n",
       "      <th>BioTech</th>\n",
       "      <th>Defense</th>\n",
       "      <th>Semiconductor</th>\n",
       "      <th>Home Construction</th>\n",
       "    </tr>\n",
       "    <tr>\n",
       "      <th>year</th>\n",
       "      <th></th>\n",
       "      <th></th>\n",
       "      <th></th>\n",
       "      <th></th>\n",
       "      <th></th>\n",
       "      <th></th>\n",
       "      <th></th>\n",
       "      <th></th>\n",
       "      <th></th>\n",
       "      <th></th>\n",
       "      <th></th>\n",
       "      <th></th>\n",
       "      <th></th>\n",
       "      <th></th>\n",
       "      <th></th>\n",
       "      <th></th>\n",
       "    </tr>\n",
       "  </thead>\n",
       "  <tbody>\n",
       "    <tr>\n",
       "      <th>2000-01-04</th>\n",
       "      <td>1.0</td>\n",
       "      <td>0.0</td>\n",
       "      <td>0.0</td>\n",
       "      <td>0.0</td>\n",
       "      <td>0.0</td>\n",
       "      <td>0.0</td>\n",
       "      <td>0.0</td>\n",
       "      <td>0.0</td>\n",
       "      <td>0.0</td>\n",
       "      <td>0.0</td>\n",
       "      <td>1.0</td>\n",
       "      <td>1.0</td>\n",
       "      <td>1.0</td>\n",
       "      <td>1.0</td>\n",
       "      <td>0.0</td>\n",
       "      <td>1.0</td>\n",
       "    </tr>\n",
       "    <tr>\n",
       "      <th>2000-01-07</th>\n",
       "      <td>1.0</td>\n",
       "      <td>0.0</td>\n",
       "      <td>0.0</td>\n",
       "      <td>0.0</td>\n",
       "      <td>0.0</td>\n",
       "      <td>0.0</td>\n",
       "      <td>0.0</td>\n",
       "      <td>0.0</td>\n",
       "      <td>0.0</td>\n",
       "      <td>0.0</td>\n",
       "      <td>1.0</td>\n",
       "      <td>0.0</td>\n",
       "      <td>1.0</td>\n",
       "      <td>0.0</td>\n",
       "      <td>0.0</td>\n",
       "      <td>1.0</td>\n",
       "    </tr>\n",
       "    <tr>\n",
       "      <th>2000-01-24</th>\n",
       "      <td>1.0</td>\n",
       "      <td>0.0</td>\n",
       "      <td>0.0</td>\n",
       "      <td>0.0</td>\n",
       "      <td>0.0</td>\n",
       "      <td>0.0</td>\n",
       "      <td>0.0</td>\n",
       "      <td>0.0</td>\n",
       "      <td>1.0</td>\n",
       "      <td>1.0</td>\n",
       "      <td>1.0</td>\n",
       "      <td>1.0</td>\n",
       "      <td>1.0</td>\n",
       "      <td>0.0</td>\n",
       "      <td>1.0</td>\n",
       "      <td>1.0</td>\n",
       "    </tr>\n",
       "    <tr>\n",
       "      <th>2000-01-28</th>\n",
       "      <td>1.0</td>\n",
       "      <td>0.0</td>\n",
       "      <td>0.0</td>\n",
       "      <td>0.0</td>\n",
       "      <td>0.0</td>\n",
       "      <td>0.0</td>\n",
       "      <td>0.0</td>\n",
       "      <td>0.0</td>\n",
       "      <td>0.0</td>\n",
       "      <td>0.0</td>\n",
       "      <td>1.0</td>\n",
       "      <td>1.0</td>\n",
       "      <td>0.0</td>\n",
       "      <td>0.0</td>\n",
       "      <td>0.0</td>\n",
       "      <td>1.0</td>\n",
       "    </tr>\n",
       "    <tr>\n",
       "      <th>2000-02-18</th>\n",
       "      <td>1.0</td>\n",
       "      <td>0.0</td>\n",
       "      <td>0.0</td>\n",
       "      <td>0.0</td>\n",
       "      <td>0.0</td>\n",
       "      <td>0.0</td>\n",
       "      <td>0.0</td>\n",
       "      <td>0.0</td>\n",
       "      <td>1.0</td>\n",
       "      <td>1.0</td>\n",
       "      <td>0.0</td>\n",
       "      <td>1.0</td>\n",
       "      <td>0.0</td>\n",
       "      <td>1.0</td>\n",
       "      <td>1.0</td>\n",
       "      <td>0.0</td>\n",
       "    </tr>\n",
       "  </tbody>\n",
       "</table>\n",
       "</div>"
      ],
      "text/plain": [
       "            CRSP Market Cap  Communications  Materials  \\\n",
       "year                                                     \n",
       "2000-01-04              1.0             0.0        0.0   \n",
       "2000-01-07              1.0             0.0        0.0   \n",
       "2000-01-24              1.0             0.0        0.0   \n",
       "2000-01-28              1.0             0.0        0.0   \n",
       "2000-02-18              1.0             0.0        0.0   \n",
       "\n",
       "            Consumer Discretionary  Consumer Staples  Energy  Financials  \\\n",
       "year                                                                       \n",
       "2000-01-04                     0.0               0.0     0.0         0.0   \n",
       "2000-01-07                     0.0               0.0     0.0         0.0   \n",
       "2000-01-24                     0.0               0.0     0.0         0.0   \n",
       "2000-01-28                     0.0               0.0     0.0         0.0   \n",
       "2000-02-18                     0.0               0.0     0.0         0.0   \n",
       "\n",
       "            Health Care  Industrial  Technology  Real Estate  Utilities  \\\n",
       "year                                                                      \n",
       "2000-01-04          0.0         0.0         0.0          1.0        1.0   \n",
       "2000-01-07          0.0         0.0         0.0          1.0        0.0   \n",
       "2000-01-24          0.0         1.0         1.0          1.0        1.0   \n",
       "2000-01-28          0.0         0.0         0.0          1.0        1.0   \n",
       "2000-02-18          0.0         1.0         1.0          0.0        1.0   \n",
       "\n",
       "            BioTech  Defense  Semiconductor  Home Construction  \n",
       "year                                                            \n",
       "2000-01-04      1.0      1.0            0.0                1.0  \n",
       "2000-01-07      1.0      0.0            0.0                1.0  \n",
       "2000-01-24      1.0      0.0            1.0                1.0  \n",
       "2000-01-28      0.0      0.0            0.0                1.0  \n",
       "2000-02-18      0.0      1.0            1.0                0.0  "
      ]
     },
     "execution_count": 33,
     "metadata": {},
     "output_type": "execute_result"
    }
   ],
   "source": [
    "sector_jumps_data.head()"
   ]
  },
  {
   "cell_type": "markdown",
   "metadata": {},
   "source": [
    "#### SUM THE TOTAL NUMBER OF JUMPS BY SECTOR"
   ]
  },
  {
   "cell_type": "code",
   "execution_count": 49,
   "metadata": {},
   "outputs": [],
   "source": [
    "financials = sector_jumps_data[\"Financials\"].sum()"
   ]
  },
  {
   "cell_type": "code",
   "execution_count": 50,
   "metadata": {},
   "outputs": [],
   "source": [
    "tech = sector_jumps_data[\"Technology\"].sum()"
   ]
  },
  {
   "cell_type": "code",
   "execution_count": 51,
   "metadata": {},
   "outputs": [],
   "source": [
    "semi_conduct = sector_jumps_data[\"Semiconductor\"].sum()"
   ]
  },
  {
   "cell_type": "code",
   "execution_count": 52,
   "metadata": {},
   "outputs": [],
   "source": [
    "real_estate = sector_jumps_data[\"Real Estate\"].sum()"
   ]
  },
  {
   "cell_type": "code",
   "execution_count": 53,
   "metadata": {},
   "outputs": [],
   "source": [
    "health_care = sector_jumps_data[\"Health Care\"].sum()"
   ]
  },
  {
   "cell_type": "code",
   "execution_count": 54,
   "metadata": {},
   "outputs": [],
   "source": [
    "energy = sector_jumps_data[\"Energy\"].sum()"
   ]
  },
  {
   "cell_type": "code",
   "execution_count": 55,
   "metadata": {},
   "outputs": [],
   "source": [
    "utilities = sector_jumps_data[\"Utilities\"].sum()"
   ]
  },
  {
   "cell_type": "code",
   "execution_count": 56,
   "metadata": {},
   "outputs": [],
   "source": [
    "bio_tech = sector_jumps_data[\"BioTech\"].sum()"
   ]
  },
  {
   "cell_type": "code",
   "execution_count": 57,
   "metadata": {},
   "outputs": [],
   "source": [
    "industrials = sector_jumps_data[\"Industrial\"].sum()"
   ]
  },
  {
   "cell_type": "code",
   "execution_count": 61,
   "metadata": {},
   "outputs": [],
   "source": [
    "comm = sector_jumps_data[\"Communications\"].sum()"
   ]
  },
  {
   "cell_type": "code",
   "execution_count": 62,
   "metadata": {},
   "outputs": [],
   "source": [
    "defense = sector_jumps_data[\"Defense\"].sum()"
   ]
  },
  {
   "cell_type": "code",
   "execution_count": 63,
   "metadata": {},
   "outputs": [],
   "source": [
    "consu_dis = sector_jumps_data[\"Consumer Discretionary\"].sum()"
   ]
  },
  {
   "cell_type": "code",
   "execution_count": 64,
   "metadata": {},
   "outputs": [],
   "source": [
    "consu_stap = sector_jumps_data[\"Consumer Staples\"].sum()"
   ]
  },
  {
   "cell_type": "code",
   "execution_count": 65,
   "metadata": {},
   "outputs": [],
   "source": [
    "home_construct = sector_jumps_data[\"Home Construction\"].sum()"
   ]
  },
  {
   "cell_type": "code",
   "execution_count": 66,
   "metadata": {},
   "outputs": [],
   "source": [
    "market_cap = sector_jumps_data[\"CRSP Market Cap\"].sum()"
   ]
  },
  {
   "cell_type": "code",
   "execution_count": 78,
   "metadata": {},
   "outputs": [],
   "source": [
    "top10_sectors = [financials, tech, real_estate, health_care, utilities, industrials, comm, consu_dis, consu_stap, home_construct]"
   ]
  },
  {
   "cell_type": "code",
   "execution_count": 79,
   "metadata": {},
   "outputs": [
    {
     "data": {
      "text/plain": [
       "[176.0, 182.0, 203.0, 185.0, 210.0, 188.0, 157.0, 154.0, 212.0, 196.0]"
      ]
     },
     "execution_count": 79,
     "metadata": {},
     "output_type": "execute_result"
    }
   ],
   "source": [
    "top10_sectors"
   ]
  },
  {
   "cell_type": "code",
   "execution_count": 80,
   "metadata": {},
   "outputs": [
    {
     "ename": "AttributeError",
     "evalue": "'list' object has no attribute 'plot'",
     "output_type": "error",
     "traceback": [
      "\u001b[0;31m---------------------------------------------------------------------------\u001b[0m",
      "\u001b[0;31mAttributeError\u001b[0m                            Traceback (most recent call last)",
      "\u001b[0;32m<ipython-input-80-9f5e7678e3b1>\u001b[0m in \u001b[0;36m<module>\u001b[0;34m\u001b[0m\n\u001b[0;32m----> 1\u001b[0;31m \u001b[0mtop10_sectors\u001b[0m\u001b[0;34m.\u001b[0m\u001b[0mplot\u001b[0m\u001b[0;34m(\u001b[0m\u001b[0;34m)\u001b[0m\u001b[0;34m\u001b[0m\u001b[0;34m\u001b[0m\u001b[0m\n\u001b[0m",
      "\u001b[0;31mAttributeError\u001b[0m: 'list' object has no attribute 'plot'"
     ]
    }
   ],
   "source": []
  },
  {
   "cell_type": "code",
   "execution_count": null,
   "metadata": {},
   "outputs": [],
   "source": []
  }
 ],
 "metadata": {
  "kernelspec": {
   "display_name": "Python 3",
   "language": "python",
   "name": "python3"
  },
  "language_info": {
   "codemirror_mode": {
    "name": "ipython",
    "version": 3
   },
   "file_extension": ".py",
   "mimetype": "text/x-python",
   "name": "python",
   "nbconvert_exporter": "python",
   "pygments_lexer": "ipython3",
   "version": "3.7.6"
  }
 },
 "nbformat": 4,
 "nbformat_minor": 4
}
