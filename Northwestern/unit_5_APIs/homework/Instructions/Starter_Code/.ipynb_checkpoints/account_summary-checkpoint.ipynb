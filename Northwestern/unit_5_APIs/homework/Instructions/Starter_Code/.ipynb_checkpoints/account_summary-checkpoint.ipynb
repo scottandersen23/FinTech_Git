{
 "cells": [
  {
   "cell_type": "markdown",
   "metadata": {},
   "source": [
    "# Budget Analysis\n",
    "\n",
    "---\n",
    "\n",
    "## Environment Setup"
   ]
  },
  {
   "cell_type": "code",
   "execution_count": 28,
   "metadata": {},
   "outputs": [],
   "source": [
    "# Initial Imports\n",
    "import os\n",
    "import plaid\n",
    "import requests\n",
    "import datetime\n",
    "import json\n",
    "import pandas as pd\n",
    "from dotenv import load_dotenv\n",
    "\n",
    "%matplotlib inline"
   ]
  },
  {
   "cell_type": "code",
   "execution_count": 29,
   "metadata": {},
   "outputs": [],
   "source": [
    "# Helper functions\n",
    "\n",
    "def pretty_print_response(response):\n",
    "    \"\"\"\n",
    "    This function formats a JSON file to pretty printing it in the screen.\n",
    "    \"\"\"\n",
    "    print(json.dumps(response, indent=4, sort_keys=True))"
   ]
  },
  {
   "cell_type": "code",
   "execution_count": 30,
   "metadata": {},
   "outputs": [
    {
     "data": {
      "text/plain": [
       "True"
      ]
     },
     "execution_count": 30,
     "metadata": {},
     "output_type": "execute_result"
    }
   ],
   "source": [
    "# Set environment variables from the .env file\n",
    "load_dotenv()"
   ]
  },
  {
   "cell_type": "code",
   "execution_count": 31,
   "metadata": {},
   "outputs": [],
   "source": [
    "# Extract API keys from environment variables\n",
    "PLAID_CLIENT_ID = '5eb6c04fe3979600125b731f'\n",
    "PLAID_PUBLIC_KEY = '0326e42cb20359ffe6b303bdd88a33'\n",
    "PLAID_SBX_SECRET_KEY = '7a025b63458474c4b9e094ed4fc815'"
   ]
  },
  {
   "cell_type": "markdown",
   "metadata": {},
   "source": [
    "---\n",
    "\n",
    "## Plaid Access Token\n",
    "\n",
    "In this section, you will use the `plaid-python` API to generate the correct authentication tokens to access data in the free developer Sandbox. This mimics how you might connect to your own account or a customer account, but due to privacy issues, this homework will only require connecting to and analyzing the fake data from the developer sandbox that Plaid provides. \n",
    "\n",
    "Complete the following steps to generate an access token:\n",
    "\n",
    "1. Create a client to connect to plaid\n",
    "\n",
    "2. Use the client to generate a public token and request the following items: ['transactions', 'income', 'assets']\n",
    "\n",
    "3. Exchange the public token for an access token\n",
    "\n",
    "4. Test the access token by requesting and printing the available test accounts"
   ]
  },
  {
   "cell_type": "markdown",
   "metadata": {},
   "source": [
    "### 1. Create a client to connect to plaid"
   ]
  },
  {
   "cell_type": "code",
   "execution_count": 32,
   "metadata": {},
   "outputs": [],
   "source": [
    "# Create the client object\n",
    "client = plaid.Client(client_id=PLAID_CLIENT_ID, secret=PLAID_SBX_SECRET_KEY, public_key=PLAID_PUBLIC_KEY, environment='sandbox')"
   ]
  },
  {
   "cell_type": "code",
   "execution_count": 33,
   "metadata": {},
   "outputs": [],
   "source": [
    "# Set the institution id\n",
    "INSTITUTION_ID = \"ins_109508\""
   ]
  },
  {
   "cell_type": "markdown",
   "metadata": {},
   "source": [
    "### 2. Generate a public token"
   ]
  },
  {
   "cell_type": "code",
   "execution_count": 34,
   "metadata": {},
   "outputs": [
    {
     "data": {
      "text/plain": [
       "{'public_token': 'public-sandbox-5dabe725-f08b-4874-b30d-af50a9c7c209',\n",
       " 'request_id': 'p8oYjSxDZrG5gDD'}"
      ]
     },
     "execution_count": 34,
     "metadata": {},
     "output_type": "execute_result"
    }
   ],
   "source": [
    "# Create the public token\n",
    "\n",
    "create_tkn_response = client.Sandbox.public_token.create(INSTITUTION_ID, ['transactions','income','assets'])\n",
    "\n",
    "# Print the public token\n",
    "\n",
    "create_tkn_response\n"
   ]
  },
  {
   "cell_type": "markdown",
   "metadata": {},
   "source": [
    "### 3. Exchange the public token for an access token"
   ]
  },
  {
   "cell_type": "code",
   "execution_count": 35,
   "metadata": {},
   "outputs": [
    {
     "data": {
      "text/plain": [
       "{'access_token': 'access-sandbox-30110cd8-1aad-4800-a4e4-dda11ef3324d',\n",
       " 'item_id': 'PVR7nbpmNNHEeMaRJ1LkIgag56ldVZC7v1gZz',\n",
       " 'request_id': 'Sbxjv5QgkFkpugM'}"
      ]
     },
     "execution_count": 35,
     "metadata": {},
     "output_type": "execute_result"
    }
   ],
   "source": [
    "# Retrieve the access token\n",
    "\n",
    "exchange_response = client.Item.public_token.exchange(create_tkn_response['public_token'])\n",
    "\n",
    "# Print the access toke\n",
    "exchange_response"
   ]
  },
  {
   "cell_type": "code",
   "execution_count": 36,
   "metadata": {},
   "outputs": [],
   "source": [
    "# Store the access token in a Python variable\n",
    "access_token = exchange_response['access_token']"
   ]
  },
  {
   "cell_type": "markdown",
   "metadata": {},
   "source": [
    "### 4. Fetch Accounts"
   ]
  },
  {
   "cell_type": "code",
   "execution_count": 37,
   "metadata": {},
   "outputs": [
    {
     "data": {
      "text/plain": [
       "{'accounts': [{'account_id': 'rPXw8JVjNNI9ydjg1bALHZmZgp3jVBtyK57bl',\n",
       "   'balances': {'available': 100,\n",
       "    'current': 110,\n",
       "    'iso_currency_code': 'USD',\n",
       "    'limit': None,\n",
       "    'unofficial_currency_code': None},\n",
       "   'mask': '0000',\n",
       "   'name': 'Plaid Checking',\n",
       "   'official_name': 'Plaid Gold Standard 0% Interest Checking',\n",
       "   'subtype': 'checking',\n",
       "   'type': 'depository'},\n",
       "  {'account_id': 'zLBzymqnooSDzxV6njmri7B7nLRJXDFEPvldl',\n",
       "   'balances': {'available': 200,\n",
       "    'current': 210,\n",
       "    'iso_currency_code': 'USD',\n",
       "    'limit': None,\n",
       "    'unofficial_currency_code': None},\n",
       "   'mask': '1111',\n",
       "   'name': 'Plaid Saving',\n",
       "   'official_name': 'Plaid Silver Standard 0.1% Interest Saving',\n",
       "   'subtype': 'savings',\n",
       "   'type': 'depository'},\n",
       "  {'account_id': 'BXNkeRxryyhZAyMgKvreIlqlMmkP1Qt7eK4vz',\n",
       "   'balances': {'available': None,\n",
       "    'current': 1000,\n",
       "    'iso_currency_code': 'USD',\n",
       "    'limit': None,\n",
       "    'unofficial_currency_code': None},\n",
       "   'mask': '2222',\n",
       "   'name': 'Plaid CD',\n",
       "   'official_name': 'Plaid Bronze Standard 0.2% Interest CD',\n",
       "   'subtype': 'cd',\n",
       "   'type': 'depository'},\n",
       "  {'account_id': '35VJlKgQkkUEG4XVmz6MIg7gEq95bRcwo1ZgM',\n",
       "   'balances': {'available': None,\n",
       "    'current': 410,\n",
       "    'iso_currency_code': 'USD',\n",
       "    'limit': 2000,\n",
       "    'unofficial_currency_code': None},\n",
       "   'mask': '3333',\n",
       "   'name': 'Plaid Credit Card',\n",
       "   'official_name': 'Plaid Diamond 12.5% APR Interest Credit Card',\n",
       "   'subtype': 'credit card',\n",
       "   'type': 'credit'},\n",
       "  {'account_id': 'xMLKbrVEkkhqxLJDjnBKTqAqDN8wzvH9lG6MA',\n",
       "   'balances': {'available': 43200,\n",
       "    'current': 43200,\n",
       "    'iso_currency_code': 'USD',\n",
       "    'limit': None,\n",
       "    'unofficial_currency_code': None},\n",
       "   'mask': '4444',\n",
       "   'name': 'Plaid Money Market',\n",
       "   'official_name': 'Plaid Platinum Standard 1.85% Interest Money Market',\n",
       "   'subtype': 'money market',\n",
       "   'type': 'depository'},\n",
       "  {'account_id': 'dbeZ4wVG77h6ExnB8N7Qh1X1PvNLm7fPgWJyG',\n",
       "   'balances': {'available': None,\n",
       "    'current': 320.76,\n",
       "    'iso_currency_code': 'USD',\n",
       "    'limit': None,\n",
       "    'unofficial_currency_code': None},\n",
       "   'mask': '5555',\n",
       "   'name': 'Plaid IRA',\n",
       "   'official_name': None,\n",
       "   'subtype': 'ira',\n",
       "   'type': 'investment'},\n",
       "  {'account_id': 'aDJ7xeVoNNhNlzWGePRMUmVmWpQzrgURdWZ6o',\n",
       "   'balances': {'available': None,\n",
       "    'current': 23631.9805,\n",
       "    'iso_currency_code': 'USD',\n",
       "    'limit': None,\n",
       "    'unofficial_currency_code': None},\n",
       "   'mask': '6666',\n",
       "   'name': 'Plaid 401k',\n",
       "   'official_name': None,\n",
       "   'subtype': '401k',\n",
       "   'type': 'investment'},\n",
       "  {'account_id': '4mwZqr8MyyUWGNZvxeyzHGqGzA6exoUgD1Jpm',\n",
       "   'balances': {'available': None,\n",
       "    'current': 65262,\n",
       "    'iso_currency_code': 'USD',\n",
       "    'limit': None,\n",
       "    'unofficial_currency_code': None},\n",
       "   'mask': '7777',\n",
       "   'name': 'Plaid Student Loan',\n",
       "   'official_name': None,\n",
       "   'subtype': 'student',\n",
       "   'type': 'loan'},\n",
       "  {'account_id': 'NXVPkR1AaahBnPxdKG8jSwaw4vb3zWTreDy8a',\n",
       "   'balances': {'available': None,\n",
       "    'current': 56302.06,\n",
       "    'iso_currency_code': 'USD',\n",
       "    'limit': None,\n",
       "    'unofficial_currency_code': None},\n",
       "   'mask': '8888',\n",
       "   'name': 'Plaid Mortgage',\n",
       "   'official_name': None,\n",
       "   'subtype': 'mortgage',\n",
       "   'type': 'loan'}],\n",
       " 'item': {'available_products': ['auth',\n",
       "   'balance',\n",
       "   'credit_details',\n",
       "   'identity',\n",
       "   'investments',\n",
       "   'liabilities'],\n",
       "  'billed_products': ['assets', 'income', 'transactions'],\n",
       "  'consent_expiration_time': None,\n",
       "  'error': None,\n",
       "  'institution_id': 'ins_109508',\n",
       "  'item_id': 'PVR7nbpmNNHEeMaRJ1LkIgag56ldVZC7v1gZz',\n",
       "  'webhook': ''},\n",
       " 'request_id': 'f0unhZgZ4cLEIXP'}"
      ]
     },
     "execution_count": 37,
     "metadata": {},
     "output_type": "execute_result"
    }
   ],
   "source": [
    "# Retrieve accounts\n",
    "\n",
    "client.Accounts.get(access_token)\n",
    "\n",
    "# Print accounts\n"
   ]
  },
  {
   "cell_type": "markdown",
   "metadata": {},
   "source": [
    "---\n",
    "\n",
    "# Account Transactions with Plaid\n",
    "\n",
    "In this section, you will use the Plaid Python SDK to connect to the Developer Sandbox account and grab a list of transactions. You will need to complete the following steps:\n",
    "\n",
    "\n",
    "1. Use the access token to fetch the transactions for the last 90 days\n",
    "\n",
    "2. Print the categories for each transaction type\n",
    "\n",
    "3. Create a new DataFrame using the following fields from the JSON transaction data: `date, name, amount, category`. (For categories with more than one label, just use the first category label in the list)\n",
    "\n",
    "4. Convert the data types to the appropriate types (i.e. datetimeindex for the date and float for the amount)"
   ]
  },
  {
   "cell_type": "markdown",
   "metadata": {},
   "source": [
    "### 1. Fetch the Transactions for the last 90 days"
   ]
  },
  {
   "cell_type": "code",
   "execution_count": 38,
   "metadata": {},
   "outputs": [
    {
     "name": "stdout",
     "output_type": "stream",
     "text": [
      "[\n",
      "    {\n",
      "        \"account_id\": \"35VJlKgQkkUEG4XVmz6MIg7gEq95bRcwo1ZgM\",\n",
      "        \"account_owner\": null,\n",
      "        \"amount\": 500,\n",
      "        \"authorized_date\": null,\n",
      "        \"category\": [\n",
      "            \"Food and Drink\",\n",
      "            \"Restaurants\"\n",
      "        ],\n",
      "        \"category_id\": \"13005000\",\n",
      "        \"date\": \"2020-05-25\",\n",
      "        \"iso_currency_code\": \"USD\",\n",
      "        \"location\": {\n",
      "            \"address\": null,\n",
      "            \"city\": null,\n",
      "            \"country\": null,\n",
      "            \"lat\": null,\n",
      "            \"lon\": null,\n",
      "            \"postal_code\": null,\n",
      "            \"region\": null,\n",
      "            \"store_number\": null\n",
      "        },\n",
      "        \"name\": \"Tectra Inc\",\n",
      "        \"payment_channel\": \"in store\",\n",
      "        \"payment_meta\": {\n",
      "            \"by_order_of\": null,\n",
      "            \"payee\": null,\n",
      "            \"payer\": null,\n",
      "            \"payment_method\": null,\n",
      "            \"payment_processor\": null,\n",
      "            \"ppd_id\": null,\n",
      "            \"reason\": null,\n",
      "            \"reference_number\": null\n",
      "        },\n",
      "        \"pending\": false,\n",
      "        \"pending_transaction_id\": null,\n",
      "        \"transaction_code\": null,\n",
      "        \"transaction_id\": \"GXbdLQPjKKh6aQlANGRBhdgd7xz7kVt1y7d8x\",\n",
      "        \"transaction_type\": \"place\",\n",
      "        \"unofficial_currency_code\": null\n",
      "    },\n",
      "    {\n",
      "        \"account_id\": \"35VJlKgQkkUEG4XVmz6MIg7gEq95bRcwo1ZgM\",\n",
      "        \"account_owner\": null,\n",
      "        \"amount\": 2078.5,\n",
      "        \"authorized_date\": null,\n",
      "        \"category\": [\n",
      "            \"Payment\"\n",
      "        ],\n",
      "        \"category_id\": \"16000000\",\n",
      "        \"date\": \"2020-05-24\",\n",
      "        \"iso_currency_code\": \"USD\",\n",
      "        \"location\": {\n",
      "            \"address\": null,\n",
      "            \"city\": null,\n",
      "            \"country\": null,\n",
      "            \"lat\": null,\n",
      "            \"lon\": null,\n",
      "            \"postal_code\": null,\n",
      "            \"region\": null,\n",
      "            \"store_number\": null\n",
      "        },\n",
      "        \"name\": \"AUTOMATIC PAYMENT - THANK\",\n",
      "        \"payment_channel\": \"other\",\n",
      "        \"payment_meta\": {\n",
      "            \"by_order_of\": null,\n",
      "            \"payee\": null,\n",
      "            \"payer\": null,\n",
      "            \"payment_method\": null,\n",
      "            \"payment_processor\": null,\n",
      "            \"ppd_id\": null,\n",
      "            \"reason\": null,\n",
      "            \"reference_number\": null\n",
      "        },\n",
      "        \"pending\": false,\n",
      "        \"pending_transaction_id\": null,\n",
      "        \"transaction_code\": null,\n",
      "        \"transaction_id\": \"mxWA15Vr33HLVkaWBnK9te9eE4qEJ5fLzQaPD\",\n",
      "        \"transaction_type\": \"special\",\n",
      "        \"unofficial_currency_code\": null\n",
      "    }\n",
      "]\n"
     ]
    }
   ],
   "source": [
    "# Set the start and end date 90 days from today\n",
    "start_date = '{:%Y-%m-%d}'.format(datetime.datetime.now() + datetime.timedelta(-90))\n",
    "end_date = '{:%Y-%m-%d}'.format(datetime.datetime.now())\n",
    "\n",
    "# Retrieve the transactions for the last 90 days\n",
    "\n",
    "transaction_response = client.Transactions.get(access_token,start_date,end_date)\n",
    "\n",
    "# Print the transactions\n",
    "print(json.dumps(transaction_response['transactions'][:2],indent=4, sort_keys=True))"
   ]
  },
  {
   "cell_type": "markdown",
   "metadata": {},
   "source": [
    "### 2. Print the categories for each transaction"
   ]
  },
  {
   "cell_type": "code",
   "execution_count": 22,
   "metadata": {},
   "outputs": [
    {
     "name": "stdout",
     "output_type": "stream",
     "text": [
      "accounts\n",
      "item\n",
      "request_id\n",
      "total_transactions\n",
      "transactions\n"
     ]
    }
   ],
   "source": [
    "# Create a for-loop to print the categories for each transaction\n",
    "for category in transaction_response:\n",
    "    print(category)"
   ]
  },
  {
   "cell_type": "markdown",
   "metadata": {},
   "source": [
    "### 3. Create a new DataFrame using the following fields from the JSON transaction data: `date`, `name`, `amount`, `category`. \n",
    "\n",
    "(For categories with more than one label, just use the first category label in the list)"
   ]
  },
  {
   "cell_type": "code",
   "execution_count": 39,
   "metadata": {},
   "outputs": [
    {
     "data": {
      "text/html": [
       "<div>\n",
       "<style scoped>\n",
       "    .dataframe tbody tr th:only-of-type {\n",
       "        vertical-align: middle;\n",
       "    }\n",
       "\n",
       "    .dataframe tbody tr th {\n",
       "        vertical-align: top;\n",
       "    }\n",
       "\n",
       "    .dataframe thead th {\n",
       "        text-align: right;\n",
       "    }\n",
       "</style>\n",
       "<table border=\"1\" class=\"dataframe\">\n",
       "  <thead>\n",
       "    <tr style=\"text-align: right;\">\n",
       "      <th></th>\n",
       "      <th>date</th>\n",
       "      <th>name</th>\n",
       "      <th>amount</th>\n",
       "      <th>category</th>\n",
       "    </tr>\n",
       "  </thead>\n",
       "  <tbody>\n",
       "    <tr>\n",
       "      <th>0</th>\n",
       "      <td>2020-05-25</td>\n",
       "      <td>Tectra Inc</td>\n",
       "      <td>500</td>\n",
       "      <td>Food and Drink</td>\n",
       "    </tr>\n",
       "    <tr>\n",
       "      <th>1</th>\n",
       "      <td>2020-05-24</td>\n",
       "      <td>AUTOMATIC PAYMENT - THANK</td>\n",
       "      <td>2078.5</td>\n",
       "      <td>Payment</td>\n",
       "    </tr>\n",
       "    <tr>\n",
       "      <th>2</th>\n",
       "      <td>2020-05-24</td>\n",
       "      <td>KFC</td>\n",
       "      <td>500</td>\n",
       "      <td>Food and Drink</td>\n",
       "    </tr>\n",
       "    <tr>\n",
       "      <th>3</th>\n",
       "      <td>2020-05-24</td>\n",
       "      <td>Madison Bicycle Shop</td>\n",
       "      <td>500</td>\n",
       "      <td>Shops</td>\n",
       "    </tr>\n",
       "    <tr>\n",
       "      <th>4</th>\n",
       "      <td>2020-05-15</td>\n",
       "      <td>CREDIT CARD 3333 PAYMENT *//</td>\n",
       "      <td>25</td>\n",
       "      <td>Payment</td>\n",
       "    </tr>\n",
       "  </tbody>\n",
       "</table>\n",
       "</div>"
      ],
      "text/plain": [
       "         date                          name  amount        category\n",
       "0  2020-05-25                    Tectra Inc     500  Food and Drink\n",
       "1  2020-05-24     AUTOMATIC PAYMENT - THANK  2078.5         Payment\n",
       "2  2020-05-24                           KFC     500  Food and Drink\n",
       "3  2020-05-24          Madison Bicycle Shop     500           Shops\n",
       "4  2020-05-15  CREDIT CARD 3333 PAYMENT *//      25         Payment"
      ]
     },
     "execution_count": 39,
     "metadata": {},
     "output_type": "execute_result"
    }
   ],
   "source": [
    "# Define an empty DataFrame and set the columns as date, name, amount, and category\n",
    "transaction_df = pd.DataFrame(columns=['date', 'name', 'amount', 'category'])\n",
    "\n",
    "# Retrieve all the transactions\n",
    "transactions = transaction_response['transactions']\n",
    "\n",
    "# Populate the transactions DataFrame with the transactions data\n",
    "for index, transaction in enumerate(transactions):\n",
    "    transaction_df.loc[index] = [transaction[\"date\"], transaction[\"name\"], transaction[\"amount\"], transaction[\"category\"][0]]\n",
    "\n",
    "\n",
    "# Display sample data from the DataFrame    \n",
    "transaction_df.head()"
   ]
  },
  {
   "cell_type": "markdown",
   "metadata": {},
   "source": [
    "### 4. Convert the data types to the appropriate types \n",
    "\n",
    "(i.e. datetimeindex for the date and float for the amount)"
   ]
  },
  {
   "cell_type": "code",
   "execution_count": 40,
   "metadata": {},
   "outputs": [
    {
     "data": {
      "text/plain": [
       "date        object\n",
       "name        object\n",
       "amount      object\n",
       "category    object\n",
       "dtype: object"
      ]
     },
     "execution_count": 40,
     "metadata": {},
     "output_type": "execute_result"
    }
   ],
   "source": [
    "# Display data types\n",
    "\n",
    "transaction_df.dtypes"
   ]
  },
  {
   "cell_type": "code",
   "execution_count": 41,
   "metadata": {},
   "outputs": [
    {
     "data": {
      "text/plain": [
       "date        datetime64[ns]\n",
       "name                object\n",
       "amount              object\n",
       "category            object\n",
       "dtype: object"
      ]
     },
     "execution_count": 41,
     "metadata": {},
     "output_type": "execute_result"
    }
   ],
   "source": [
    "# Make any required data type transformation\n",
    "transaction_df ['date'] = transaction_df['date'].astype('datetime64[ns]')\n",
    "\n",
    "transaction_df.dtypes\n"
   ]
  },
  {
   "cell_type": "code",
   "execution_count": 42,
   "metadata": {},
   "outputs": [
    {
     "data": {
      "text/html": [
       "<div>\n",
       "<style scoped>\n",
       "    .dataframe tbody tr th:only-of-type {\n",
       "        vertical-align: middle;\n",
       "    }\n",
       "\n",
       "    .dataframe tbody tr th {\n",
       "        vertical-align: top;\n",
       "    }\n",
       "\n",
       "    .dataframe thead th {\n",
       "        text-align: right;\n",
       "    }\n",
       "</style>\n",
       "<table border=\"1\" class=\"dataframe\">\n",
       "  <thead>\n",
       "    <tr style=\"text-align: right;\">\n",
       "      <th></th>\n",
       "      <th>name</th>\n",
       "      <th>amount</th>\n",
       "      <th>category</th>\n",
       "    </tr>\n",
       "    <tr>\n",
       "      <th>date</th>\n",
       "      <th></th>\n",
       "      <th></th>\n",
       "      <th></th>\n",
       "    </tr>\n",
       "  </thead>\n",
       "  <tbody>\n",
       "    <tr>\n",
       "      <th>2020-05-25</th>\n",
       "      <td>Tectra Inc</td>\n",
       "      <td>500.0</td>\n",
       "      <td>Food and Drink</td>\n",
       "    </tr>\n",
       "    <tr>\n",
       "      <th>2020-05-24</th>\n",
       "      <td>AUTOMATIC PAYMENT - THANK</td>\n",
       "      <td>2078.5</td>\n",
       "      <td>Payment</td>\n",
       "    </tr>\n",
       "    <tr>\n",
       "      <th>2020-05-24</th>\n",
       "      <td>KFC</td>\n",
       "      <td>500.0</td>\n",
       "      <td>Food and Drink</td>\n",
       "    </tr>\n",
       "    <tr>\n",
       "      <th>2020-05-24</th>\n",
       "      <td>Madison Bicycle Shop</td>\n",
       "      <td>500.0</td>\n",
       "      <td>Shops</td>\n",
       "    </tr>\n",
       "    <tr>\n",
       "      <th>2020-05-15</th>\n",
       "      <td>CREDIT CARD 3333 PAYMENT *//</td>\n",
       "      <td>25.0</td>\n",
       "      <td>Payment</td>\n",
       "    </tr>\n",
       "  </tbody>\n",
       "</table>\n",
       "</div>"
      ],
      "text/plain": [
       "                                    name  amount        category\n",
       "date                                                            \n",
       "2020-05-25                    Tectra Inc   500.0  Food and Drink\n",
       "2020-05-24     AUTOMATIC PAYMENT - THANK  2078.5         Payment\n",
       "2020-05-24                           KFC   500.0  Food and Drink\n",
       "2020-05-24          Madison Bicycle Shop   500.0           Shops\n",
       "2020-05-15  CREDIT CARD 3333 PAYMENT *//    25.0         Payment"
      ]
     },
     "execution_count": 42,
     "metadata": {},
     "output_type": "execute_result"
    }
   ],
   "source": [
    "# Set the date column as index\n",
    "\n",
    "transaction_df['amount'] = transaction_df['amount'].astype('float')\n",
    "transaction_df['date'] = pd.to_datetime(transaction_df['date'], format='%Y-%m-%d')\n",
    "transaction_df = transaction_df.set_index('date')\n",
    "transaction_df.head()\n",
    "\n",
    "# Display sample data\n",
    "transaction_df.head()\n"
   ]
  },
  {
   "cell_type": "markdown",
   "metadata": {},
   "source": [
    "---"
   ]
  },
  {
   "cell_type": "markdown",
   "metadata": {},
   "source": [
    "# Income Analysis with Plaid\n",
    "\n",
    "In this section, you will use the Plaid Sandbox to complete the following:\n",
    "\n",
    "1. Determine the previous year's gross income and print the results\n",
    "\n",
    "2. Determine the current monthly income and print the results\n",
    "\n",
    "3. Determine the projected yearly income and print the results"
   ]
  },
  {
   "cell_type": "code",
   "execution_count": 67,
   "metadata": {},
   "outputs": [
    {
     "name": "stdout",
     "output_type": "stream",
     "text": [
      "{'income': {'income_streams': [{'confidence': 0.99, 'days': 690, 'monthly_income': 500, 'name': 'UNITED AIRLINES'}], 'last_year_income': 6000, 'last_year_income_before_tax': 7285, 'max_number_of_overlapping_income_streams': 1, 'number_of_income_streams': 1, 'projected_yearly_income': 6085, 'projected_yearly_income_before_tax': 7389}, 'request_id': 'ORsHTSKbwTgCzJA'}\n"
     ]
    }
   ],
   "source": [
    "# Fetch the income data\n",
    "income_response = client.Income.get(access_token)\n",
    "\n",
    "# Print the income data\n",
    "print(income_response)"
   ]
  },
  {
   "cell_type": "code",
   "execution_count": 77,
   "metadata": {},
   "outputs": [
    {
     "data": {
      "text/plain": [
       "dict_values([{'income_streams': [{'confidence': 0.99, 'days': 690, 'monthly_income': 500, 'name': 'UNITED AIRLINES'}], 'last_year_income': 6000, 'last_year_income_before_tax': 7285, 'max_number_of_overlapping_income_streams': 1, 'number_of_income_streams': 1, 'projected_yearly_income': 6085, 'projected_yearly_income_before_tax': 7389}, 'ORsHTSKbwTgCzJA'])"
      ]
     },
     "execution_count": 77,
     "metadata": {},
     "output_type": "execute_result"
    }
   ],
   "source": [
    "# Determine the previous year's gross income and print the results\n",
    "keys = income_response.keys()\n",
    "values = income_response.values()\n",
    "values"
   ]
  },
  {
   "cell_type": "code",
   "execution_count": null,
   "metadata": {},
   "outputs": [],
   "source": [
    "# Determine the current monthly income and print the results\n"
   ]
  },
  {
   "cell_type": "code",
   "execution_count": null,
   "metadata": {},
   "outputs": [],
   "source": [
    "# Determine the projected yearly income and print the results\n"
   ]
  },
  {
   "cell_type": "markdown",
   "metadata": {},
   "source": [
    "---"
   ]
  },
  {
   "cell_type": "markdown",
   "metadata": {},
   "source": [
    "# Budget Analysis\n",
    "In this section, you will use the transactions DataFrame to analyze the customer's budget\n",
    "\n",
    "1. Calculate the total spending per category and print the results (Hint: groupby or count transactions per category)\n",
    "\n",
    "2. Generate a bar chart with the number of transactions for each category\n",
    "\n",
    "3. Calulate the expenses per month\n",
    "\n",
    "4. Plot the total expenses per month"
   ]
  },
  {
   "cell_type": "markdown",
   "metadata": {},
   "source": [
    "### Calculate the expenses per category"
   ]
  },
  {
   "cell_type": "code",
   "execution_count": null,
   "metadata": {},
   "outputs": [],
   "source": [
    "# Compute the total expenses per category\n",
    "transaction_df.index = pd.to_datetime((transaction_df.index)\n",
    " \n",
    "transaction_by_cat = transaction_df.groupby('category').sum()\n",
    "\n",
    "# Display the expenses per catefory\n",
    "expenses_per_month = .groupby(df.index.month).sum()\n",
    "                                      "
   ]
  },
  {
   "cell_type": "code",
   "execution_count": null,
   "metadata": {},
   "outputs": [],
   "source": [
    "# Create a spending categories pie chart.\n"
   ]
  },
  {
   "cell_type": "markdown",
   "metadata": {},
   "source": [
    "### Calculate the expenses per month"
   ]
  },
  {
   "cell_type": "code",
   "execution_count": null,
   "metadata": {},
   "outputs": [],
   "source": [
    "# Create a DataFrame with the total expenses\n",
    "\n",
    "# Display sample data\n"
   ]
  },
  {
   "cell_type": "code",
   "execution_count": null,
   "metadata": {},
   "outputs": [],
   "source": [
    "# Create a spending per month bar chart\n"
   ]
  }
 ],
 "metadata": {
  "kernelspec": {
   "display_name": "Python 3",
   "language": "python",
   "name": "python3"
  },
  "language_info": {
   "codemirror_mode": {
    "name": "ipython",
    "version": 3
   },
   "file_extension": ".py",
   "mimetype": "text/x-python",
   "name": "python",
   "nbconvert_exporter": "python",
   "pygments_lexer": "ipython3",
   "version": "3.7.6"
  }
 },
 "nbformat": 4,
 "nbformat_minor": 4
}
