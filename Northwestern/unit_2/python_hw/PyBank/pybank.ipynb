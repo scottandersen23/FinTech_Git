{
 "cells": [
  {
   "cell_type": "markdown",
   "metadata": {},
   "source": [
    "# PyBank Homework\n",
    "\n",
    "## Scott Andersen"
   ]
  },
  {
   "cell_type": "code",
   "execution_count": 29,
   "metadata": {},
   "outputs": [],
   "source": [
    "import os"
   ]
  },
  {
   "cell_type": "code",
   "execution_count": 30,
   "metadata": {},
   "outputs": [],
   "source": [
    "import csv"
   ]
  },
  {
   "cell_type": "code",
   "execution_count": 31,
   "metadata": {},
   "outputs": [],
   "source": [
    "csv_file = os.path.join(\"python_hw\", \"02-Homework_02-Python_Instructions_PyBank_Resources_budget_data.csv\")"
   ]
  },
  {
   "cell_type": "code",
   "execution_count": 32,
   "metadata": {},
   "outputs": [
    {
     "output_type": "execute_result",
     "data": {
      "text/plain": "'python_hw/02-Homework_02-Python_Instructions_PyBank_Resources_budget_data.csv'"
     },
     "metadata": {},
     "execution_count": 32
    }
   ],
   "source": [
    "csv_file"
   ]
  },
  {
   "cell_type": "code",
   "execution_count": 33,
   "metadata": {},
   "outputs": [
    {
     "output_type": "execute_result",
     "data": {
      "text/plain": "'/Users/scottandersen/2020_Folder/FinTech_GitHub/NW_Folder/Northwestern/python_hw/PyBank'"
     },
     "metadata": {},
     "execution_count": 33
    }
   ],
   "source": [
    "pwd"
   ]
  },
  {
   "cell_type": "code",
   "execution_count": 42,
   "metadata": {},
   "outputs": [],
   "source": [
    "import csv"
   ]
  },
  {
   "cell_type": "code",
   "execution_count": 85,
   "metadata": {},
   "outputs": [
    {
     "output_type": "stream",
     "name": "stdout",
     "text": "<_csv.reader object at 0x110c1c900>\n['Date', 'Profit/Losses']\n['Jan-10', '867884']\n['Feb-10', '984655']\n['Mar-10', '322013']\n['Apr-10', '-69417']\n['May-10', '310503']\n['Jun-10', '522857']\n['Jul-10', '1033096']\n['Aug-10', '604885']\n['Sep-10', '-216386']\n['Oct-10', '477532']\n['Nov-10', '893810']\n['Dec-10', '-80353']\n['Jan-11', '779806']\n['Feb-11', '-335203']\n['Mar-11', '697845']\n['Apr-11', '793163']\n['May-11', '485070']\n['Jun-11', '584122']\n['Jul-11', '62729']\n['Aug-11', '668179']\n['Sep-11', '899906']\n['Oct-11', '834719']\n['Nov-11', '132003']\n['Dec-11', '309978']\n['Jan-12', '-755566']\n['Feb-12', '1170593']\n['Mar-12', '252788']\n['Apr-12', '1151518']\n['May-12', '817256']\n['Jun-12', '570757']\n['Jul-12', '506702']\n['Aug-12', '-1022534']\n['Sep-12', '475062']\n['Oct-12', '779976']\n['Nov-12', '144175']\n['Dec-12', '542494']\n['Jan-13', '359333']\n['Feb-13', '321469']\n['Mar-13', '67780']\n['Apr-13', '471435']\n['May-13', '565603']\n['Jun-13', '872480']\n['Jul-13', '789480']\n['Aug-13', '999942']\n['Sep-13', '-1196225']\n['Oct-13', '268997']\n['Nov-13', '-687986']\n['Dec-13', '1150461']\n['Jan-14', '682458']\n['Feb-14', '617856']\n['Mar-14', '824098']\n['Apr-14', '581943']\n['May-14', '132864']\n['Jun-14', '448062']\n['Jul-14', '689161']\n['Aug-14', '800701']\n['Sep-14', '1166643']\n['Oct-14', '947333']\n['Nov-14', '578668']\n['Dec-14', '988505']\n['Jan-15', '1139715']\n['Feb-15', '1029471']\n['Mar-15', '687533']\n['Apr-15', '-524626']\n['May-15', '158620']\n['Jun-15', '87795']\n['Jul-15', '423389']\n['Aug-15', '840723']\n['Sep-15', '568529']\n['Oct-15', '332067']\n['Nov-15', '989499']\n['Dec-15', '778237']\n['Jan-16', '650000']\n['Feb-16', '-1100387']\n['Mar-16', '-174946']\n['Apr-16', '757143']\n['May-16', '445709']\n['Jun-16', '712961']\n['Jul-16', '-1163797']\n['Aug-16', '569899']\n['Sep-16', '768450']\n['Oct-16', '102685']\n['Nov-16', '795914']\n['Dec-16', '60988']\n['Jan-17', '138230']\n['Feb-17', '671099']\nFeb-17\n671099\n"
    }
   ],
   "source": [
    "with open('/Users/scottandersen/2020_Folder/FinTech_Jup/02-Homework_02-Python_Instructions_PyBank_Resources_budget_data.csv') as csvfile:\n",
    "    readCSV = csv.reader(csvfile,delimiter=',')\n",
    "    print(readCSV)\n",
    "\n",
    "    for data_sheet in readCSV:\n",
    "      print(data_sheet)\n"
   ]
  },
  {
   "cell_type": "code",
   "execution_count": 23,
   "metadata": {},
   "outputs": [
    {
     "output_type": "stream",
     "name": "stdout",
     "text": "_  a  b  c\n0 [0, 0, 1]\n1 [0, 0, 0]\n2 [0, 0, 0]\n"
    }
   ],
   "source": [
    "# Tic Tac Toe\n",
    "\n",
    "game = [[0, 0, 0],\n",
    "        [0, 0, 0],\n",
    "        [0, 0, 0],]\n",
    "\n",
    "game[0][2] = 1\n",
    "print(\"_  a  b  c\")\n",
    "\n",
    "for count, row in enumerate(game):\n",
    "    print(count, row)        "
   ]
  },
  {
   "cell_type": "code",
   "execution_count": null,
   "metadata": {},
   "outputs": [],
   "source": []
  }
 ],
 "metadata": {
  "kernelspec": {
   "display_name": "Python 3.8.2 64-bit",
   "language": "python",
   "name": "python38264bitef84e53cf7314827b0ed335399ee4c65"
  },
  "language_info": {
   "codemirror_mode": {
    "name": "ipython",
    "version": 3
   },
   "file_extension": ".py",
   "mimetype": "text/x-python",
   "name": "python",
   "nbconvert_exporter": "python",
   "pygments_lexer": "ipython3",
   "version": "3.8.2-final"
  }
 },
 "nbformat": 4,
 "nbformat_minor": 4
}