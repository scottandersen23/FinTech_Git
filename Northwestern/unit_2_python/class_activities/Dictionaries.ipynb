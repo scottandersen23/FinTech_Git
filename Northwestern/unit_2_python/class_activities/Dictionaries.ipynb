{
 "cells": [
  {
   "cell_type": "code",
   "execution_count": 10,
   "metadata": {},
   "outputs": [],
   "source": [
    "num_list = [2, 65, 3, 7, 39, 22, 11, 94, 299, 9, 20, 21, 51, 37]\n"
   ]
  },
  {
   "cell_type": "code",
   "execution_count": 4,
   "metadata": {},
   "outputs": [
    {
     "name": "stdout",
     "output_type": "stream",
     "text": [
      "Numbers greater than 50:\n",
      "65\n",
      "94\n",
      "299\n",
      "51\n"
     ]
    }
   ],
   "source": [
    "# Iterate through the provided `num_list` and create an if-else statement to print every number greater than 50\n",
    "\n",
    "print(\"Numbers greater than 50:\")\n",
    "for number in num_list:\n",
    "    if number > 50:\n",
    "        print(number)"
   ]
  },
  {
   "cell_type": "code",
   "execution_count": 3,
   "metadata": {},
   "outputs": [
    {
     "name": "stdout",
     "output_type": "stream",
     "text": [
      "Index of first occurrence of the number 11:\n",
      "6\n"
     ]
    }
   ],
   "source": [
    "# Iterate through the provided `num_list` and use the `index` function to print the index of the first occurrence of the number 11.\n",
    "\n",
    "print(\"Index of first occurrence of the number 11:\")\n",
    "index = 0\n",
    "for number in num_list:\n",
    "    if number ==11:\n",
    "        print(index)\n",
    "    index +=1"
   ]
  },
  {
   "cell_type": "code",
   "execution_count": 7,
   "metadata": {},
   "outputs": [
    {
     "name": "stdout",
     "output_type": "stream",
     "text": [
      "Sum of all numbers:\n",
      "680\n"
     ]
    }
   ],
   "source": [
    "# Iterate through the provided 'num_list' print sum of all numbers.\n",
    "\n",
    "print(\"Sum of all numbers:\")\n",
    "sum = 0 \n",
    "for number in num_list:\n",
    "    sum += number \n",
    "print(sum)"
   ]
  },
  {
   "cell_type": "code",
   "execution_count": 17,
   "metadata": {},
   "outputs": [
    {
     "name": "stdout",
     "output_type": "stream",
     "text": [
      "Sum of all numbers greater than 50:\n",
      "509\n"
     ]
    }
   ],
   "source": [
    "# Iterate through the provided `num_list` and create an if-else statement to print the sum of all the numbers greater than 50.\n",
    "\n",
    "print(\"Sum of all numbers greater than 50:\")\n",
    "sum = 0 \n",
    "for number in num_list:\n",
    "    if number > 50:\n",
    "        sum += number \n",
    "print(sum)"
   ]
  },
  {
   "cell_type": "code",
   "execution_count": 11,
   "metadata": {},
   "outputs": [
    {
     "name": "stdout",
     "output_type": "stream",
     "text": [
      "Sum of all even numbers:\n"
     ]
    }
   ],
   "source": [
    "# Iterate through the provided `num_list` and create an if-else statement to print the sum of all the even numbers.\n",
    "\n",
    "print('Sum of all even numbers:')\n",
    "sum = 0 \n",
    "for number in num_list:\n",
    "    if number % 2 == 0:\n",
    "        sum += number "
   ]
  },
  {
   "cell_type": "code",
   "execution_count": 16,
   "metadata": {},
   "outputs": [
    {
     "name": "stdout",
     "output_type": "stream",
     "text": [
      "Number of times \"Apple\" appears in the list\n",
      "4\n"
     ]
    }
   ],
   "source": [
    "fruits = [\n",
    "  \"Apple\", \"Orange\", \"Banana\", \"Pomelo\", \"Apple\", \"Kiwi\", \"Peach\", \"Banana\", \"Grape\", \"Tomato\",\n",
    "  \"Kiwi\", \"Apple\", \"Watermelon\", \"Lemon\", \"Pomelo\", \"Apple\", \"Banana\", \"Peach\", \"Apricot\", \"Grape\"]\n",
    "\n",
    "print('Number of times \"Apple\" appears in the list')\n",
    "count = 0 \n",
    "for fruit in fruits:\n",
    "    if fruit == 'Apple':\n",
    "        count += 1 \n",
    "print(count)\n"
   ]
  },
  {
   "cell_type": "code",
   "execution_count": 15,
   "metadata": {},
   "outputs": [
    {
     "name": "stdout",
     "output_type": "stream",
     "text": [
      "Number of times \"Peach\" appears in the list:\n",
      "2\n"
     ]
    }
   ],
   "source": [
    "print('Number of times \"Peach\" appears in the list:')\n",
    "count = 0 \n",
    "for fruit in fruits: \n",
    "    if fruit == 'Peach':\n",
    "        count += 1\n",
    "print(count)"
   ]
  },
  {
   "cell_type": "code",
   "execution_count": 18,
   "metadata": {},
   "outputs": [
    {
     "name": "stdout",
     "output_type": "stream",
     "text": [
      "Number of times \"Orange\" appears in the list:\n",
      "1\n"
     ]
    }
   ],
   "source": [
    "print('Number of times \"Orange\" appears in the list:')\n",
    "count = 0 \n",
    "for fruit in fruits:\n",
    "    if fruit == 'Orange':\n",
    "        count += 1\n",
    "print(count)\n",
    "      "
   ]
  },
  {
   "cell_type": "code",
   "execution_count": 22,
   "metadata": {},
   "outputs": [],
   "source": [
    "unique_fruits = []\n",
    "for fruit in fruits: \n",
    "    if fruit not in unique_fruits:\n",
    "        unique_fruits.append(fruit)"
   ]
  },
  {
   "cell_type": "code",
   "execution_count": 23,
   "metadata": {},
   "outputs": [
    {
     "name": "stdout",
     "output_type": "stream",
     "text": [
      "Unique Fruits: ['Apple', 'Orange', 'Banana', 'Pomelo', 'Kiwi', 'Peach', 'Grape', 'Tomato', 'Watermelon', 'Lemon', 'Apricot']\n"
     ]
    }
   ],
   "source": [
    "print(f\"Unique Fruits: {unique_fruits}\")"
   ]
  },
  {
   "cell_type": "code",
   "execution_count": null,
   "metadata": {},
   "outputs": [],
   "source": []
  }
 ],
 "metadata": {
  "kernelspec": {
   "display_name": "Python 3.8.2 64-bit",
   "language": "python",
   "name": "python38264"
  },
  "language_info": {
   "codemirror_mode": {
    "name": "ipython",
    "version": 3
   },
   "file_extension": ".py",
   "mimetype": "text/x-python",
   "name": "python",
   "nbconvert_exporter": "python",
   "pygments_lexer": "ipython3",
   "version": "3.8.2"
  }
 },
 "nbformat": 4,
 "nbformat_minor": 4
}
