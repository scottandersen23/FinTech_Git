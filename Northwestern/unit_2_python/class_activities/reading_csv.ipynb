{
 "cells": [
  {
   "cell_type": "code",
   "execution_count": null,
   "metadata": {},
   "outputs": [],
   "source": [
    " ## Student Activity: Reading Stocks Data from a CSV\n",
    "1. #Import the pandas library as _pd_\n",
    " # initial imports\n",
    "    \n",
    "2. #Create a dataframe reading a CSV file\n",
    " # set the file path\n",
    "\n",
    "\n",
    " # create a Pandas dataframe from a csv file\n",
    "\n",
    "\n",
    "3. #Exploring the data\n",
    " # get the first 10 rows from the dataframe\n",
    "\n",
    "\n",
    "    \n",
    "4. #Fixing column names\n",
    " # set colum names\n",
    "\n",
    "\n",
    " # recreate the dataframe\n",
    "\n",
    "\n",
    " # add columns names\n",
    "5. Get the first 10 rows\n",
    "\n",
    "\n",
    " # get the first 10 rows from the dataframe\n",
    "    \n",
    "    \n",
    "6. Get the bottom 10 rows\n",
    "\n",
    "\n",
    " # get the bottom 10 rows from the dataframe\n",
    "    \n",
    "    "
   ]
  }
 ],
 "metadata": {
  "kernelspec": {
   "display_name": "Python 3.8.2 64-bit",
   "language": "python",
   "name": "python38264"
  },
  "language_info": {
   "codemirror_mode": {
    "name": "ipython",
    "version": 3
   },
   "file_extension": ".py",
   "mimetype": "text/x-python",
   "name": "python",
   "nbconvert_exporter": "python",
   "pygments_lexer": "ipython3",
   "version": "3.8.2"
  }
 },
 "nbformat": 4,
 "nbformat_minor": 4
}
