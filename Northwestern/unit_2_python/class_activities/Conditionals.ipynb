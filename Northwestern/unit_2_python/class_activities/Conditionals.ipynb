{
 "cells": [
  {
   "cell_type": "code",
   "execution_count": 32,
   "metadata": {},
   "outputs": [
    {
     "name": "stdout",
     "output_type": "stream",
     "text": [
      "Mr. Andersen web developer 958000.0\n"
     ]
    }
   ],
   "source": [
    "c1_name = \"Mr. Andersen\"\n",
    "c1_age = 33\n",
    "c1_profession = \"web developer\"\n",
    "c1_salary = 1000000\n",
    "c1_species = \"dog\"\n",
    "c1_location = 'San_Francisco, CA'\n",
    "c1_monthly_rent = 2000\n",
    "c1_monthly_expenses = 1500\n",
    "c1_yearly_rent = (c1_monthly_rent * 12)\n",
    "c1_yearly_expenses = (1500.00 * 12)\n",
    "c1_savings = c1_salary - (c1_yearly_rent + c1_yearly_expenses)\n",
    "\n",
    "print(c1_name, c1_profession, c1_savings)"
   ]
  },
  {
   "cell_type": "code",
   "execution_count": 33,
   "metadata": {},
   "outputs": [
    {
     "name": "stdout",
     "output_type": "stream",
     "text": [
      "Ms Nicole accountant 40000.0\n"
     ]
    }
   ],
   "source": [
    "c2_name = 'Ms Nicole'\n",
    "c2_age = 30\n",
    "c2_specices = \"mouse\"\n",
    "c2_profession = 'accountant'\n",
    "c2_salary = 70000.00\n",
    "c2_location = 'Oakland'\n",
    "c2_monthly_rent = 4000\n",
    "c2_monthly_expenses = 500\n",
    "c2_yearly_rent = (c2_monthly_rent * 12)\n",
    "c2_yearly_expenses = (c2_monthly_expenses * 12)\n",
    "c2_savings = c2_salary - (c1_yearly_rent + c2_yearly_expenses)\n",
    "\n",
    "print(c2_name, c2_profession, c2_savings)"
   ]
  },
  {
   "cell_type": "code",
   "execution_count": 34,
   "metadata": {},
   "outputs": [
    {
     "name": "stdout",
     "output_type": "stream",
     "text": [
      "Hello Mr. Andersen\n"
     ]
    }
   ],
   "source": [
    "if c1_name == (\"Mr. Andersen\"):\n",
    "    print('Hello Mr. Andersen')\n",
    "else:\n",
    "    print('Fuck')"
   ]
  },
  {
   "cell_type": "code",
   "execution_count": 35,
   "metadata": {},
   "outputs": [
    {
     "name": "stdout",
     "output_type": "stream",
     "text": [
      "Mr. Andersen is older\n"
     ]
    }
   ],
   "source": [
    "if c2_age > c1_age:\n",
    "    print(\"Ms Nicole is older than Mr. Andersen\")\n",
    "elif c1_age > c2_age: \n",
    "    print(\"Mr. Andersen is older\")\n",
    "else:\n",
    "    (c1_age == c2_age)\n",
    "    print(\"They are the same age.\")"
   ]
  },
  {
   "cell_type": "code",
   "execution_count": 37,
   "metadata": {},
   "outputs": [
    {
     "name": "stdout",
     "output_type": "stream",
     "text": [
      "Ms Nicole has the higher rent\n"
     ]
    }
   ],
   "source": [
    "if c1_monthly_rent > c2_monthly_rent:\n",
    "    print(\"Mr. Andersen's is higher\")\n",
    "elif c2_monthly_rent > c1_monthly_rent:\n",
    "    print(\"Ms Nicole has the higher rent\")\n",
    "else:\n",
    "    print('They paid the same amount')"
   ]
  },
  {
   "cell_type": "code",
   "execution_count": 38,
   "metadata": {},
   "outputs": [
    {
     "name": "stdout",
     "output_type": "stream",
     "text": [
      "930000.0\n"
     ]
    }
   ],
   "source": [
    "print(c1_salary - c2_salary)"
   ]
  },
  {
   "cell_type": "code",
   "execution_count": null,
   "metadata": {},
   "outputs": [],
   "source": []
  }
 ],
 "metadata": {
  "kernelspec": {
   "display_name": "Python 3",
   "language": "python",
   "name": "python3"
  },
  "language_info": {
   "codemirror_mode": {
    "name": "ipython",
    "version": 3
   },
   "file_extension": ".py",
   "mimetype": "text/x-python",
   "name": "python",
   "nbconvert_exporter": "python",
   "pygments_lexer": "ipython3",
   "version": "3.7.6"
  }
 },
 "nbformat": 4,
 "nbformat_minor": 4
}
