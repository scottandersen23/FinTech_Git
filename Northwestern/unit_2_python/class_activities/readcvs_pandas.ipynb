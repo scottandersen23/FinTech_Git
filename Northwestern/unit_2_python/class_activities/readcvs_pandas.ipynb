{
 "cells": [
  {
   "cell_type": "code",
   "execution_count": null,
   "metadata": {},
   "outputs": [],
   "source": [
    "#Spring Cleaning!\n",
    " #Harold's stock data is a mess! Help him clean up his data before the auditors arrive! # Import Libraries\n",
    "import pandas as pd\n",
    "\n",
    "from pathlib import Path  Load CSV data into Pandas using read_csv\n",
    "   \n",
    "Identify the number of rows and columns (shape) in the DataFrame.\n",
    "#Generate a sample of the data to visually ensure data has been loaded in correctly.\n",
    "\n",
    "\n",
    "#Identify the number of records in the DataFrame, and compare it with the number of rows in the original file.\n",
    "   \n",
    "    \n",
    "#Identify nulls records\n",
    "   \n",
    "#Drop Null Records\n",
    "   \n",
    "    \n",
    "#Validate nulls have been dropped\n",
    "#Default null ebitda values to 0. Then, validate no records are null for ebitda.\n",
    "\n",
    "\n",
    "#Drop Duplicates"
   ]
  }
 ],
 "metadata": {
  "kernelspec": {
   "display_name": "Python 3.8.2 64-bit",
   "language": "python",
   "name": "python38264"
  },
  "language_info": {
   "codemirror_mode": {
    "name": "ipython",
    "version": 3
   },
   "file_extension": ".py",
   "mimetype": "text/x-python",
   "name": "python",
   "nbconvert_exporter": "python",
   "pygments_lexer": "ipython3",
   "version": "3.8.2"
  }
 },
 "nbformat": 4,
 "nbformat_minor": 4
}
