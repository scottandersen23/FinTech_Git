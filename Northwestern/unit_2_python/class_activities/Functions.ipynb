{
 "cells": [
  {
   "cell_type": "code",
   "execution_count": 6,
   "metadata": {},
   "outputs": [
    {
     "name": "stdout",
     "output_type": "stream",
     "text": [
      "Functions are fun!\n",
      "37\n",
      "Hello World!\n"
     ]
    },
    {
     "name": "stdin",
     "output_type": "stream",
     "text": [
      "What is your name? Scott\n"
     ]
    },
    {
     "name": "stdout",
     "output_type": "stream",
     "text": [
      "Scott\n"
     ]
    },
    {
     "name": "stdin",
     "output_type": "stream",
     "text": [
      "Are you having a nice day? yes\n"
     ]
    },
    {
     "name": "stdout",
     "output_type": "stream",
     "text": [
      "yes\n"
     ]
    },
    {
     "ename": "NameError",
     "evalue": "name 'avg_calc' is not defined",
     "output_type": "error",
     "traceback": [
      "\u001b[0;31m---------------------------------------------------------------------------\u001b[0m",
      "\u001b[0;31mNameError\u001b[0m                                 Traceback (most recent call last)",
      "\u001b[0;32m<ipython-input-6-8f443a111cf3>\u001b[0m in \u001b[0;36m<module>\u001b[0;34m\u001b[0m\n\u001b[1;32m     53\u001b[0m \u001b[0;31m# Call the `average` function and assign to a variable `calculated_average`.\u001b[0m\u001b[0;34m\u001b[0m\u001b[0;34m\u001b[0m\u001b[0;34m\u001b[0m\u001b[0m\n\u001b[1;32m     54\u001b[0m \u001b[0;34m\u001b[0m\u001b[0m\n\u001b[0;32m---> 55\u001b[0;31m \u001b[0mcalculated_ave\u001b[0m \u001b[0;34m=\u001b[0m \u001b[0mavg_calc\u001b[0m\u001b[0;34m(\u001b[0m\u001b[0;36m90\u001b[0m\u001b[0;34m,\u001b[0m\u001b[0;36m10\u001b[0m\u001b[0;34m)\u001b[0m\u001b[0;34m\u001b[0m\u001b[0;34m\u001b[0m\u001b[0m\n\u001b[0m\u001b[1;32m     56\u001b[0m \u001b[0mprint\u001b[0m\u001b[0;34m(\u001b[0m\u001b[0;34mf\"Calculated Average: {calculated_ave}\"\u001b[0m\u001b[0;34m)\u001b[0m\u001b[0;34m\u001b[0m\u001b[0;34m\u001b[0m\u001b[0m\n",
      "\u001b[0;31mNameError\u001b[0m: name 'avg_calc' is not defined"
     ]
    }
   ],
   "source": [
    "#FUNCTIONS\n",
    "\n",
    "# Define a function `having_fun` that prints \"Functions are FUN!\".\n",
    "\n",
    "\n",
    "def having_fun():\n",
    "    print(\"Functions are fun!\")\n",
    "\n",
    "\n",
    "# Define a function `thirty_seven` that prints the sum of 18 and 19.\n",
    "\n",
    "def thirty_seven():\n",
    "    sum = 18 + 19\n",
    "    print(sum)\n",
    "\n",
    "# Call the two functions you've defined so far.\n",
    "\n",
    "having_fun()\n",
    "\n",
    "thirty_seven()\n",
    "# Define a function `hello` that takes in a string parameter and prints the parameter variable.\n",
    "\n",
    "def hello(string_pram):\n",
    "    print(string_pram)\n",
    "\n",
    "# Call your `hello` function.\n",
    "hello(\"Hello World!\")\n",
    "\n",
    "# Define a function `user_input` that asks the user \"What is your name?\" and stores it in a variable called `user_name` and print the user's name.\n",
    "\n",
    "def user_input():\n",
    "    user_name = input(\"What is your name?\")\n",
    "    print(user_name)\n",
    "\n",
    "# Call your `user_input` function.\n",
    "\n",
    "user_input()\n",
    "\n",
    "# Define a function `good_day` that creates a input dialogue asking the user \"Are you having a nice day?\" and prints the response.\n",
    "\n",
    "def good_day():\n",
    "    greeting = input(\"Are you having a nice day?\")\n",
    "    print(greeting)\n",
    "        \n",
    "# Call your `good_day` function.\n",
    "\n",
    "good_day()\n",
    "\n",
    "# Define a function `average` that calculates the average between two parameters and returns the average.\n",
    "\n",
    "def average(num_1, num_2):\n",
    "    avg_calc = num_1 + num_2 / 2\n",
    "    return avg_calc\n",
    "\n",
    "# Call the `average` function and assign to a variable `calculated_average`.\n",
    "\n",
    "calculated_ave = avg_calc(90,10)\n",
    "print(f\"Calculated Average: {calculated_ave}\")"
   ]
  },
  {
   "cell_type": "code",
   "execution_count": null,
   "metadata": {},
   "outputs": [],
   "source": []
  }
 ],
 "metadata": {
  "kernelspec": {
   "display_name": "Python 3.8.2 64-bit",
   "language": "python",
   "name": "python38264"
  },
  "language_info": {
   "codemirror_mode": {
    "name": "ipython",
    "version": 3
   },
   "file_extension": ".py",
   "mimetype": "text/x-python",
   "name": "python",
   "nbconvert_exporter": "python",
   "pygments_lexer": "ipython3",
   "version": "3.8.2"
  }
 },
 "nbformat": 4,
 "nbformat_minor": 4
}
