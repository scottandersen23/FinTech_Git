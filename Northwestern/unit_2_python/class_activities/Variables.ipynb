{
 "cells": [
  {
   "cell_type": "code",
   "execution_count": 2,
   "metadata": {},
   "outputs": [],
   "source": [
    "Budget = 5000"
   ]
  },
  {
   "cell_type": "code",
   "execution_count": 11,
   "metadata": {},
   "outputs": [],
   "source": [
    "rent_cost = 4000\n",
    "utilities = 1500\n",
    "food_cost = 250\n",
    "transport_cost = 250\n",
    "total_cost = [rent_cost + utilities + food_cost + transport_cost]"
   ]
  },
  {
   "cell_type": "code",
   "execution_count": 16,
   "metadata": {},
   "outputs": [
    {
     "name": "stdout",
     "output_type": "stream",
     "text": [
      "Over Budget\n"
     ]
    }
   ],
   "source": [
    "if total_cost < Budget:\n",
    "    print(\"Your're total cost is \", total_cost)\n",
    "else:\n",
    "    print('Over Budget')"
   ]
  },
  {
   "cell_type": "code",
   "execution_count": 21,
   "metadata": {},
   "outputs": [
    {
     "name": "stdout",
     "output_type": "stream",
     "text": [
      "The rent is too damn high\n"
     ]
    }
   ],
   "source": [
    "if {utilities + food_cost + transport_cost < rent_cost}:\n",
    "    print(\"The rent is too damn high\")\n",
    "else:\n",
    "    print(\"AHhhhh just right\")"
   ]
  },
  {
   "cell_type": "code",
   "execution_count": null,
   "metadata": {},
   "outputs": [],
   "source": []
  }
 ],
 "metadata": {
  "kernelspec": {
   "display_name": "Python 3",
   "language": "python",
   "name": "python3"
  },
  "language_info": {
   "codemirror_mode": {
    "name": "ipython",
    "version": 3
   },
   "file_extension": ".py",
   "mimetype": "text/x-python",
   "name": "python",
   "nbconvert_exporter": "python",
   "pygments_lexer": "ipython3",
   "version": "3.7.6"
  }
 },
 "nbformat": 4,
 "nbformat_minor": 4
}
