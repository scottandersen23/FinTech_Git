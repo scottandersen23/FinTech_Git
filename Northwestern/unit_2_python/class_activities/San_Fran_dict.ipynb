{
 "cells": [
  {
   "cell_type": "code",
   "execution_count": 34,
   "metadata": {},
   "outputs": [
    {
     "ename": "SyntaxError",
     "evalue": "invalid syntax (<ipython-input-34-564f29fc2bb1>, line 2)",
     "output_type": "error",
     "traceback": [
      "\u001b[0;36m  File \u001b[0;32m\"<ipython-input-34-564f29fc2bb1>\"\u001b[0;36m, line \u001b[0;32m2\u001b[0m\n\u001b[0;31m    san_francisco = san_francisco.items{}\u001b[0m\n\u001b[0m                                       ^\u001b[0m\n\u001b[0;31mSyntaxError\u001b[0m\u001b[0;31m:\u001b[0m invalid syntax\n"
     ]
    }
   ],
   "source": [
    "san_francisco = {}\n",
    "san_francisco = san_francisco.items()\n",
    "\n",
    "\n",
    "san_francisco = {\n",
    "     \"west_coast\": True,\n",
    "     \"has_multiple_bridges\": True,\n",
    "     \"known_for_pizza\": False,\n",
    "     \"coastal\": True,\n",
    "     \"snows\": False,\n",
    "     \"very_hot\": False,\n",
    "     \"mayor\": \"London Breed\",\n",
    "     \"state\": \"California\",\n",
    "     \"country\": \"USA\",\n",
    "     \"best_food\": \"burritos\",\n",
    "     \"sports_teams\": [\"Giants\", \"Warriors\", \"Forty-Niners\"],\n",
    "     \"tallest_building\": \"SalesForce Building\",\n",
    "     \"population\": 884363,\n",
    "     \"city_size\": \"large\",\n",
    "     \"median_house_price\": 1610000,\n",
    "     \"famous_residents\": [\"Maya Angelou\", \"Robert Frost\", \"Carlos Santana\"],\n",
    "     \"homeless_pop\": 1150,\n",
    "     \"political_leaning\": \"Democrat\",\n",
    "     \"notable_attractions\": [\"Alcatraz\", \"Golden Gate Bridge\", \"Fisherman's Wharf\"],\n",
    "     \"natural_disasters\": [\"Earthquakes\"],\n",
    " }\n",
    "    \n"
   ]
  },
  {
   "cell_type": "code",
   "execution_count": 28,
   "metadata": {},
   "outputs": [
    {
     "name": "stdout",
     "output_type": "stream",
     "text": [
      "west_coast\n",
      "has_multiple_bridges\n",
      "known_for_pizza\n",
      "coastal\n",
      "snows\n",
      "very_hot\n",
      "mayor\n",
      "state\n",
      "country\n",
      "best_food\n",
      "sports_teams\n",
      "tallest_building\n",
      "population\n",
      "city_size\n",
      "median_house_price\n",
      "famous_residents\n",
      "homeless_pop\n",
      "political_leaning\n",
      "notable_attractions\n",
      "natural_disasters\n"
     ]
    }
   ],
   "source": [
    "for key in san_francisco:\n",
    "    print(key)"
   ]
  },
  {
   "cell_type": "code",
   "execution_count": null,
   "metadata": {},
   "outputs": [],
   "source": []
  }
 ],
 "metadata": {
  "kernelspec": {
   "display_name": "Python 3",
   "language": "python",
   "name": "python3"
  },
  "language_info": {
   "codemirror_mode": {
    "name": "ipython",
    "version": 3
   },
   "file_extension": ".py",
   "mimetype": "text/x-python",
   "name": "python",
   "nbconvert_exporter": "python",
   "pygments_lexer": "ipython3",
   "version": "3.7.6"
  }
 },
 "nbformat": 4,
 "nbformat_minor": 4
}
