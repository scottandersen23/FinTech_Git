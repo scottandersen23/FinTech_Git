{
 "cells": [
  {
   "cell_type": "code",
   "execution_count": 6,
   "metadata": {},
   "outputs": [
    {
     "data": {
      "text/plain": [
       "{'apple': 5600.0, 'banana': 5000.0, 'orange': 3500.0}"
      ]
     },
     "execution_count": 6,
     "metadata": {},
     "output_type": "execute_result"
    }
   ],
   "source": [
    "## Dictionaries Practice\n",
    "\n",
    "incomes = {'apple': 5600.00, 'orange': 3500.00, 'banana': 5000.00}\n",
    "sorted_income = {k: incomes[k] for k in sorted(incomes)}\n",
    "sorted_income"
   ]
  },
  {
   "cell_type": "code",
   "execution_count": 7,
   "metadata": {},
   "outputs": [
    {
     "name": "stdout",
     "output_type": "stream",
     "text": [
      "apple , 5600.0\n",
      "banana , 5000.0\n",
      "orange , 3500.0\n"
     ]
    }
   ],
   "source": [
    "for key in sorted(incomes):\n",
    "    print(key, \",\", incomes[key])"
   ]
  },
  {
   "cell_type": "code",
   "execution_count": 8,
   "metadata": {},
   "outputs": [],
   "source": [
    "def by_value(item):\n",
    "    return item[1]"
   ]
  },
  {
   "cell_type": "code",
   "execution_count": 9,
   "metadata": {},
   "outputs": [
    {
     "name": "stdout",
     "output_type": "stream",
     "text": [
      "orange , 3500.0\n",
      "banana , 5000.0\n",
      "apple , 5600.0\n"
     ]
    }
   ],
   "source": [
    "for k, v in sorted(incomes.items(), key=by_value):\n",
    "    print(k, \",\", v)"
   ]
  },
  {
   "cell_type": "code",
   "execution_count": 10,
   "metadata": {},
   "outputs": [
    {
     "name": "stdout",
     "output_type": "stream",
     "text": [
      "3500.0\n",
      "5000.0\n",
      "5600.0\n"
     ]
    }
   ],
   "source": [
    "for value in sorted(incomes.values()):\n",
    "    print(value)"
   ]
  },
  {
   "cell_type": "code",
   "execution_count": 12,
   "metadata": {},
   "outputs": [
    {
     "name": "stdout",
     "output_type": "stream",
     "text": [
      "apple , 5600.0\n",
      "banana , 5000.0\n",
      "orange , 3500.0\n"
     ]
    }
   ],
   "source": [
    "for key in sorted(incomes, reverse=False):\n",
    "    print(key, \",\", incomes[key])"
   ]
  },
  {
   "cell_type": "code",
   "execution_count": 13,
   "metadata": {},
   "outputs": [
    {
     "data": {
      "text/plain": [
       "{'apple': 5600.0, 'orange': 3500.0, 'banana': 5000.0}"
      ]
     },
     "execution_count": 13,
     "metadata": {},
     "output_type": "execute_result"
    }
   ],
   "source": [
    "incomes"
   ]
  },
  {
   "cell_type": "code",
   "execution_count": null,
   "metadata": {},
   "outputs": [],
   "source": []
  }
 ],
 "metadata": {
  "kernelspec": {
   "display_name": "Python 3.8.2 64-bit",
   "language": "python",
   "name": "python38264"
  },
  "language_info": {
   "codemirror_mode": {
    "name": "ipython",
    "version": 3
   },
   "file_extension": ".py",
   "mimetype": "text/x-python",
   "name": "python",
   "nbconvert_exporter": "python",
   "pygments_lexer": "ipython3",
   "version": "3.8.2"
  }
 },
 "nbformat": 4,
 "nbformat_minor": 4
}
