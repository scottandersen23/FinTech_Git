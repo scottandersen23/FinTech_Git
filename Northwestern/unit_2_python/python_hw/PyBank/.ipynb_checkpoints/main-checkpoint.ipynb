{
 "cells": [
  {
   "cell_type": "markdown",
   "metadata": {},
   "source": [
    "## Scott Andersen: \n",
    "## Assignment 2, PyBank"
   ]
  },
  {
   "cell_type": "code",
   "execution_count": 1,
   "metadata": {},
   "outputs": [],
   "source": [
    "import pandas as pd\n",
    "from pathlib import Path\n",
    "import numpy as np"
   ]
  },
  {
   "cell_type": "code",
   "execution_count": 2,
   "metadata": {},
   "outputs": [],
   "source": [
    "csv_path = Path(\"FinTech_Git/NW_Folder/Northwestern/unit_2_python/python_hw/PyBank/hw_datasheet.csv\")"
   ]
  },
  {
   "cell_type": "code",
   "execution_count": 3,
   "metadata": {},
   "outputs": [
    {
     "data": {
      "text/html": [
       "<div>\n",
       "<style scoped>\n",
       "    .dataframe tbody tr th:only-of-type {\n",
       "        vertical-align: middle;\n",
       "    }\n",
       "\n",
       "    .dataframe tbody tr th {\n",
       "        vertical-align: top;\n",
       "    }\n",
       "\n",
       "    .dataframe thead th {\n",
       "        text-align: right;\n",
       "    }\n",
       "</style>\n",
       "<table border=\"1\" class=\"dataframe\">\n",
       "  <thead>\n",
       "    <tr style=\"text-align: right;\">\n",
       "      <th></th>\n",
       "      <th>Date</th>\n",
       "      <th>Profit/Losses</th>\n",
       "    </tr>\n",
       "  </thead>\n",
       "  <tbody>\n",
       "    <tr>\n",
       "      <th>0</th>\n",
       "      <td>Jan-2010</td>\n",
       "      <td>867884</td>\n",
       "    </tr>\n",
       "    <tr>\n",
       "      <th>1</th>\n",
       "      <td>Feb-2010</td>\n",
       "      <td>984655</td>\n",
       "    </tr>\n",
       "    <tr>\n",
       "      <th>2</th>\n",
       "      <td>Mar-2010</td>\n",
       "      <td>322013</td>\n",
       "    </tr>\n",
       "    <tr>\n",
       "      <th>3</th>\n",
       "      <td>Apr-2010</td>\n",
       "      <td>-69417</td>\n",
       "    </tr>\n",
       "    <tr>\n",
       "      <th>4</th>\n",
       "      <td>May-2010</td>\n",
       "      <td>310503</td>\n",
       "    </tr>\n",
       "  </tbody>\n",
       "</table>\n",
       "</div>"
      ],
      "text/plain": [
       "       Date  Profit/Losses\n",
       "0  Jan-2010         867884\n",
       "1  Feb-2010         984655\n",
       "2  Mar-2010         322013\n",
       "3  Apr-2010         -69417\n",
       "4  May-2010         310503"
      ]
     },
     "execution_count": 3,
     "metadata": {},
     "output_type": "execute_result"
    }
   ],
   "source": [
    "# Read CSV in as DataFrame\n",
    "\n",
    "budget_csv = pd.read_csv(r\"/Users/scottandersen/nu-chi-fin-pt-04-2020-u-c/02-Homework/02-Python/Instructions/PyBank/Resources/budget_data.csv\")\n",
    "budget_csv.head()\n"
   ]
  },
  {
   "cell_type": "code",
   "execution_count": 4,
   "metadata": {},
   "outputs": [
    {
     "name": "stdout",
     "output_type": "stream",
     "text": [
      "The total number of months: 86\n"
     ]
    }
   ],
   "source": [
    "# Total Number of Months in Data_Sheet\n",
    "\n",
    "#budget_data = budget_csv['Date'].value_count()\n",
    "\n",
    "total_months = budget_csv['Date'].nunique()\n",
    "print('The total number of months:', total_months)"
   ]
  },
  {
   "cell_type": "code",
   "execution_count": 5,
   "metadata": {},
   "outputs": [
    {
     "name": "stdout",
     "output_type": "stream",
     "text": [
      "The Net Total Profit is: $ 38382578\n"
     ]
    }
   ],
   "source": [
    "# Net Total Profit and Loss\n",
    "\n",
    "net_total_pnl = budget_csv['Profit/Losses'].sum()\n",
    "print('The Net Total Profit is:', '$', net_total_pnl)"
   ]
  },
  {
   "cell_type": "code",
   "execution_count": 6,
   "metadata": {},
   "outputs": [
    {
     "name": "stdout",
     "output_type": "stream",
     "text": [
      "The Average Change: -2315.1176470588234\n"
     ]
    }
   ],
   "source": [
    "# Greatest Increase in profit change\n",
    "\n",
    "change = np.diff(budget_csv[\"Profit/Losses\"])\n",
    "ave_change = np.mean(change)\n",
    "ave_change\n",
    "print(\"The Average Change:\", ave_change)"
   ]
  },
  {
   "cell_type": "code",
   "execution_count": null,
   "metadata": {},
   "outputs": [],
   "source": []
  },
  {
   "cell_type": "code",
   "execution_count": 7,
   "metadata": {},
   "outputs": [
    {
     "name": "stdout",
     "output_type": "stream",
     "text": [
      "The Largest Increase in Profit: $ 1926159\n"
     ]
    }
   ],
   "source": [
    "# Calculate the largest increase in profit change:\n",
    "largest_increase = 0\n",
    "\n",
    "for i in change:\n",
    "    integer = i\n",
    "    if integer > largest_increase:\n",
    "        largest_increase = i\n",
    "print(\"The Largest Increase in Profit:\", \"$\", largest_increase)\n"
   ]
  },
  {
   "cell_type": "code",
   "execution_count": 8,
   "metadata": {},
   "outputs": [
    {
     "name": "stdout",
     "output_type": "stream",
     "text": [
      "The Largest Decrease in Profit:,$ -2196167\n"
     ]
    }
   ],
   "source": [
    "# Calculate the largest decrease in profit change:\n",
    "\n",
    "largest_decrease = 0 \n",
    "\n",
    "for i in change:\n",
    "    integer = i\n",
    "    if integer < largest_decrease:\n",
    "        largest_decrease = i\n",
    "print(\"The Largest Decrease in Profit:,\" \"$\", largest_decrease)"
   ]
  },
  {
   "cell_type": "code",
   "execution_count": 9,
   "metadata": {},
   "outputs": [
    {
     "name": "stdout",
     "output_type": "stream",
     "text": [
      "Financial Analysis\n",
      "_______________________________\n",
      "Total Months: 86\n",
      "Total: $ 38382578\n",
      "Average Change: $ -2315.1176470588234\n",
      "Greatest Increase in Profits: $ 1926159\n",
      "Greatest Decrease in Profits: $ -2196167\n"
     ]
    }
   ],
   "source": [
    "print(\"Financial Analysis\")\n",
    "print(\"_______________________________\")\n",
    "print(f'Total Months:', total_months)\n",
    "print(f'Total:',  \"$\", net_total_pnl)\n",
    "print(f'Average Change:', \"$\", ave_change)\n",
    "print(f'Greatest Increase in Profits:',  \"$\", largest_increase)\n",
    "print(f'Greatest Decrease in Profits:',  \"$\", largest_decrease)"
   ]
  },
  {
   "cell_type": "code",
   "execution_count": null,
   "metadata": {},
   "outputs": [],
   "source": []
  },
  {
   "cell_type": "code",
   "execution_count": null,
   "metadata": {},
   "outputs": [],
   "source": []
  }
 ],
 "metadata": {
  "kernelspec": {
   "display_name": "Python 3.8.2 64-bit",
   "language": "python",
   "name": "python38264"
  },
  "language_info": {
   "codemirror_mode": {
    "name": "ipython",
    "version": 3
   },
   "file_extension": ".py",
   "mimetype": "text/x-python",
   "name": "python",
   "nbconvert_exporter": "python",
   "pygments_lexer": "ipython3",
   "version": "3.8.2"
  }
 },
 "nbformat": 4,
 "nbformat_minor": 4
}
