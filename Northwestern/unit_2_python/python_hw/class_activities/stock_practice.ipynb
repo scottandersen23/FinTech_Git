{
 "cells": [
  {
   "cell_type": "code",
   "execution_count": 6,
   "metadata": {},
   "outputs": [],
   "source": [
    "# Stock Prices \n",
    "\n",
    "price = 156\n",
    "future_val = 256\n",
    "inflation = .1\n",
    "compounding_periods = 1\n",
    "years = 2"
   ]
  },
  {
   "cell_type": "code",
   "execution_count": 7,
   "metadata": {},
   "outputs": [],
   "source": [
    "# Present Value\n",
    "\n",
    "def present_value(future_val, inflation, compounding_periods, years):\n",
    "    present_value = future_val / (( 1 + (inflation / compounding_periods)) ** (compounding_periods * years))\n",
    "    return present_value"
   ]
  },
  {
   "cell_type": "code",
   "execution_count": 8,
   "metadata": {},
   "outputs": [
    {
     "data": {
      "text/plain": [
       "211.57024793388427"
      ]
     },
     "execution_count": 8,
     "metadata": {},
     "output_type": "execute_result"
    }
   ],
   "source": [
    "present_value(future_val, inflation, compounding_periods, years)"
   ]
  },
  {
   "cell_type": "code",
   "execution_count": 9,
   "metadata": {},
   "outputs": [],
   "source": [
    "# If the present value is above the current value on the stock market, Sell!, \n",
    " #   If the present value is lower than the current value on the stock market, Buy.\n",
    "    \n"
   ]
  },
  {
   "cell_type": "code",
   "execution_count": 11,
   "metadata": {},
   "outputs": [],
   "source": [
    "def percent_increase(future_val, price):\n",
    "    percent_increase = future_val / price * 100\n",
    "    return percent_increase"
   ]
  },
  {
   "cell_type": "code",
   "execution_count": 13,
   "metadata": {},
   "outputs": [
    {
     "data": {
      "text/plain": [
       "164.1025641025641"
      ]
     },
     "execution_count": 13,
     "metadata": {},
     "output_type": "execute_result"
    }
   ],
   "source": [
    "percent_increase(future_val, price)"
   ]
  },
  {
   "cell_type": "code",
   "execution_count": null,
   "metadata": {},
   "outputs": [],
   "source": []
  }
 ],
 "metadata": {
  "kernelspec": {
   "display_name": "Python 3.8.2 64-bit",
   "language": "python",
   "name": "python38264bitef84e53cf7314827b0ed335399ee4c65"
  },
  "language_info": {
   "codemirror_mode": {
    "name": "ipython",
    "version": 3
   },
   "file_extension": ".py",
   "mimetype": "text/x-python",
   "name": "python",
   "nbconvert_exporter": "python",
   "pygments_lexer": "ipython3",
   "version": "3.8.2"
  }
 },
 "nbformat": 4,
 "nbformat_minor": 4
}
